{
 "cells": [
  {
   "cell_type": "code",
   "execution_count": 1,
   "metadata": {
    "collapsed": true
   },
   "outputs": [],
   "source": [
    "import scipy.io as sio\n",
    "import numpy as np\n",
    "import os\n",
    "import sys\n",
    "from PIL import Image\n",
    "import errno\n",
    "from sklearn.decomposition import PCA\n"
   ]
  },
  {
   "cell_type": "code",
   "execution_count": 2,
   "metadata": {
    "collapsed": true
   },
   "outputs": [],
   "source": [
    "import matplotlib.pyplot as plt\n",
    "# display plots in this notebook\n",
    "%matplotlib inline\n",
    "\n",
    " #设置默认显示参数\n",
    "plt.rcParams['figure.figsize'] = (15, 10)        # 图像显示大小\n",
    "plt.rcParams['image.interpolation'] = 'nearest'  # 最近邻差值: 像素为正方形\n",
    "plt.rcParams['image.cmap'] = 'gray'  # 使用灰度输出而不是彩色输出"
   ]
  },
  {
   "cell_type": "code",
   "execution_count": 3,
   "metadata": {
    "collapsed": false
   },
   "outputs": [
    {
     "data": {
      "text/plain": [
       "{'__globals__': [],\n",
       " '__header__': 'MATLAB 5.0 MAT-file Platform: nt, Created on: Mon May 08 13:10:30 2017',\n",
       " '__version__': '1.0',\n",
       " 'fea': array([[ 8,  9,  9, ..., 35, 36, 42],\n",
       "        [ 6,  7,  7, ..., 38, 32, 31],\n",
       "        [ 8,  8,  6, ..., 26, 25, 23],\n",
       "        ..., \n",
       "        [11, 10,  8, ..., 36, 40, 42],\n",
       "        [ 9, 11,  9, ..., 29, 31, 36],\n",
       "        [12,  9,  9, ..., 29, 34, 38]], dtype=uint8),\n",
       " 'gnd': array([[ 1],\n",
       "        [ 1],\n",
       "        [ 1],\n",
       "        ..., \n",
       "        [68],\n",
       "        [68],\n",
       "        [68]], dtype=uint8),\n",
       " 'isTest': array([[ 0.],\n",
       "        [ 0.],\n",
       "        [ 0.],\n",
       "        ..., \n",
       "        [ 1.],\n",
       "        [ 0.],\n",
       "        [ 0.]])}"
      ]
     },
     "execution_count": 3,
     "metadata": {},
     "output_type": "execute_result"
    }
   ],
   "source": [
    "mat_file = \"dataset/PIE dataset/Pose05_64x64.mat\"\n",
    "\n",
    "data = sio.loadmat(mat_file)\n",
    "\n",
    "data"
   ]
  },
  {
   "cell_type": "code",
   "execution_count": 4,
   "metadata": {
    "collapsed": false
   },
   "outputs": [
    {
     "name": "stdout",
     "output_type": "stream",
     "text": [
      "(3332, 4096)\n",
      "(64, 64)\n"
     ]
    }
   ],
   "source": [
    "print data['fea'].shape\n",
    "img = data['fea'][3222].reshape((64,64))\n",
    "print img.shape"
   ]
  },
  {
   "cell_type": "code",
   "execution_count": 5,
   "metadata": {
    "collapsed": false
   },
   "outputs": [],
   "source": [
    "def read_mat ( path ):\n",
    "    c = 0\n",
    "    X ,y ,isTest= [], [],[]\n",
    "\n",
    "    for filename in os.listdir ( path ):\n",
    "        if (filename != 'Thumbs.db'):\n",
    "            data = sio.loadmat( os.path.join ( path , filename ))\n",
    "#             np.concatenate((X, data['fea']),axis = 0)\n",
    "#             np.concatenate((y, data['gnd']),axis = 0)\n",
    "            if len(X) == 0 and len(y) == 0:\n",
    "                X = data['fea']\n",
    "                y = data['gnd']\n",
    "                isTest = data['isTest']\n",
    "            else:\n",
    "                X = np.concatenate((data['fea'], X), axis = 0)\n",
    "                y =np.concatenate((data['gnd'], y), axis = 0)\n",
    "                isTest = np.concatenate((data['isTest'],isTest), axis = 0)\n",
    "    return X, y, isTest"
   ]
  },
  {
   "cell_type": "code",
   "execution_count": 6,
   "metadata": {
    "collapsed": false
   },
   "outputs": [
    {
     "name": "stdout",
     "output_type": "stream",
     "text": [
      "(11554, 4096)\n",
      "[[ 46  52  48 ..., 226 234 238]\n",
      " [ 50  39  32 ..., 255 254 254]\n",
      " [ 47  47  39 ..., 254 254 254]\n",
      " ..., \n",
      " [ 11  10   8 ...,  36  40  42]\n",
      " [  9  11   9 ...,  29  31  36]\n",
      " [ 12   9   9 ...,  29  34  38]]\n",
      "(11554, 1)\n",
      "[[ 1]\n",
      " [ 1]\n",
      " [ 1]\n",
      " ..., \n",
      " [68]\n",
      " [68]\n",
      " [68]]\n",
      "(11554, 1)\n",
      "[[ 0.]\n",
      " [ 0.]\n",
      " [ 0.]\n",
      " ..., \n",
      " [ 1.]\n",
      " [ 0.]\n",
      " [ 0.]]\n"
     ]
    }
   ],
   "source": [
    "ROOT = 'dataset/PIE dataset/'\n",
    "X,y,isTest = read_mat(ROOT)\n",
    "X = np.array(X)\n",
    "y = np.array(y)\n",
    "isTest = np.array(isTest)\n",
    "\n",
    "print X.shape\n",
    "print X\n",
    "print y.shape\n",
    "print y\n",
    "print isTest.shape\n",
    "print isTest"
   ]
  },
  {
   "cell_type": "code",
   "execution_count": 7,
   "metadata": {
    "collapsed": false
   },
   "outputs": [
    {
     "name": "stdout",
     "output_type": "stream",
     "text": [
      "[]\n",
      "[]\n",
      "[[ 12   9   9 ...,  29  34  38]\n",
      " [  9  11   9 ...,  29  31  36]\n",
      " [  8  10  12 ...,  25  25  22]\n",
      " ..., \n",
      " [ 47  47  39 ..., 254 254 254]\n",
      " [ 50  39  32 ..., 255 254 254]\n",
      " [ 46  52  48 ..., 226 234 238]]\n",
      "(10262, 4096)\n"
     ]
    }
   ],
   "source": [
    "X_train, X_test, y_train, y_test = [],[],[],[]\n",
    "print X_train\n",
    "print y_train\n",
    "for i in np.arange(len(isTest)):\n",
    "    if(isTest[i] == 0):\n",
    "        if len(X_train) == 0 and len(y_train) == 0:\n",
    "            X_train = X[i]\n",
    "            y_train = y[i]\n",
    "        else:\n",
    "            X_train = np.vstack((X[i], X_train))\n",
    "            y_train = np.vstack((y[i], y_train))\n",
    "    else:\n",
    "        if len(X_test) == 0 and len(y_test) == 0:\n",
    "            X_test = X[i]\n",
    "            y_test = y[i]\n",
    "        else:\n",
    "            X_test = np.vstack((X[i], X_test))\n",
    "            y_test = np.vstack((y[i], y_test))\n",
    "\n",
    "print X_train\n",
    "print X_train.shape\n",
    "\n"
   ]
  },
  {
   "cell_type": "code",
   "execution_count": 8,
   "metadata": {
    "collapsed": false
   },
   "outputs": [
    {
     "name": "stdout",
     "output_type": "stream",
     "text": [
      "[[ 12   9   9 ...,  29  34  38]\n",
      " [  9  11   9 ...,  29  31  36]\n",
      " [  8  10  12 ...,  25  25  22]\n",
      " ..., \n",
      " [ 47  47  39 ..., 254 254 254]\n",
      " [ 50  39  32 ..., 255 254 254]\n",
      " [ 46  52  48 ..., 226 234 238]]\n",
      "(10262, 4096)\n",
      "[[ 11  10   8 ...,  36  40  42]\n",
      " [ 10  11  21 ...,  36  36  34]\n",
      " [  4   4   5 ...,  26  23  20]\n",
      " ..., \n",
      " [ 22  21  26 ...,  48  47  44]\n",
      " [ 16  16  17 ...,  25  25  24]\n",
      " [ 98 195 181 ...,  81  76  72]]\n",
      "(1292, 4096)\n",
      "(10262,)\n",
      "(1292,)\n"
     ]
    }
   ],
   "source": [
    "# show the shape of X_train X_test y_train y_test\n",
    "print X_train\n",
    "print X_train.shape\n",
    "print X_test\n",
    "print X_test.shape\n",
    "\n",
    "y_train = y_train.reshape(y_train.shape[0])\n",
    "y_test = y_test.reshape(y_test.shape[0])\n",
    "print y_train.shape\n",
    "print y_test.shape"
   ]
  },
  {
   "cell_type": "code",
   "execution_count": 9,
   "metadata": {
    "collapsed": false
   },
   "outputs": [
    {
     "name": "stdout",
     "output_type": "stream",
     "text": [
      "(10262, 120)\n",
      "(1292, 120)\n"
     ]
    }
   ],
   "source": [
    "pca = PCA(n_components = 120)\n",
    "\n",
    "#transform the training data\n",
    "X_train_reduced = pca.fit_transform(X_train)\n",
    "#transform the test data\n",
    "X_test_reduced = pca.transform(X_test)\n",
    "\n",
    "print X_train_reduced.shape\n",
    "print X_test_reduced.shape"
   ]
  },
  {
   "cell_type": "code",
   "execution_count": 10,
   "metadata": {
    "collapsed": false
   },
   "outputs": [
    {
     "name": "stdout",
     "output_type": "stream",
     "text": [
      "[[ -2.43277928e+03  -6.74833478e+01  -4.87219147e+02 ...,   5.82343398e+01\n",
      "    3.40027506e+01  -6.94986882e+01]\n",
      " [ -2.45639927e+03  -8.44378384e+01  -5.48539230e+02 ...,   1.70340084e+01\n",
      "    4.43035687e+01  -4.30980074e+01]\n",
      " [ -2.38265682e+03  -1.36205968e+02  -4.62705791e+02 ...,  -3.66637203e+00\n",
      "    2.13078553e+01  -7.67729606e+01]\n",
      " ..., \n",
      " [ -1.63355623e+03  -4.77781101e+02   1.08151789e+03 ...,  -1.47389071e+01\n",
      "    4.66151746e+01  -5.21594853e+01]\n",
      " [ -1.58247310e+03  -3.02480825e+02   8.38011677e+02 ...,   9.75574232e+00\n",
      "    6.32781983e+01  -3.74336798e+01]\n",
      " [ -1.25307688e+03  -7.75424043e+02   1.36646402e+03 ...,  -4.61267994e+01\n",
      "    3.47996616e+01   7.33650763e-01]]\n"
     ]
    }
   ],
   "source": [
    "print X_train_reduced"
   ]
  },
  {
   "cell_type": "code",
   "execution_count": 11,
   "metadata": {
    "collapsed": false
   },
   "outputs": [
    {
     "name": "stdout",
     "output_type": "stream",
     "text": [
      "[  4.13076070e-01   2.46189590e-01   6.59698496e-02   2.66276588e-02\n",
      "   1.70617489e-02   1.50870897e-02   1.23309186e-02   1.01160792e-02\n",
      "   7.62331167e-03   6.89811625e-03   6.53611070e-03   6.33956234e-03\n",
      "   5.68267960e-03   4.81222273e-03   4.40837025e-03   4.27961038e-03\n",
      "   4.01790274e-03   3.77814676e-03   3.39784799e-03   3.17281017e-03\n",
      "   3.09597493e-03   2.73255672e-03   2.71484640e-03   2.49212903e-03\n",
      "   2.31407048e-03   2.23869074e-03   2.01869139e-03   1.91240912e-03\n",
      "   1.86929622e-03   1.81077926e-03   1.75594079e-03   1.71005430e-03\n",
      "   1.67407562e-03   1.57775026e-03   1.53216487e-03   1.49850506e-03\n",
      "   1.42162500e-03   1.32996198e-03   1.30384803e-03   1.28683838e-03\n",
      "   1.23169113e-03   1.20491904e-03   1.16568759e-03   1.15356042e-03\n",
      "   1.10601605e-03   1.05993643e-03   1.00558412e-03   9.98067231e-04\n",
      "   9.79640521e-04   9.46252427e-04   9.39584920e-04   9.25365399e-04\n",
      "   8.88989283e-04   8.65835608e-04   8.50509803e-04   8.20778283e-04\n",
      "   8.13319450e-04   7.97953741e-04   7.91654392e-04   7.63097725e-04\n",
      "   7.31407885e-04   7.20814168e-04   7.01009729e-04   6.98923231e-04\n",
      "   6.93871828e-04   6.91456207e-04   6.65946938e-04   6.49856469e-04\n",
      "   6.35090761e-04   6.27709783e-04   6.06216243e-04   5.95358975e-04\n",
      "   5.82524782e-04   5.75907309e-04   5.69844858e-04   5.65018117e-04\n",
      "   5.52941185e-04   5.42357834e-04   5.35703804e-04   5.23081668e-04\n",
      "   5.14738723e-04   5.07096069e-04   4.96997465e-04   4.78547744e-04\n",
      "   4.70914581e-04   4.64834663e-04   4.56211387e-04   4.48780405e-04\n",
      "   4.42913488e-04   4.33139741e-04   4.30244219e-04   4.22306136e-04\n",
      "   4.18996264e-04   4.14786964e-04   4.05490164e-04   4.00366113e-04\n",
      "   3.97943015e-04   3.83795405e-04   3.81401279e-04   3.75452589e-04\n",
      "   3.73986716e-04   3.69401474e-04   3.61630716e-04   3.58116870e-04\n",
      "   3.50423753e-04   3.43925035e-04   3.42870698e-04   3.39568735e-04\n",
      "   3.31908588e-04   3.25722972e-04   3.23948183e-04   3.22797250e-04\n",
      "   3.21497676e-04   3.12252349e-04   3.07163407e-04   3.00738461e-04\n",
      "   2.98232834e-04   2.94147214e-04   2.91594617e-04   2.84558397e-04]\n"
     ]
    }
   ],
   "source": [
    "print pca.explained_variance_ratio_"
   ]
  },
  {
   "cell_type": "code",
   "execution_count": 12,
   "metadata": {
    "collapsed": false
   },
   "outputs": [
    {
     "name": "stdout",
     "output_type": "stream",
     "text": [
      "             precision    recall  f1-score   support\n",
      "\n",
      "          1     1.0000    1.0000    1.0000        19\n",
      "          2     1.0000    1.0000    1.0000        19\n",
      "          3     0.9048    1.0000    0.9500        19\n",
      "          4     1.0000    1.0000    1.0000        19\n",
      "          5     0.9474    0.9474    0.9474        19\n",
      "          6     1.0000    1.0000    1.0000        19\n",
      "          7     1.0000    1.0000    1.0000        19\n",
      "          8     0.9500    1.0000    0.9744        19\n",
      "          9     0.8636    1.0000    0.9268        19\n",
      "         10     0.9474    0.9474    0.9474        19\n",
      "         11     1.0000    1.0000    1.0000        19\n",
      "         12     1.0000    1.0000    1.0000        19\n",
      "         13     0.9048    1.0000    0.9500        19\n",
      "         14     1.0000    0.9474    0.9730        19\n",
      "         15     1.0000    0.9474    0.9730        19\n",
      "         16     0.9500    1.0000    0.9744        19\n",
      "         17     0.9000    0.9474    0.9231        19\n",
      "         18     1.0000    1.0000    1.0000        19\n",
      "         19     1.0000    0.8421    0.9143        19\n",
      "         20     1.0000    1.0000    1.0000        19\n",
      "         21     1.0000    0.9474    0.9730        19\n",
      "         22     1.0000    1.0000    1.0000        19\n",
      "         23     1.0000    1.0000    1.0000        19\n",
      "         24     1.0000    1.0000    1.0000        19\n",
      "         25     1.0000    0.9474    0.9730        19\n",
      "         26     1.0000    1.0000    1.0000        19\n",
      "         27     0.9048    1.0000    0.9500        19\n",
      "         28     0.9444    0.8947    0.9189        19\n",
      "         29     0.9444    0.8947    0.9189        19\n",
      "         30     1.0000    1.0000    1.0000        19\n",
      "         31     0.9474    0.9474    0.9474        19\n",
      "         32     0.9444    0.8947    0.9189        19\n",
      "         33     0.8947    0.8947    0.8947        19\n",
      "         34     0.8636    1.0000    0.9268        19\n",
      "         35     1.0000    1.0000    1.0000        19\n",
      "         36     0.9500    1.0000    0.9744        19\n",
      "         37     1.0000    0.9474    0.9730        19\n",
      "         38     1.0000    0.9474    0.9730        19\n",
      "         39     1.0000    1.0000    1.0000        19\n",
      "         40     1.0000    1.0000    1.0000        19\n",
      "         41     1.0000    1.0000    1.0000        19\n",
      "         42     1.0000    0.9474    0.9730        19\n",
      "         43     1.0000    1.0000    1.0000        19\n",
      "         44     1.0000    0.9474    0.9730        19\n",
      "         45     1.0000    1.0000    1.0000        19\n",
      "         46     1.0000    0.9474    0.9730        19\n",
      "         47     0.9500    1.0000    0.9744        19\n",
      "         48     1.0000    1.0000    1.0000        19\n",
      "         49     0.9048    1.0000    0.9500        19\n",
      "         50     0.9500    1.0000    0.9744        19\n",
      "         51     1.0000    1.0000    1.0000        19\n",
      "         52     0.9048    1.0000    0.9500        19\n",
      "         53     0.9500    1.0000    0.9744        19\n",
      "         54     1.0000    0.9474    0.9730        19\n",
      "         55     0.9048    1.0000    0.9500        19\n",
      "         56     0.9048    1.0000    0.9500        19\n",
      "         57     1.0000    1.0000    1.0000        19\n",
      "         58     1.0000    0.8947    0.9444        19\n",
      "         59     1.0000    0.8947    0.9444        19\n",
      "         60     1.0000    1.0000    1.0000        19\n",
      "         61     1.0000    0.9474    0.9730        19\n",
      "         62     1.0000    1.0000    1.0000        19\n",
      "         63     1.0000    0.9474    0.9730        19\n",
      "         64     1.0000    0.8947    0.9444        19\n",
      "         65     1.0000    1.0000    1.0000        19\n",
      "         66     1.0000    0.9474    0.9730        19\n",
      "         67     1.0000    0.8947    0.9444        19\n",
      "         68     1.0000    1.0000    1.0000        19\n",
      "\n",
      "avg / total     0.9740    0.9721    0.9722      1292\n",
      "\n"
     ]
    }
   ],
   "source": [
    "from sklearn.linear_model import LogisticRegression\n",
    "from sklearn.metrics import classification_report\n",
    "\n",
    "model = LogisticRegression()\n",
    "\n",
    "#train\n",
    "model.fit(X_train_reduced, y_train)\n",
    "predictions = model.predict(X_test_reduced)\n",
    "\n",
    "print classification_report(y_test, predictions, digits = 4)"
   ]
  },
  {
   "cell_type": "code",
   "execution_count": 17,
   "metadata": {
    "collapsed": false
   },
   "outputs": [
    {
     "name": "stdout",
     "output_type": "stream",
     "text": [
      "             precision    recall  f1-score   support\n",
      "\n",
      "          1     1.0000    0.9474    0.9730        19\n",
      "          2     1.0000    0.6316    0.7742        19\n",
      "          3     1.0000    1.0000    1.0000        19\n",
      "          4     0.9474    0.9474    0.9474        19\n",
      "          5     0.7083    0.8947    0.7907        19\n",
      "          6     0.9500    1.0000    0.9744        19\n",
      "          7     1.0000    0.7895    0.8824        19\n",
      "          8     1.0000    0.7895    0.8824        19\n",
      "          9     0.8750    0.7368    0.8000        19\n",
      "         10     0.7826    0.9474    0.8571        19\n",
      "         11     0.8947    0.8947    0.8947        19\n",
      "         12     0.8261    1.0000    0.9048        19\n",
      "         13     0.9375    0.7895    0.8571        19\n",
      "         14     1.0000    0.9474    0.9730        19\n",
      "         15     1.0000    0.8947    0.9444        19\n",
      "         16     0.9412    0.8421    0.8889        19\n",
      "         17     0.8571    0.9474    0.9000        19\n",
      "         18     0.9500    1.0000    0.9744        19\n",
      "         19     0.9412    0.8421    0.8889        19\n",
      "         20     0.8261    1.0000    0.9048        19\n",
      "         21     0.8333    0.7895    0.8108        19\n",
      "         22     0.8947    0.8947    0.8947        19\n",
      "         23     0.9000    0.9474    0.9231        19\n",
      "         24     0.9500    1.0000    0.9744        19\n",
      "         25     0.7083    0.8947    0.7907        19\n",
      "         26     1.0000    0.8947    0.9444        19\n",
      "         27     0.9474    0.9474    0.9474        19\n",
      "         28     0.8750    0.7368    0.8000        19\n",
      "         29     1.0000    0.6842    0.8125        19\n",
      "         30     0.8889    0.8421    0.8649        19\n",
      "         31     0.9444    0.8947    0.9189        19\n",
      "         32     0.8000    0.8421    0.8205        19\n",
      "         33     0.8889    0.8421    0.8649        19\n",
      "         34     0.6875    0.5789    0.6286        19\n",
      "         35     0.8182    0.9474    0.8780        19\n",
      "         36     0.7826    0.9474    0.8571        19\n",
      "         37     0.8889    0.8421    0.8649        19\n",
      "         38     0.8571    0.9474    0.9000        19\n",
      "         39     1.0000    0.8421    0.9143        19\n",
      "         40     0.8571    0.9474    0.9000        19\n",
      "         41     1.0000    1.0000    1.0000        19\n",
      "         42     1.0000    0.8421    0.9143        19\n",
      "         43     0.9444    0.8947    0.9189        19\n",
      "         44     1.0000    0.6842    0.8125        19\n",
      "         45     0.8571    0.9474    0.9000        19\n",
      "         46     0.8095    0.8947    0.8500        19\n",
      "         47     0.8750    0.7368    0.8000        19\n",
      "         48     0.8261    1.0000    0.9048        19\n",
      "         49     0.9000    0.9474    0.9231        19\n",
      "         50     0.8261    1.0000    0.9048        19\n",
      "         51     0.7917    1.0000    0.8837        19\n",
      "         52     0.8889    0.8421    0.8649        19\n",
      "         53     0.8421    0.8421    0.8421        19\n",
      "         54     1.0000    0.9474    0.9730        19\n",
      "         55     0.7308    1.0000    0.8444        19\n",
      "         56     0.9444    0.8947    0.9189        19\n",
      "         57     0.9500    1.0000    0.9744        19\n",
      "         58     0.8095    0.8947    0.8500        19\n",
      "         59     1.0000    0.7895    0.8824        19\n",
      "         60     0.6333    1.0000    0.7755        19\n",
      "         61     0.7500    0.9474    0.8372        19\n",
      "         62     1.0000    0.8947    0.9444        19\n",
      "         63     0.9474    0.9474    0.9474        19\n",
      "         64     0.8333    0.7895    0.8108        19\n",
      "         65     0.8000    0.8421    0.8205        19\n",
      "         66     0.9375    0.7895    0.8571        19\n",
      "         67     1.0000    0.7368    0.8485        19\n",
      "         68     1.0000    0.8421    0.9143        19\n",
      "\n",
      "avg / total     0.8950    0.8831    0.8829      1292\n",
      "\n"
     ]
    }
   ],
   "source": [
    "### PCA + SVM \n",
    "from sklearn.svm import LinearSVC\n",
    "SVM = LinearSVC(C=0.000000165, random_state=42)\n",
    "\n",
    "SVM.fit(X_train_reduced, y_train)\n",
    "predictions = SVM.predict(X_test_reduced)\n",
    "print classification_report(y_test, predictions, digits = 4)\n"
   ]
  },
  {
   "cell_type": "code",
   "execution_count": 10,
   "metadata": {
    "collapsed": false
   },
   "outputs": [
    {
     "data": {
      "text/plain": [
       "<matplotlib.image.AxesImage at 0x1146bf0d0>"
      ]
     },
     "execution_count": 10,
     "metadata": {},
     "output_type": "execute_result"
    },
    {
     "data": {
      "image/png": "[encoded data removed]",
      "text/plain": [
       "<matplotlib.figure.Figure at 0x1026def90>"
      ]
     },
     "metadata": {},
     "output_type": "display_data"
    }
   ],
   "source": [
    "from skimage.feature import local_binary_pattern\n",
    "\n",
    "## setting for LBP\n",
    "radius = 1\n",
    "n_points = 8 * radius\n",
    "\n",
    "lbp = local_binary_pattern(img, n_points, radius, method = 'ror')\n",
    "plt.imshow(lbp, interpolation='nearest')\n"
   ]
  },
  {
   "cell_type": "code",
   "execution_count": 11,
   "metadata": {
    "collapsed": false
   },
   "outputs": [
    {
     "data": {
      "text/plain": [
       "(array([ 255.,  297.,  257.,  535.,  782.,  575.,  241.,  301.,  357.,\n",
       "         496.,    0.,    0.,    0.,    0.,    0.,    0.,    0.,    0.,\n",
       "           0.,    0.,    0.,    0.,    0.,    0.,    0.,    0.,    0.,\n",
       "           0.,    0.,    0.,    0.,    0.,    0.,    0.,    0.,    0.,\n",
       "           0.,    0.,    0.,    0.,    0.,    0.,    0.,    0.,    0.,\n",
       "           0.,    0.,    0.,    0.,    0.,    0.,    0.,    0.,    0.,\n",
       "           0.,    0.,    0.,    0.,    0.,    0.,    0.,    0.,    0.,\n",
       "           0.,    0.,    0.,    0.,    0.,    0.,    0.,    0.,    0.,\n",
       "           0.,    0.,    0.,    0.,    0.,    0.,    0.,    0.,    0.,\n",
       "           0.,    0.,    0.,    0.,    0.,    0.,    0.,    0.,    0.,\n",
       "           0.,    0.,    0.,    0.,    0.,    0.,    0.,    0.,    0.,\n",
       "           0.,    0.,    0.,    0.,    0.,    0.,    0.,    0.,    0.,\n",
       "           0.,    0.,    0.,    0.,    0.,    0.,    0.,    0.,    0.,\n",
       "           0.,    0.,    0.,    0.,    0.,    0.,    0.,    0.,    0.,\n",
       "           0.,    0.,    0.,    0.,    0.,    0.,    0.,    0.,    0.,\n",
       "           0.,    0.,    0.,    0.,    0.,    0.,    0.,    0.,    0.,\n",
       "           0.,    0.,    0.,    0.,    0.,    0.,    0.,    0.,    0.,\n",
       "           0.,    0.,    0.,    0.,    0.,    0.,    0.,    0.,    0.,\n",
       "           0.,    0.,    0.,    0.,    0.,    0.,    0.,    0.,    0.,\n",
       "           0.,    0.,    0.,    0.,    0.,    0.,    0.,    0.,    0.,\n",
       "           0.,    0.,    0.,    0.,    0.,    0.,    0.,    0.,    0.,\n",
       "           0.,    0.,    0.,    0.,    0.,    0.,    0.,    0.,    0.,\n",
       "           0.,    0.,    0.,    0.,    0.,    0.,    0.,    0.,    0.,\n",
       "           0.,    0.,    0.,    0.,    0.,    0.,    0.,    0.,    0.,\n",
       "           0.,    0.,    0.,    0.,    0.,    0.,    0.,    0.,    0.,\n",
       "           0.,    0.,    0.,    0.,    0.,    0.,    0.,    0.,    0.,\n",
       "           0.,    0.,    0.,    0.,    0.,    0.,    0.,    0.,    0.,\n",
       "           0.,    0.,    0.,    0.,    0.,    0.,    0.,    0.,    0.,\n",
       "           0.,    0.,    0.,    0.]),\n",
       " array([   0.,    1.,    2.,    3.,    4.,    5.,    6.,    7.,    8.,\n",
       "           9.,   10.,   11.,   12.,   13.,   14.,   15.,   16.,   17.,\n",
       "          18.,   19.,   20.,   21.,   22.,   23.,   24.,   25.,   26.,\n",
       "          27.,   28.,   29.,   30.,   31.,   32.,   33.,   34.,   35.,\n",
       "          36.,   37.,   38.,   39.,   40.,   41.,   42.,   43.,   44.,\n",
       "          45.,   46.,   47.,   48.,   49.,   50.,   51.,   52.,   53.,\n",
       "          54.,   55.,   56.,   57.,   58.,   59.,   60.,   61.,   62.,\n",
       "          63.,   64.,   65.,   66.,   67.,   68.,   69.,   70.,   71.,\n",
       "          72.,   73.,   74.,   75.,   76.,   77.,   78.,   79.,   80.,\n",
       "          81.,   82.,   83.,   84.,   85.,   86.,   87.,   88.,   89.,\n",
       "          90.,   91.,   92.,   93.,   94.,   95.,   96.,   97.,   98.,\n",
       "          99.,  100.,  101.,  102.,  103.,  104.,  105.,  106.,  107.,\n",
       "         108.,  109.,  110.,  111.,  112.,  113.,  114.,  115.,  116.,\n",
       "         117.,  118.,  119.,  120.,  121.,  122.,  123.,  124.,  125.,\n",
       "         126.,  127.,  128.,  129.,  130.,  131.,  132.,  133.,  134.,\n",
       "         135.,  136.,  137.,  138.,  139.,  140.,  141.,  142.,  143.,\n",
       "         144.,  145.,  146.,  147.,  148.,  149.,  150.,  151.,  152.,\n",
       "         153.,  154.,  155.,  156.,  157.,  158.,  159.,  160.,  161.,\n",
       "         162.,  163.,  164.,  165.,  166.,  167.,  168.,  169.,  170.,\n",
       "         171.,  172.,  173.,  174.,  175.,  176.,  177.,  178.,  179.,\n",
       "         180.,  181.,  182.,  183.,  184.,  185.,  186.,  187.,  188.,\n",
       "         189.,  190.,  191.,  192.,  193.,  194.,  195.,  196.,  197.,\n",
       "         198.,  199.,  200.,  201.,  202.,  203.,  204.,  205.,  206.,\n",
       "         207.,  208.,  209.,  210.,  211.,  212.,  213.,  214.,  215.,\n",
       "         216.,  217.,  218.,  219.,  220.,  221.,  222.,  223.,  224.,\n",
       "         225.,  226.,  227.,  228.,  229.,  230.,  231.,  232.,  233.,\n",
       "         234.,  235.,  236.,  237.,  238.,  239.,  240.,  241.,  242.,\n",
       "         243.,  244.,  245.,  246.,  247.,  248.,  249.,  250.,  251.,\n",
       "         252.,  253.,  254.,  255.,  256.]),\n",
       " <a list of 256 Patch objects>)"
      ]
     },
     "execution_count": 11,
     "metadata": {},
     "output_type": "execute_result"
    },
    {
     "data": {
      "image/png": "[encoded data removed]",
      "text/plain": [
       "<matplotlib.figure.Figure at 0x10ab7df50>"
      ]
     },
     "metadata": {},
     "output_type": "display_data"
    }
   ],
   "source": [
    "radius = 1\n",
    "n_points = 8\n",
    "n_bins = 256\n",
    "\n",
    "img1 = X_train[8000].reshape((64,64))\n",
    "img2 = X_train[8010].reshape((64,64))\n",
    "img3 = X_train[8040].reshape((64,64))\n",
    "img4 = X_train[10].reshape((64,64))\n",
    "\n",
    "lbp_img1 = local_binary_pattern(img1, n_points, radius, method = 'uniform')\n",
    "lbp_img2 = local_binary_pattern(img2, n_points, radius, method = 'uniform')\n",
    "lbp_img3 = local_binary_pattern(img3, n_points, radius, method = 'uniform')\n",
    "lbp_img4 = local_binary_pattern(img4, n_points, radius, method = 'uniform')\n",
    "\n",
    "f, ((ax1, ax2, ax3, ax4),(ax5, ax6, ax7, ax8),(ax9, ax10, ax11, ax12)) = plt.subplots(3, 4)\n",
    "ax1.imshow(img1, interpolation='nearest')\n",
    "ax2.imshow(img2, interpolation='nearest')\n",
    "ax3.imshow(img3, interpolation='nearest')\n",
    "ax4.imshow(img4, interpolation='nearest')\n",
    "\n",
    "ax5.imshow(lbp_img1, interpolation='nearest')\n",
    "ax6.imshow(lbp_img2, interpolation='nearest')\n",
    "ax7.imshow(lbp_img3, interpolation='nearest')\n",
    "ax8.imshow(lbp_img4, interpolation='nearest')\n",
    "\n",
    "ax9.hist(lbp_img1.ravel(), bins= n_bins, range = (0, n_bins))\n",
    "ax10.hist(lbp_img2.ravel(), bins= n_bins, range = (0, n_bins))\n",
    "ax11.hist(lbp_img3.ravel(), bins= n_bins, range = (0, n_bins))\n",
    "ax12.hist(lbp_img4.ravel(), bins= n_bins, range = (0, n_bins))\n"
   ]
  },
  {
   "cell_type": "code",
   "execution_count": 199,
   "metadata": {
    "collapsed": false
   },
   "outputs": [
    {
     "data": {
      "text/plain": [
       "(array([ 230.,  317.,    0.,  337.,    0.,   59.,    0.,  532.,    0.,\n",
       "          25.,    0.,   35.,    0.,   56.,    0.,  734.,    0.,   24.,\n",
       "           0.,   25.,    0.,   12.,    0.,   42.,    0.,   32.,    0.,\n",
       "          24.,    0.,   46.,    0.,  482.,    0.,    0.,    0.,    0.,\n",
       "           0.,    3.,    0.,   18.,    0.,    0.,    0.,    3.,    0.,\n",
       "           5.,    0.,   46.,    0.,    0.,    0.,    3.,    0.,    4.,\n",
       "           0.,   24.,    0.,    0.,    0.,   21.,    0.,   56.,    0.,  236.]),\n",
       " array([  0.,   1.,   2.,   3.,   4.,   5.,   6.,   7.,   8.,   9.,  10.,\n",
       "         11.,  12.,  13.,  14.,  15.,  16.,  17.,  18.,  19.,  20.,  21.,\n",
       "         22.,  23.,  24.,  25.,  26.,  27.,  28.,  29.,  30.,  31.,  32.,\n",
       "         33.,  34.,  35.,  36.,  37.,  38.,  39.,  40.,  41.,  42.,  43.,\n",
       "         44.,  45.,  46.,  47.,  48.,  49.,  50.,  51.,  52.,  53.,  54.,\n",
       "         55.,  56.,  57.,  58.,  59.,  60.,  61.,  62.,  63.,  64.]),\n",
       " <a list of 64 Patch objects>)"
      ]
     },
     "execution_count": 199,
     "metadata": {},
     "output_type": "execute_result"
    },
    {
     "data": {
      "image/png": "[encoded data removed]",
      "text/plain": [
       "<matplotlib.figure.Figure at 0x16c89b990>"
      ]
     },
     "metadata": {},
     "output_type": "display_data"
    }
   ],
   "source": [
    "radius = 2\n",
    "n_points = 8\n",
    "n_bins = 64\n",
    "\n",
    "img1 = X_train[8000].reshape((64,64))\n",
    "img2 = X_train[8010].reshape((64,64))\n",
    "img3 = X_train[8040].reshape((64,64))\n",
    "img4 = X_train[10].reshape((64,64))\n",
    "\n",
    "lbp_img1 = local_binary_pattern(img1, n_points, radius, method = 'ror')\n",
    "lbp_img2 = local_binary_pattern(img2, n_points, radius, method = 'ror')\n",
    "lbp_img3 = local_binary_pattern(img3, n_points, radius, method = 'ror')\n",
    "lbp_img4 = local_binary_pattern(img4, n_points, radius, method = 'ror')\n",
    "\n",
    "f, ((ax1, ax2, ax3, ax4),(ax5, ax6, ax7, ax8),(ax9, ax10, ax11, ax12)) = plt.subplots(3, 4)\n",
    "ax1.imshow(img1, interpolation='nearest')\n",
    "ax2.imshow(img2, interpolation='nearest')\n",
    "ax3.imshow(img3, interpolation='nearest')\n",
    "ax4.imshow(img4, interpolation='nearest')\n",
    "\n",
    "ax5.imshow(lbp_img1, interpolation='nearest')\n",
    "ax6.imshow(lbp_img2, interpolation='nearest')\n",
    "ax7.imshow(lbp_img3, interpolation='nearest')\n",
    "ax8.imshow(lbp_img4, interpolation='nearest')\n",
    "\n",
    "ax9.hist(lbp_img1.ravel(), bins= n_bins, range = (0, n_bins))\n",
    "ax10.hist(lbp_img2.ravel(), bins= n_bins, range = (0, n_bins))\n",
    "ax11.hist(lbp_img3.ravel(), bins= n_bins, range = (0, n_bins))\n",
    "ax12.hist(lbp_img4.ravel(), bins= n_bins, range = (0, n_bins))\n"
   ]
  },
  {
   "cell_type": "code",
   "execution_count": 181,
   "metadata": {
    "collapsed": false
   },
   "outputs": [],
   "source": [
    "def kullback_leibler_divergence(p, q):\n",
    "    p = np.asarray(p)\n",
    "    q = np.asarray(q)\n",
    "    filt = np.logical_and(p != 0, q != 0)\n",
    "    return np.sum(p[filt] * np.log2(p[filt] / q[filt]))\n",
    "\n",
    "\n",
    "def match(refs, img):\n",
    "    best_score = 10\n",
    "    best_name = None\n",
    "    lbp = local_binary_pattern(img, n_points, radius, METHOD)\n",
    "    n_bins = int(lbp.max() + 1)\n",
    "    hist, _ = np.histogram(lbp, normed=True, bins=n_bins, range=(0, n_bins))\n",
    "    for name, ref in refs.items():\n",
    "        ref_hist, _ = np.histogram(ref, normed=True, bins=n_bins,\n",
    "                                   range=(0, n_bins))\n",
    "        score = kullback_leibler_divergence(hist, ref_hist)\n",
    "        if score < best_score:\n",
    "            best_score = score\n",
    "            best_name = name\n",
    "    return best_name"
   ]
  },
  {
   "cell_type": "code",
   "execution_count": 37,
   "metadata": {
    "collapsed": false
   },
   "outputs": [
    {
     "name": "stdout",
     "output_type": "stream",
     "text": [
      "[[[   0.  113.   49. ...,  112.  112.  112.]\n",
      "  [  69.    0.  255. ...,  120.  248.  124.]\n",
      "  [  70.   60.   24. ...,  120.  248.  112.]\n",
      "  ..., \n",
      "  [ 193.  241.  119. ...,  129.  195.  100.]\n",
      "  [   7.   31.   28. ...,  247.  193.   64.]\n",
      "  [   7.   30.   31. ...,   27.    3.    0.]]\n",
      "\n",
      " [[ 193.    0.   16. ...,  112.  240.  112.]\n",
      "  [  66.  124.  191. ...,  120.  120.  112.]\n",
      "  [  68.   60.  255. ...,  120.  248.  120.]\n",
      "  ..., \n",
      "  [ 199.  255.  253. ...,    2.  255.   68.]\n",
      "  [ 199.  225.  241. ...,  199.  195.   64.]\n",
      "  [   0.   23.   31. ...,    3.    7.    0.]]\n",
      "\n",
      " [[ 193.  193.   64. ...,  240.  112.  112.]\n",
      "  [ 135.    3.    4. ...,  248.  112.  120.]\n",
      "  [ 199.   70.   60. ...,  240.  112.  120.]\n",
      "  ..., \n",
      "  [  68.  253.  249. ...,   31.   30.   28.]\n",
      "  [ 197.  241.  241. ...,   30.   63.   12.]\n",
      "  [   7.   31.   31. ...,   31.   30.   28.]]\n",
      "\n",
      " ..., \n",
      " [[ 193.  112.   48. ...,  129.  193.    0.]\n",
      "  [  64.   60.  252. ...,  135.  195.    4.]\n",
      "  [   0.   60.  249. ...,  135.  195.   68.]\n",
      "  ..., \n",
      "  [ 135.    7.   15. ...,  241.  243.  116.]\n",
      "  [ 199.  207.   15. ...,  255.  255.  124.]\n",
      "  [   3.    7.   31. ...,   31.   31.   28.]]\n",
      "\n",
      " [[   0.  112.  177. ...,  129.  193.   64.]\n",
      "  [  68.  120.  255. ...,  135.  131.   64.]\n",
      "  [  68.  120.   56. ...,  255.  135.    0.]\n",
      "  ..., \n",
      "  [ 195.    3.   31. ...,  224.  240.  112.]\n",
      "  [  64.  254.  255. ...,  224.  240.  112.]\n",
      "  [   0.   25.   17. ...,   16.   17.   16.]]\n",
      "\n",
      " [[ 193.    0.  112. ...,    0.  177.    0.]\n",
      "  [ 194.  255.    0. ...,  124.  255.    4.]\n",
      "  [ 192.  251.  244. ...,   72.  179.   68.]\n",
      "  ..., \n",
      "  [ 196.  249.   32. ...,   31.   31.    0.]\n",
      "  [  64.  112.  255. ...,   31.   15.   28.]\n",
      "  [   0.   24.   24. ...,   15.   15.   12.]]]\n"
     ]
    }
   ],
   "source": [
    "print X_lbp_train"
   ]
  },
  {
   "cell_type": "code",
   "execution_count": 182,
   "metadata": {
    "collapsed": false
   },
   "outputs": [],
   "source": [
    "eps = 1e-7\n",
    "\n",
    "N = X_train.shape[0]\n",
    "X_lbp_train = np.zeros((N,64,64))\n",
    "hist_train = np.zeros((N,n_bins,))\n",
    "for i in np.arange(N):\n",
    "    X_lbp_train[i] = local_binary_pattern(X_train[i].reshape(64,64), n_points, radius, method = 'ror')\n",
    "    (hist_train[i], _) = np.histogram(X_lbp_train[i].ravel(), bins= n_bins, range = (0, n_bins))\n",
    "    hist_train[i] = hist_train[i].astype(\"float\")\n",
    "    hist_train[i] /= (hist_train[i].sum() + eps)\n",
    "    \n",
    "    "
   ]
  },
  {
   "cell_type": "code",
   "execution_count": 183,
   "metadata": {
    "collapsed": false
   },
   "outputs": [
    {
     "name": "stdout",
     "output_type": "stream",
     "text": [
      "[[ 0.27862069  0.20137931  0.         ...,  0.01103448  0.          0.15172414]\n",
      " [ 0.2894356   0.22141823  0.         ...,  0.01013025  0.          0.13603473]\n",
      " [ 0.24123422  0.22580645  0.         ...,  0.00701262  0.          0.15708275]\n",
      " ..., \n",
      " [ 0.27503338  0.1975968   0.         ...,  0.00267023  0.          0.1682243 ]\n",
      " [ 0.29338843  0.19559229  0.         ...,  0.00550964  0.          0.17906336]\n",
      " [ 0.30165913  0.23831071  0.         ...,  0.01357466  0.          0.15987934]]\n",
      "(10262, 16)\n"
     ]
    }
   ],
   "source": [
    "print hist_train\n",
    "print hist_train.shape"
   ]
  },
  {
   "cell_type": "code",
   "execution_count": 184,
   "metadata": {
    "collapsed": false
   },
   "outputs": [],
   "source": [
    "N_test = X_test.shape[0]\n",
    "X_lbp_test = np.zeros((N_test,64,64))\n",
    "hist_test = np.zeros((N_test,n_bins,))\n",
    "for i in np.arange(N_test):\n",
    "    X_lbp_test[i] = local_binary_pattern(X_test[i].reshape(64,64), n_points, radius, method = 'ror')\n",
    "    (hist_test[i], _) = np.histogram(X_lbp_test[i].ravel(), bins= n_bins, range=(0, n_bins), density=True)\n",
    "    \n",
    "    "
   ]
  },
  {
   "cell_type": "code",
   "execution_count": 185,
   "metadata": {
    "collapsed": false
   },
   "outputs": [
    {
     "name": "stdout",
     "output_type": "stream",
     "text": [
      "[ 0.26744186  0.2630814   0.          0.17587209  0.          0.00290698\n",
      "  0.          0.12645349  0.          0.00436047  0.          0.00290698\n",
      "  0.          0.00436047  0.          0.15261628]\n",
      "(1292, 16)\n",
      "[  1.   1.   7. ...,  15.   0.   0.]\n",
      "(4096,)\n"
     ]
    }
   ],
   "source": [
    "print hist_test[0][:255]\n",
    "print hist_test.shape\n",
    "print X_lbp_test[0].ravel()\n",
    "print X_lbp_test[0].ravel().shape"
   ]
  },
  {
   "cell_type": "code",
   "execution_count": 186,
   "metadata": {
    "collapsed": false
   },
   "outputs": [
    {
     "name": "stdout",
     "output_type": "stream",
     "text": [
      "0.016253869969\n",
      "[25 57 24 ..., 46 22 24]\n",
      "(1292,)\n"
     ]
    }
   ],
   "source": [
    "from sklearn.metrics import classification_report\n",
    "from sklearn.linear_model import LogisticRegression\n",
    "from sklearn.neural_network import MLPClassifier\n",
    "from sklearn.svm import SVR\n",
    "from sklearn.multiclass import OneVsRestClassifier\n",
    "\n",
    "model = SVR(C=1000, kernel ='linear')\n",
    "print OneVsRestClassifier(model,-1).fit(hist_train, y_train).score(hist_test, y_test)\n",
    "\n",
    "print predictions\n",
    "print predictions.shape"
   ]
  },
  {
   "cell_type": "code",
   "execution_count": 172,
   "metadata": {
    "collapsed": false
   },
   "outputs": [
    {
     "name": "stdout",
     "output_type": "stream",
     "text": [
      "             precision    recall  f1-score   support\n",
      "\n",
      "          1     0.0000    0.0000    0.0000        19\n",
      "          2     0.0000    0.0000    0.0000        19\n",
      "          3     0.0000    0.0000    0.0000        19\n",
      "          4     0.0000    0.0000    0.0000        19\n",
      "          5     0.1818    0.1053    0.1333        19\n",
      "          6     0.0000    0.0000    0.0000        19\n",
      "          7     0.0000    0.0000    0.0000        19\n",
      "          8     0.0000    0.0000    0.0000        19\n",
      "          9     0.0000    0.0000    0.0000        19\n",
      "         10     0.0769    0.1053    0.0889        19\n",
      "         11     0.0000    0.0000    0.0000        19\n",
      "         12     0.0000    0.0000    0.0000        19\n",
      "         13     0.0000    0.0000    0.0000        19\n",
      "         14     0.0000    0.0000    0.0000        19\n",
      "         15     0.1250    0.0526    0.0741        19\n",
      "         16     0.0000    0.0000    0.0000        19\n",
      "         17     0.1250    0.1053    0.1143        19\n",
      "         18     0.0000    0.0000    0.0000        19\n",
      "         19     0.0000    0.0000    0.0000        19\n",
      "         20     0.0000    0.0000    0.0000        19\n",
      "         21     0.0000    0.0000    0.0000        19\n",
      "         22     0.0579    0.7895    0.1079        19\n",
      "         23     0.0000    0.0000    0.0000        19\n",
      "         24     0.0732    0.7895    0.1339        19\n",
      "         25     0.0495    0.2632    0.0833        19\n",
      "         26     0.0000    0.0000    0.0000        19\n",
      "         27     0.0000    0.0000    0.0000        19\n",
      "         28     0.0000    0.0000    0.0000        19\n",
      "         29     0.0000    0.0000    0.0000        19\n",
      "         30     0.0000    0.0000    0.0000        19\n",
      "         31     0.0000    0.0000    0.0000        19\n",
      "         32     0.0000    0.0000    0.0000        19\n",
      "         33     0.0000    0.0000    0.0000        19\n",
      "         34     0.0000    0.0000    0.0000        19\n",
      "         35     0.0000    0.0000    0.0000        19\n",
      "         36     0.0719    0.6316    0.1290        19\n",
      "         37     0.0000    0.0000    0.0000        19\n",
      "         38     0.0000    0.0000    0.0000        19\n",
      "         39     0.0000    0.0000    0.0000        19\n",
      "         40     0.0909    0.0526    0.0667        19\n",
      "         41     0.0800    0.1053    0.0909        19\n",
      "         42     0.0000    0.0000    0.0000        19\n",
      "         43     0.1667    0.0526    0.0800        19\n",
      "         44     0.0000    0.0000    0.0000        19\n",
      "         45     0.0000    0.0000    0.0000        19\n",
      "         46     0.0433    0.6842    0.0815        19\n",
      "         47     0.0000    0.0000    0.0000        19\n",
      "         48     0.0000    0.0000    0.0000        19\n",
      "         49     0.0667    0.1053    0.0816        19\n",
      "         50     0.0000    0.0000    0.0000        19\n",
      "         51     0.0000    0.0000    0.0000        19\n",
      "         52     0.0000    0.0000    0.0000        19\n",
      "         53     0.0000    0.0000    0.0000        19\n",
      "         54     0.0000    0.0000    0.0000        19\n",
      "         55     0.0000    0.0000    0.0000        19\n",
      "         56     0.0000    0.0000    0.0000        19\n",
      "         57     0.0000    0.0000    0.0000        19\n",
      "         58     0.0000    0.0000    0.0000        19\n",
      "         59     0.0000    0.0000    0.0000        19\n",
      "         60     0.0000    0.0000    0.0000        19\n",
      "         61     0.0000    0.0000    0.0000        19\n",
      "         62     0.0000    0.0000    0.0000        19\n",
      "         63     0.0909    0.0526    0.0667        19\n",
      "         64     0.0000    0.0000    0.0000        19\n",
      "         65     0.0000    0.0000    0.0000        19\n",
      "         66     0.0769    0.0526    0.0625        19\n",
      "         67     0.0000    0.0000    0.0000        19\n",
      "         68     0.0000    0.0000    0.0000        19\n",
      "\n",
      "avg / total     0.0202    0.0580    0.0205      1292\n",
      "\n"
     ]
    }
   ],
   "source": [
    "from sklearn.linear_model import LogisticRegression\n",
    "from sklearn.metrics import classification_report\n",
    "\n",
    "model3 = LogisticRegression()\n",
    "\n",
    "#train\n",
    "model3.fit(hist_train, y_train)\n",
    "predictions = model3.predict(hist_test)\n",
    "\n",
    "print classification_report(y_test, predictions, digits = 4)"
   ]
  },
  {
   "cell_type": "code",
   "execution_count": 67,
   "metadata": {
    "collapsed": false
   },
   "outputs": [
    {
     "name": "stdout",
     "output_type": "stream",
     "text": [
      "[43 43 65 ..., 65 43 43]\n",
      "(1292,)\n",
      "[[ 0.05761719  0.01635742  0.00195312 ...,  0.00878906  0.01245117\n",
      "   0.09179688]\n",
      " [ 0.05200195  0.01123047  0.00292969 ...,  0.00537109  0.01391602\n",
      "   0.07666016]\n",
      " [ 0.04248047  0.01342773  0.00390625 ...,  0.00463867  0.00878906\n",
      "   0.08447266]\n",
      " ..., \n",
      " [ 0.03662109  0.01147461  0.00390625 ...,  0.00415039  0.01049805\n",
      "   0.04052734]\n",
      " [ 0.02832031  0.0144043   0.0012207  ...,  0.00878906  0.00927734\n",
      "   0.12548828]\n",
      " [ 0.03540039  0.01049805  0.00317383 ...,  0.00732422  0.01025391\n",
      "   0.06054688]]\n",
      "(1292, 256)\n",
      "(42033152,)\n"
     ]
    }
   ],
   "source": [
    "print predictions\n",
    "print predictions.shape\n",
    "print hist_test\n",
    "print hist_test.shape"
   ]
  },
  {
   "cell_type": "code",
   "execution_count": 50,
   "metadata": {
    "collapsed": false
   },
   "outputs": [
    {
     "name": "stdout",
     "output_type": "stream",
     "text": [
      "             precision    recall  f1-score   support\n",
      "\n",
      "          1     0.1053    0.1053    0.1053        19\n",
      "          2     0.2353    0.2105    0.2222        19\n",
      "          3     0.0000    0.0000    0.0000        19\n",
      "          4     0.0000    0.0000    0.0000        19\n",
      "          5     0.0000    0.0000    0.0000        19\n",
      "          6     0.0541    0.1053    0.0714        19\n",
      "          7     0.0000    0.0000    0.0000        19\n",
      "          8     0.0000    0.0000    0.0000        19\n",
      "          9     0.0000    0.0000    0.0000        19\n",
      "         10     0.2800    0.3684    0.3182        19\n",
      "         11     0.0000    0.0000    0.0000        19\n",
      "         12     0.0625    0.0526    0.0571        19\n",
      "         13     0.2500    0.0526    0.0870        19\n",
      "         14     0.2000    0.0526    0.0833        19\n",
      "         15     0.0870    0.1053    0.0952        19\n",
      "         16     0.0000    0.0000    0.0000        19\n",
      "         17     0.3000    0.1579    0.2069        19\n",
      "         18     0.0000    0.0000    0.0000        19\n",
      "         19     0.1053    0.1053    0.1053        19\n",
      "         20     0.2558    0.5789    0.3548        19\n",
      "         21     0.0000    0.0000    0.0000        19\n",
      "         22     0.1556    0.3684    0.2188        19\n",
      "         23     0.1250    0.2105    0.1569        19\n",
      "         24     0.2500    0.2105    0.2286        19\n",
      "         25     0.3250    0.6842    0.4407        19\n",
      "         26     0.1333    0.3158    0.1875        19\n",
      "         27     0.0968    0.1579    0.1200        19\n",
      "         28     0.0000    0.0000    0.0000        19\n",
      "         29     0.0000    0.0000    0.0000        19\n",
      "         30     0.1429    0.0526    0.0769        19\n",
      "         31     0.1579    0.1579    0.1579        19\n",
      "         32     0.0833    0.1053    0.0930        19\n",
      "         33     0.0000    0.0000    0.0000        19\n",
      "         34     0.0000    0.0000    0.0000        19\n",
      "         35     0.0667    0.0526    0.0588        19\n",
      "         36     0.2222    0.3158    0.2609        19\n",
      "         37     0.0909    0.0526    0.0667        19\n",
      "         38     0.2000    0.1053    0.1379        19\n",
      "         39     0.1724    0.2632    0.2083        19\n",
      "         40     0.1724    0.2632    0.2083        19\n",
      "         41     0.0000    0.0000    0.0000        19\n",
      "         42     0.1111    0.1579    0.1304        19\n",
      "         43     0.0000    0.0000    0.0000        19\n",
      "         44     0.1364    0.1579    0.1463        19\n",
      "         45     0.0769    0.0526    0.0625        19\n",
      "         46     0.2308    0.1579    0.1875        19\n",
      "         47     0.0500    0.0526    0.0513        19\n",
      "         48     0.0000    0.0000    0.0000        19\n",
      "         49     0.1000    0.1053    0.1026        19\n",
      "         50     0.0000    0.0000    0.0000        19\n",
      "         51     0.0667    0.0526    0.0588        19\n",
      "         52     0.2222    0.4211    0.2909        19\n",
      "         53     0.1613    0.2632    0.2000        19\n",
      "         54     0.0926    0.2632    0.1370        19\n",
      "         55     0.0000    0.0000    0.0000        19\n",
      "         56     0.0000    0.0000    0.0000        19\n",
      "         57     0.2000    0.3158    0.2449        19\n",
      "         58     0.0000    0.0000    0.0000        19\n",
      "         59     0.0732    0.1579    0.1000        19\n",
      "         60     0.3750    0.1579    0.2222        19\n",
      "         61     0.1250    0.3158    0.1791        19\n",
      "         62     0.2000    0.1579    0.1765        19\n",
      "         63     0.0625    0.0526    0.0571        19\n",
      "         64     0.0000    0.0000    0.0000        19\n",
      "         65     0.1667    0.2632    0.2041        19\n",
      "         66     0.5000    0.1053    0.1739        19\n",
      "         67     0.0952    0.1053    0.1000        19\n",
      "         68     0.0769    0.0526    0.0625        19\n",
      "\n",
      "avg / total     0.1096    0.1262    0.1061      1292\n",
      "\n"
     ]
    }
   ],
   "source": [
    "print classification_report(y_test, predictions, digits = 4)"
   ]
  },
  {
   "cell_type": "code",
   "execution_count": 173,
   "metadata": {
    "collapsed": false
   },
   "outputs": [
    {
     "name": "stdout",
     "output_type": "stream",
     "text": [
      "[10 50 26 ..., 26 22 46]\n",
      "[68 68 68 ...,  1  1  1]\n",
      "             precision    recall  f1-score   support\n",
      "\n",
      "          1     0.0000    0.0000    0.0000        19\n",
      "          2     0.5000    0.0526    0.0952        19\n",
      "          3     0.0000    0.0000    0.0000        19\n",
      "          4     0.1071    0.1579    0.1277        19\n",
      "          5     0.0000    0.0000    0.0000        19\n",
      "          6     0.0000    0.0000    0.0000        19\n",
      "          7     0.0000    0.0000    0.0000        19\n",
      "          8     0.0000    0.0000    0.0000        19\n",
      "          9     0.0000    0.0000    0.0000        19\n",
      "         10     0.0769    0.2105    0.1127        19\n",
      "         11     0.0000    0.0000    0.0000        19\n",
      "         12     0.0000    0.0000    0.0000        19\n",
      "         13     0.0000    0.0000    0.0000        19\n",
      "         14     0.0000    0.0000    0.0000        19\n",
      "         15     0.0000    0.0000    0.0000        19\n",
      "         16     0.0000    0.0000    0.0000        19\n",
      "         17     0.2500    0.0526    0.0870        19\n",
      "         18     0.5000    0.0526    0.0952        19\n",
      "         19     0.0000    0.0000    0.0000        19\n",
      "         20     0.0000    0.0000    0.0000        19\n",
      "         21     0.0000    0.0000    0.0000        19\n",
      "         22     0.1400    0.7368    0.2353        19\n",
      "         23     0.0000    0.0000    0.0000        19\n",
      "         24     0.1000    0.0526    0.0690        19\n",
      "         25     0.1000    0.7368    0.1761        19\n",
      "         26     0.1489    0.3684    0.2121        19\n",
      "         27     1.0000    0.1053    0.1905        19\n",
      "         28     0.1667    0.0526    0.0800        19\n",
      "         29     0.0000    0.0000    0.0000        19\n",
      "         30     0.2500    0.0526    0.0870        19\n",
      "         31     0.0556    0.0526    0.0541        19\n",
      "         32     0.0000    0.0000    0.0000        19\n",
      "         33     0.0930    0.2105    0.1290        19\n",
      "         34     0.0000    0.0000    0.0000        19\n",
      "         35     0.0000    0.0000    0.0000        19\n",
      "         36     0.0769    0.1579    0.1034        19\n",
      "         37     0.0000    0.0000    0.0000        19\n",
      "         38     0.0000    0.0000    0.0000        19\n",
      "         39     0.0000    0.0000    0.0000        19\n",
      "         40     0.4000    0.1053    0.1667        19\n",
      "         41     0.0000    0.0000    0.0000        19\n",
      "         42     0.0870    0.2105    0.1231        19\n",
      "         43     0.0000    0.0000    0.0000        19\n",
      "         44     0.0000    0.0000    0.0000        19\n",
      "         45     0.0000    0.0000    0.0000        19\n",
      "         46     0.0493    0.7895    0.0929        19\n",
      "         47     0.0000    0.0000    0.0000        19\n",
      "         48     0.0000    0.0000    0.0000        19\n",
      "         49     0.0000    0.0000    0.0000        19\n",
      "         50     0.0000    0.0000    0.0000        19\n",
      "         51     0.1429    0.0526    0.0769        19\n",
      "         52     0.1194    0.4211    0.1860        19\n",
      "         53     0.0789    0.1579    0.1053        19\n",
      "         54     0.0000    0.0000    0.0000        19\n",
      "         55     0.0000    0.0000    0.0000        19\n",
      "         56     0.0000    0.0000    0.0000        19\n",
      "         57     0.0000    0.0000    0.0000        19\n",
      "         58     0.0000    0.0000    0.0000        19\n",
      "         59     0.0435    0.0526    0.0476        19\n",
      "         60     0.0631    0.3684    0.1077        19\n",
      "         61     0.0000    0.0000    0.0000        19\n",
      "         62     0.0000    0.0000    0.0000        19\n",
      "         63     0.1000    0.0526    0.0690        19\n",
      "         64     0.0400    0.1053    0.0580        19\n",
      "         65     0.0556    0.2632    0.0917        19\n",
      "         66     1.0000    0.1053    0.1905        19\n",
      "         67     0.0000    0.0000    0.0000        19\n",
      "         68     0.0000    0.0000    0.0000        19\n",
      "\n",
      "avg / total     0.0845    0.0844    0.0466      1292\n",
      "\n"
     ]
    }
   ],
   "source": [
    "model2 = LogisticRegression()\n",
    "\n",
    "#train\n",
    "model2.fit(hist_train, y_train)\n",
    "predictions = model2.predict(hist_test)\n",
    "print predictions\n",
    "print y_test\n",
    "print classification_report(y_test, predictions, digits = 4)"
   ]
  },
  {
   "cell_type": "code",
   "execution_count": 126,
   "metadata": {
    "collapsed": false
   },
   "outputs": [
    {
     "name": "stdout",
     "output_type": "stream",
     "text": [
      "[16 68 49 ..., 29 52 45]\n"
     ]
    }
   ],
   "source": [
    "print predictions\n"
   ]
  },
  {
   "cell_type": "code",
   "execution_count": null,
   "metadata": {
    "collapsed": true
   },
   "outputs": [],
   "source": []
  }
 ],
 "metadata": {
  "kernelspec": {
   "display_name": "Python [python2]",
   "language": "python",
   "name": "Python [python2]"
  },
  "language_info": {
   "codemirror_mode": {
    "name": "ipython",
    "version": 2
   },
   "file_extension": ".py",
   "mimetype": "text/x-python",
   "name": "python",
   "nbconvert_exporter": "python",
   "pygments_lexer": "ipython2",
   "version": "2.7.13"
  }
 },
 "nbformat": 4,
 "nbformat_minor": 0
}
