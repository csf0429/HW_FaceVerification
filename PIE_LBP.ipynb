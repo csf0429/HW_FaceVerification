{
 "cells": [
  {
   "cell_type": "code",
   "execution_count": 1,
   "metadata": {
    "collapsed": true
   },
   "outputs": [],
   "source": [
    "import scipy.io as sio\n",
    "import numpy as np\n",
    "import os\n",
    "import sys\n",
    "from PIL import Image\n",
    "import errno\n",
    "from sklearn.decomposition import PCA\n"
   ]
  },
  {
   "cell_type": "code",
   "execution_count": 22,
   "metadata": {
    "collapsed": true
   },
   "outputs": [],
   "source": [
    "import matplotlib.pyplot as plt\n",
    "# display plots in this notebook\n",
    "%matplotlib inline\n",
    "\n",
    " #设置默认显示参数\n",
    "plt.rcParams['figure.figsize'] = (10, 5)        # 图像显示大小\n",
    "plt.rcParams['image.interpolation'] = 'nearest'  # 最近邻差值: 像素为正方形\n",
    "plt.rcParams['image.cmap'] = 'gray'  # 使用灰度输出而不是彩色输出"
   ]
  },
  {
   "cell_type": "code",
   "execution_count": 3,
   "metadata": {
    "collapsed": false
   },
   "outputs": [
    {
     "data": {
      "text/plain": [
       "{'__globals__': [],\n",
       " '__header__': 'MATLAB 5.0 MAT-file Platform: nt, Created on: Mon May 08 13:10:30 2017',\n",
       " '__version__': '1.0',\n",
       " 'fea': array([[ 8,  9,  9, ..., 35, 36, 42],\n",
       "        [ 6,  7,  7, ..., 38, 32, 31],\n",
       "        [ 8,  8,  6, ..., 26, 25, 23],\n",
       "        ..., \n",
       "        [11, 10,  8, ..., 36, 40, 42],\n",
       "        [ 9, 11,  9, ..., 29, 31, 36],\n",
       "        [12,  9,  9, ..., 29, 34, 38]], dtype=uint8),\n",
       " 'gnd': array([[ 1],\n",
       "        [ 1],\n",
       "        [ 1],\n",
       "        ..., \n",
       "        [68],\n",
       "        [68],\n",
       "        [68]], dtype=uint8),\n",
       " 'isTest': array([[ 0.],\n",
       "        [ 0.],\n",
       "        [ 0.],\n",
       "        ..., \n",
       "        [ 1.],\n",
       "        [ 0.],\n",
       "        [ 0.]])}"
      ]
     },
     "execution_count": 3,
     "metadata": {},
     "output_type": "execute_result"
    }
   ],
   "source": [
    "mat_file = \"dataset/PIE dataset/Pose05_64x64.mat\"\n",
    "\n",
    "data = sio.loadmat(mat_file)\n",
    "\n",
    "data"
   ]
  },
  {
   "cell_type": "code",
   "execution_count": 4,
   "metadata": {
    "collapsed": false
   },
   "outputs": [
    {
     "name": "stdout",
     "output_type": "stream",
     "text": [
      "(3332, 4096)\n",
      "(64, 64)\n"
     ]
    }
   ],
   "source": [
    "print data['fea'].shape\n",
    "img = data['fea'][3222].reshape((64,64))\n",
    "print img.shape"
   ]
  },
  {
   "cell_type": "code",
   "execution_count": 6,
   "metadata": {
    "collapsed": false
   },
   "outputs": [],
   "source": [
    "def read_mat ( path ):\n",
    "    c = 0\n",
    "    X ,y ,isTest= [], [],[]\n",
    "\n",
    "    for filename in os.listdir ( path ):\n",
    "        if (filename != 'Thumbs.db'):\n",
    "            data = sio.loadmat( os.path.join ( path , filename ))\n",
    "#             np.concatenate((X, data['fea']),axis = 0)\n",
    "#             np.concatenate((y, data['gnd']),axis = 0)\n",
    "            if len(X) == 0 and len(y) == 0:\n",
    "                X = data['fea']\n",
    "                y = data['gnd']\n",
    "                isTest = data['isTest']\n",
    "            else:\n",
    "                X = np.concatenate((data['fea'], X), axis = 0)\n",
    "                y =np.concatenate((data['gnd'], y), axis = 0)\n",
    "                isTest = np.concatenate((data['isTest'],isTest), axis = 0)\n",
    "    return X, y, isTest"
   ]
  },
  {
   "cell_type": "code",
   "execution_count": 7,
   "metadata": {
    "collapsed": false
   },
   "outputs": [
    {
     "name": "stdout",
     "output_type": "stream",
     "text": [
      "(11554, 4096)\n",
      "[[ 46  52  48 ..., 226 234 238]\n",
      " [ 50  39  32 ..., 255 254 254]\n",
      " [ 47  47  39 ..., 254 254 254]\n",
      " ..., \n",
      " [ 11  10   8 ...,  36  40  42]\n",
      " [  9  11   9 ...,  29  31  36]\n",
      " [ 12   9   9 ...,  29  34  38]]\n",
      "(11554, 1)\n",
      "[[ 1]\n",
      " [ 1]\n",
      " [ 1]\n",
      " ..., \n",
      " [68]\n",
      " [68]\n",
      " [68]]\n",
      "(11554, 1)\n",
      "[[ 0.]\n",
      " [ 0.]\n",
      " [ 0.]\n",
      " ..., \n",
      " [ 1.]\n",
      " [ 0.]\n",
      " [ 0.]]\n"
     ]
    }
   ],
   "source": [
    "ROOT = 'dataset/PIE dataset/'\n",
    "X,y,isTest = read_mat(ROOT)\n",
    "X = np.array(X)\n",
    "y = np.array(y)\n",
    "isTest = np.array(isTest)\n",
    "\n",
    "print X.shape\n",
    "print X\n",
    "print y.shape\n",
    "print y\n",
    "print isTest.shape\n",
    "print isTest"
   ]
  },
  {
   "cell_type": "code",
   "execution_count": 8,
   "metadata": {
    "collapsed": false
   },
   "outputs": [
    {
     "name": "stdout",
     "output_type": "stream",
     "text": [
      "[]\n",
      "[]\n",
      "[[ 12   9   9 ...,  29  34  38]\n",
      " [  9  11   9 ...,  29  31  36]\n",
      " [  8  10  12 ...,  25  25  22]\n",
      " ..., \n",
      " [ 47  47  39 ..., 254 254 254]\n",
      " [ 50  39  32 ..., 255 254 254]\n",
      " [ 46  52  48 ..., 226 234 238]]\n",
      "(10262, 4096)\n"
     ]
    }
   ],
   "source": [
    "X_train, X_test, y_train, y_test = [],[],[],[]\n",
    "print X_train\n",
    "print y_train\n",
    "for i in np.arange(len(isTest)):\n",
    "    if(isTest[i] == 0):\n",
    "        if len(X_train) == 0 and len(y_train) == 0:\n",
    "            X_train = X[i]\n",
    "            y_train = y[i]\n",
    "        else:\n",
    "            X_train = np.vstack((X[i], X_train))\n",
    "            y_train = np.vstack((y[i], y_train))\n",
    "    else:\n",
    "        if len(X_test) == 0 and len(y_test) == 0:\n",
    "            X_test = X[i]\n",
    "            y_test = y[i]\n",
    "        else:\n",
    "            X_test = np.vstack((X[i], X_test))\n",
    "            y_test = np.vstack((y[i], y_test))\n",
    "\n",
    "print X_train\n",
    "print X_train.shape\n",
    "\n"
   ]
  },
  {
   "cell_type": "code",
   "execution_count": 9,
   "metadata": {
    "collapsed": false
   },
   "outputs": [
    {
     "name": "stdout",
     "output_type": "stream",
     "text": [
      "[[ 12   9   9 ...,  29  34  38]\n",
      " [  9  11   9 ...,  29  31  36]\n",
      " [  8  10  12 ...,  25  25  22]\n",
      " ..., \n",
      " [ 47  47  39 ..., 254 254 254]\n",
      " [ 50  39  32 ..., 255 254 254]\n",
      " [ 46  52  48 ..., 226 234 238]]\n",
      "(10262, 4096)\n",
      "[[ 11  10   8 ...,  36  40  42]\n",
      " [ 10  11  21 ...,  36  36  34]\n",
      " [  4   4   5 ...,  26  23  20]\n",
      " ..., \n",
      " [ 22  21  26 ...,  48  47  44]\n",
      " [ 16  16  17 ...,  25  25  24]\n",
      " [ 98 195 181 ...,  81  76  72]]\n",
      "(1292, 4096)\n",
      "(10262,)\n",
      "(1292,)\n"
     ]
    }
   ],
   "source": [
    "# show the shape of X_train X_test y_train y_test\n",
    "print X_train\n",
    "print X_train.shape\n",
    "print X_test\n",
    "print X_test.shape\n",
    "\n",
    "y_train = y_train.reshape(y_train.shape[0])\n",
    "y_test = y_test.reshape(y_test.shape[0])\n",
    "print y_train.shape\n",
    "print y_test.shape"
   ]
  },
  {
   "cell_type": "code",
   "execution_count": 10,
   "metadata": {
    "collapsed": false
   },
   "outputs": [
    {
     "name": "stdout",
     "output_type": "stream",
     "text": [
      "(10262, 120)\n",
      "(1292, 120)\n"
     ]
    }
   ],
   "source": [
    "pca = PCA(n_components = 120)\n",
    "\n",
    "#transform the training data\n",
    "X_train_reduced = pca.fit_transform(X_train)\n",
    "#transform the test data\n",
    "X_test_reduced = pca.transform(X_test)\n",
    "\n",
    "print X_train_reduced.shape\n",
    "print X_test_reduced.shape"
   ]
  },
  {
   "cell_type": "code",
   "execution_count": 118,
   "metadata": {
    "collapsed": false
   },
   "outputs": [
    {
     "name": "stdout",
     "output_type": "stream",
     "text": [
      "[[ -2.43277928e+03  -6.74833478e+01  -4.87219147e+02 ...,   3.47827008e+01\n",
      "   -6.60368365e+01   6.61858058e-01]\n",
      " [ -2.45639927e+03  -8.44378384e+01  -5.48539230e+02 ...,   1.70975398e+01\n",
      "   -7.24146548e+01   3.46723663e+01]\n",
      " [ -2.38265682e+03  -1.36205968e+02  -4.62705791e+02 ...,   8.26893215e+00\n",
      "   -3.87188503e+01   4.23500821e+01]\n",
      " ..., \n",
      " [ -1.63355623e+03  -4.77781101e+02   1.08151789e+03 ...,  -9.28882201e+00\n",
      "   -9.49885112e+01  -2.68994828e+01]\n",
      " [ -1.58247310e+03  -3.02480825e+02   8.38011677e+02 ...,   9.77514924e+01\n",
      "   -6.91885998e+01  -3.70888445e+01]\n",
      " [ -1.25307688e+03  -7.75424043e+02   1.36646402e+03 ...,  -4.56336458e+01\n",
      "   -6.85267242e+01   3.40972621e+00]]\n"
     ]
    }
   ],
   "source": [
    "print X_train_reduced"
   ]
  },
  {
   "cell_type": "code",
   "execution_count": 11,
   "metadata": {
    "collapsed": false
   },
   "outputs": [
    {
     "name": "stdout",
     "output_type": "stream",
     "text": [
      "[  4.13076070e-01   2.46189590e-01   6.59698496e-02   2.66276588e-02\n",
      "   1.70617489e-02   1.50870897e-02   1.23309186e-02   1.01160792e-02\n",
      "   7.62331167e-03   6.89811625e-03   6.53611070e-03   6.33956234e-03\n",
      "   5.68267960e-03   4.81222273e-03   4.40837025e-03   4.27961038e-03\n",
      "   4.01790274e-03   3.77814676e-03   3.39784799e-03   3.17281017e-03\n",
      "   3.09597493e-03   2.73255672e-03   2.71484640e-03   2.49212903e-03\n",
      "   2.31407048e-03   2.23869074e-03   2.01869139e-03   1.91240912e-03\n",
      "   1.86929622e-03   1.81077926e-03   1.75594079e-03   1.71005430e-03\n",
      "   1.67407562e-03   1.57775026e-03   1.53216487e-03   1.49850506e-03\n",
      "   1.42162500e-03   1.32996198e-03   1.30384803e-03   1.28683838e-03\n",
      "   1.23169113e-03   1.20491904e-03   1.16568759e-03   1.15356042e-03\n",
      "   1.10601605e-03   1.05993643e-03   1.00558412e-03   9.98067234e-04\n",
      "   9.79640525e-04   9.46252428e-04   9.39584922e-04   9.25365403e-04\n",
      "   8.88989282e-04   8.65835615e-04   8.50509795e-04   8.20778281e-04\n",
      "   8.13319481e-04   7.97953738e-04   7.91654406e-04   7.63097726e-04\n",
      "   7.31407896e-04   7.20814232e-04   7.01010284e-04   6.98923354e-04\n",
      "   6.93871670e-04   6.91456161e-04   6.65947062e-04   6.49856821e-04\n",
      "   6.35090752e-04   6.27709968e-04   6.06218215e-04   5.95360103e-04\n",
      "   5.82524346e-04   5.75912821e-04   5.69848108e-04   5.65017821e-04\n",
      "   5.52946960e-04   5.42350542e-04   5.35703732e-04   5.23080390e-04\n",
      "   5.14739483e-04   5.07104978e-04   4.96999985e-04   4.78547703e-04\n",
      "   4.70926064e-04   4.64858192e-04   4.56190688e-04   4.48797999e-04\n",
      "   4.42896313e-04   4.33164617e-04   4.30285850e-04   4.22282586e-04\n",
      "   4.18985257e-04   4.14649869e-04   4.05509947e-04   4.00344383e-04\n",
      "   3.98063339e-04   3.84121086e-04   3.81116246e-04   3.75503392e-04\n",
      "   3.74021107e-04   3.70220613e-04   3.61848063e-04   3.58658490e-04\n",
      "   3.50509697e-04   3.44829180e-04   3.42769177e-04   3.39657643e-04\n",
      "   3.31550858e-04   3.28188892e-04   3.26326131e-04   3.23704948e-04\n",
      "   3.20650212e-04   3.15425825e-04   3.06559778e-04   3.04061766e-04\n",
      "   3.00089733e-04   2.94671594e-04   2.91291626e-04   2.84064717e-04]\n"
     ]
    }
   ],
   "source": [
    "print pca.explained_variance_ratio_"
   ]
  },
  {
   "cell_type": "code",
   "execution_count": 12,
   "metadata": {
    "collapsed": false
   },
   "outputs": [
    {
     "name": "stdout",
     "output_type": "stream",
     "text": [
      "             precision    recall  f1-score   support\n",
      "\n",
      "          1     1.0000    1.0000    1.0000        19\n",
      "          2     1.0000    1.0000    1.0000        19\n",
      "          3     0.9500    1.0000    0.9744        19\n",
      "          4     1.0000    1.0000    1.0000        19\n",
      "          5     1.0000    0.9474    0.9730        19\n",
      "          6     1.0000    1.0000    1.0000        19\n",
      "          7     1.0000    1.0000    1.0000        19\n",
      "          8     0.9474    0.9474    0.9474        19\n",
      "          9     0.8636    1.0000    0.9268        19\n",
      "         10     0.9474    0.9474    0.9474        19\n",
      "         11     1.0000    1.0000    1.0000        19\n",
      "         12     1.0000    1.0000    1.0000        19\n",
      "         13     0.9048    1.0000    0.9500        19\n",
      "         14     0.9474    0.9474    0.9474        19\n",
      "         15     1.0000    0.9474    0.9730        19\n",
      "         16     0.9500    1.0000    0.9744        19\n",
      "         17     0.9000    0.9474    0.9231        19\n",
      "         18     1.0000    1.0000    1.0000        19\n",
      "         19     0.9444    0.8947    0.9189        19\n",
      "         20     1.0000    0.9474    0.9730        19\n",
      "         21     1.0000    0.9474    0.9730        19\n",
      "         22     1.0000    1.0000    1.0000        19\n",
      "         23     1.0000    1.0000    1.0000        19\n",
      "         24     1.0000    1.0000    1.0000        19\n",
      "         25     1.0000    0.9474    0.9730        19\n",
      "         26     1.0000    1.0000    1.0000        19\n",
      "         27     0.9048    1.0000    0.9500        19\n",
      "         28     1.0000    0.9474    0.9730        19\n",
      "         29     0.9444    0.8947    0.9189        19\n",
      "         30     1.0000    1.0000    1.0000        19\n",
      "         31     1.0000    0.9474    0.9730        19\n",
      "         32     1.0000    0.8947    0.9444        19\n",
      "         33     0.8947    0.8947    0.8947        19\n",
      "         34     0.8636    1.0000    0.9268        19\n",
      "         35     0.9500    1.0000    0.9744        19\n",
      "         36     1.0000    1.0000    1.0000        19\n",
      "         37     1.0000    0.9474    0.9730        19\n",
      "         38     1.0000    0.9474    0.9730        19\n",
      "         39     1.0000    1.0000    1.0000        19\n",
      "         40     1.0000    1.0000    1.0000        19\n",
      "         41     1.0000    1.0000    1.0000        19\n",
      "         42     1.0000    0.9474    0.9730        19\n",
      "         43     1.0000    1.0000    1.0000        19\n",
      "         44     0.9474    0.9474    0.9474        19\n",
      "         45     0.9500    1.0000    0.9744        19\n",
      "         46     1.0000    0.9474    0.9730        19\n",
      "         47     0.9500    1.0000    0.9744        19\n",
      "         48     1.0000    1.0000    1.0000        19\n",
      "         49     0.9048    1.0000    0.9500        19\n",
      "         50     1.0000    1.0000    1.0000        19\n",
      "         51     1.0000    1.0000    1.0000        19\n",
      "         52     0.9500    1.0000    0.9744        19\n",
      "         53     0.9500    1.0000    0.9744        19\n",
      "         54     0.9474    0.9474    0.9474        19\n",
      "         55     0.8636    1.0000    0.9268        19\n",
      "         56     0.9048    1.0000    0.9500        19\n",
      "         57     1.0000    1.0000    1.0000        19\n",
      "         58     1.0000    0.8947    0.9444        19\n",
      "         59     1.0000    0.8947    0.9444        19\n",
      "         60     1.0000    1.0000    1.0000        19\n",
      "         61     1.0000    0.9474    0.9730        19\n",
      "         62     1.0000    1.0000    1.0000        19\n",
      "         63     1.0000    0.9474    0.9730        19\n",
      "         64     1.0000    0.9474    0.9730        19\n",
      "         65     1.0000    1.0000    1.0000        19\n",
      "         66     1.0000    0.9474    0.9730        19\n",
      "         67     1.0000    0.8947    0.9444        19\n",
      "         68     1.0000    1.0000    1.0000        19\n",
      "\n",
      "avg / total     0.9747    0.9729    0.9730      1292\n",
      "\n"
     ]
    }
   ],
   "source": [
    "from sklearn.linear_model import LogisticRegression\n",
    "from sklearn.metrics import classification_report\n",
    "\n",
    "model = LogisticRegression()\n",
    "\n",
    "#train\n",
    "model.fit(X_train_reduced, y_train)\n",
    "predictions = model.predict(X_test_reduced)\n",
    "\n",
    "print classification_report(y_test, predictions, digits = 4)"
   ]
  },
  {
   "cell_type": "code",
   "execution_count": 161,
   "metadata": {
    "collapsed": false
   },
   "outputs": [
    {
     "name": "stdout",
     "output_type": "stream",
     "text": [
      "             precision    recall  f1-score   support\n",
      "\n",
      "          1     1.0000    0.9474    0.9730        19\n",
      "          2     1.0000    0.6316    0.7742        19\n",
      "          3     1.0000    1.0000    1.0000        19\n",
      "          4     0.9474    0.9474    0.9474        19\n",
      "          5     0.6667    0.9474    0.7826        19\n",
      "          6     0.9500    1.0000    0.9744        19\n",
      "          7     1.0000    0.7895    0.8824        19\n",
      "          8     1.0000    0.7895    0.8824        19\n",
      "          9     0.8667    0.6842    0.7647        19\n",
      "         10     0.7826    0.9474    0.8571        19\n",
      "         11     0.9444    0.8947    0.9189        19\n",
      "         12     0.8182    0.9474    0.8780        19\n",
      "         13     0.8750    0.7368    0.8000        19\n",
      "         14     1.0000    0.9474    0.9730        19\n",
      "         15     0.8947    0.8947    0.8947        19\n",
      "         16     0.8421    0.8421    0.8421        19\n",
      "         17     0.8182    0.9474    0.8780        19\n",
      "         18     1.0000    1.0000    1.0000        19\n",
      "         19     0.9412    0.8421    0.8889        19\n",
      "         20     0.8500    0.8947    0.8718        19\n",
      "         21     0.7895    0.7895    0.7895        19\n",
      "         22     0.8947    0.8947    0.8947        19\n",
      "         23     0.8571    0.9474    0.9000        19\n",
      "         24     0.8636    1.0000    0.9268        19\n",
      "         25     0.7391    0.8947    0.8095        19\n",
      "         26     0.9474    0.9474    0.9474        19\n",
      "         27     0.9474    0.9474    0.9474        19\n",
      "         28     0.9286    0.6842    0.7879        19\n",
      "         29     1.0000    0.7368    0.8485        19\n",
      "         30     0.8421    0.8421    0.8421        19\n",
      "         31     1.0000    0.9474    0.9730        19\n",
      "         32     0.8889    0.8421    0.8649        19\n",
      "         33     0.8889    0.8421    0.8649        19\n",
      "         34     0.7500    0.6316    0.6857        19\n",
      "         35     0.8182    0.9474    0.8780        19\n",
      "         36     0.8571    0.9474    0.9000        19\n",
      "         37     0.9412    0.8421    0.8889        19\n",
      "         38     1.0000    0.9474    0.9730        19\n",
      "         39     0.9444    0.8947    0.9189        19\n",
      "         40     0.8571    0.9474    0.9000        19\n",
      "         41     1.0000    1.0000    1.0000        19\n",
      "         42     1.0000    0.8947    0.9444        19\n",
      "         43     0.9444    0.8947    0.9189        19\n",
      "         44     0.9286    0.6842    0.7879        19\n",
      "         45     0.9474    0.9474    0.9474        19\n",
      "         46     0.8500    0.8947    0.8718        19\n",
      "         47     0.8947    0.8947    0.8947        19\n",
      "         48     0.7917    1.0000    0.8837        19\n",
      "         49     0.9474    0.9474    0.9474        19\n",
      "         50     0.9048    1.0000    0.9500        19\n",
      "         51     0.8261    1.0000    0.9048        19\n",
      "         52     0.8824    0.7895    0.8333        19\n",
      "         53     0.8889    0.8421    0.8649        19\n",
      "         54     1.0000    0.8947    0.9444        19\n",
      "         55     0.7600    1.0000    0.8636        19\n",
      "         56     0.9444    0.8947    0.9189        19\n",
      "         57     0.9500    1.0000    0.9744        19\n",
      "         58     0.8500    0.8947    0.8718        19\n",
      "         59     1.0000    0.7895    0.8824        19\n",
      "         60     0.6333    1.0000    0.7755        19\n",
      "         61     0.7500    0.9474    0.8372        19\n",
      "         62     1.0000    0.8947    0.9444        19\n",
      "         63     0.9444    0.8947    0.9189        19\n",
      "         64     0.8421    0.8421    0.8421        19\n",
      "         65     0.7083    0.8947    0.7907        19\n",
      "         66     0.8750    0.7368    0.8000        19\n",
      "         67     0.9375    0.7895    0.8571        19\n",
      "         68     1.0000    0.8421    0.9143        19\n",
      "\n",
      "avg / total     0.8964    0.8854    0.8854      1292\n",
      "\n"
     ]
    }
   ],
   "source": [
    "### PCA + SVM \n",
    "from sklearn.svm import LinearSVC\n",
    "SVM = LinearSVC(C=0.000000115, random_state=42)\n",
    "\n",
    "SVM.fit(X_train_reduced, y_train)\n",
    "predictions = SVM.predict(X_test_reduced)\n",
    "print classification_report(y_test, predictions, digits = 4)\n"
   ]
  },
  {
   "cell_type": "code",
   "execution_count": 87,
   "metadata": {
    "collapsed": false
   },
   "outputs": [
    {
     "data": {
      "text/plain": [
       "<matplotlib.image.AxesImage at 0x1398e1ed0>"
      ]
     },
     "execution_count": 87,
     "metadata": {},
     "output_type": "execute_result"
    },
    {
     "data": {
      "image/png": "[encoded data removed]",
      "text/plain": [
       "<matplotlib.figure.Figure at 0x1397d9b90>"
      ]
     },
     "metadata": {},
     "output_type": "display_data"
    }
   ],
   "source": [
    "from skimage.feature import local_binary_pattern\n",
    "\n",
    "## setting for LBP\n",
    "radius = 1\n",
    "n_points = 8 * radius\n",
    "\n",
    "lbp = local_binary_pattern(img, n_points, radius, method = 'default')\n",
    "plt.imshow(lbp, interpolation='nearest')\n"
   ]
  },
  {
   "cell_type": "code",
   "execution_count": 85,
   "metadata": {
    "collapsed": false
   },
   "outputs": [
    {
     "data": {
      "text/plain": [
       "<matplotlib.image.AxesImage at 0x139560ed0>"
      ]
     },
     "execution_count": 85,
     "metadata": {},
     "output_type": "execute_result"
    },
    {
     "data": {
      "image/png": "[encoded data removed]",
      "text/plain": [
       "<matplotlib.figure.Figure at 0x138fa9950>"
      ]
     },
     "metadata": {},
     "output_type": "display_data"
    }
   ],
   "source": [
    "img1 = X_train[8000].reshape((64,64))\n",
    "img2 = X_train[8010].reshape((64,64))\n",
    "img3 = X_train[8040].reshape((64,64))\n",
    "img4 = X_train[8030].reshape((64,64))\n",
    "\n",
    "lbp_img1 = local_binary_pattern(img1, n_points, radius, method = 'default')\n",
    "lbp_img2 = local_binary_pattern(img2, n_points, radius, method = 'default')\n",
    "lbp_img3 = local_binary_pattern(img3, n_points, radius, method = 'default')\n",
    "lbp_img4 = local_binary_pattern(img4, n_points, radius, method = 'default')\n",
    "\n",
    "f, ((ax1, ax2, ax3, ax4),(ax5, ax6, ax7, ax8)) = plt.subplots(2, 4)\n",
    "ax1.imshow(img1, interpolation='nearest')\n",
    "ax2.imshow(img2, interpolation='nearest')\n",
    "ax3.imshow(img3, interpolation='nearest')\n",
    "ax4.imshow(img4, interpolation='nearest')\n",
    "\n",
    "ax5.imshow(lbp_img1, interpolation='nearest')\n",
    "ax6.imshow(lbp_img2, interpolation='nearest')\n",
    "ax7.imshow(lbp_img3, interpolation='nearest')\n",
    "ax8.imshow(lbp_img4, interpolation='nearest')"
   ]
  },
  {
   "cell_type": "code",
   "execution_count": 88,
   "metadata": {
    "collapsed": true
   },
   "outputs": [],
   "source": [
    "(hist, _) = np.histogram(lbp_img1.ravel(), bins= np.arange(0, n_points + 3), range=(0, n_points + 2))"
   ]
  },
  {
   "cell_type": "code",
   "execution_count": 92,
   "metadata": {
    "collapsed": false
   },
   "outputs": [
    {
     "name": "stdout",
     "output_type": "stream",
     "text": [
      "(10,)\n",
      "(64, 64)\n"
     ]
    }
   ],
   "source": [
    "print hist.shape\n",
    "print lbp_img1.shape"
   ]
  },
  {
   "cell_type": "code",
   "execution_count": 167,
   "metadata": {
    "collapsed": false
   },
   "outputs": [],
   "source": [
    "eps = 1e-7\n",
    "n_bins = 128\n",
    "N = X_train.shape[0]\n",
    "X_lbp_train = np.zeros((N,64,64))\n",
    "hist_train = np.zeros((N,n_bins,))\n",
    "for i in np.arange(N):\n",
    "    X_lbp_train[i] = local_binary_pattern(X_train[i].reshape(64,64), n_points, radius, method = 'default')\n",
    "    (hist_train[i], _) = np.histogram(X_lbp_train[i].ravel(), bins= n_bins, range = (0, n_bins), density=True)\n",
    "    hist_train[i] = hist_train[i].astype(\"float\")\n",
    "    hist_train[i] /= (hist_train[i].sum() + eps)\n",
    "    \n",
    "    "
   ]
  },
  {
   "cell_type": "code",
   "execution_count": 168,
   "metadata": {
    "collapsed": false
   },
   "outputs": [
    {
     "name": "stdout",
     "output_type": "stream",
     "text": [
      "[[ 0.11446596  0.0270392   0.00495719 ...,  0.00315457  0.0193781\n",
      "   0.0193781 ]\n",
      " [ 0.10914854  0.02581521  0.00634058 ...,  0.00271739  0.01947464\n",
      "   0.01992753]\n",
      " [ 0.11332728  0.03037171  0.00634633 ...,  0.00317316  0.02266546\n",
      "   0.0199456 ]\n",
      " ..., \n",
      " [ 0.10942248  0.02735562  0.00455927 ...,  0.00202634  0.01519757\n",
      "   0.02127659]\n",
      " [ 0.10088148  0.02742409  0.00440744 ...,  0.00342801  0.01567091\n",
      "   0.01567091]\n",
      " [ 0.09935738  0.03064755  0.00692041 ...,  0.00296589  0.01581809\n",
      "   0.01631241]]\n",
      "(10262, 128)\n"
     ]
    }
   ],
   "source": [
    "print hist_train\n",
    "print hist_train.shape"
   ]
  },
  {
   "cell_type": "code",
   "execution_count": 169,
   "metadata": {
    "collapsed": false
   },
   "outputs": [],
   "source": [
    "N_test = X_test.shape[0]\n",
    "X_lbp_test = np.zeros((N_test,64,64))\n",
    "hist_test = np.zeros((N_test,n_bins,))\n",
    "for i in np.arange(N_test):\n",
    "    X_lbp_test[i] = local_binary_pattern(X_test[i].reshape(64,64), n_points, radius, method = 'default')\n",
    "    (hist_test[i], _) = np.histogram(X_lbp_test[i].ravel(), bins= n_bins, range=(0, n_bins), density=True)\n",
    "    hist_test[i] = hist_test[i].astype(\"float\")\n",
    "    hist_test[i] /= (hist_test[i].sum() + eps)\n",
    "    \n",
    "    "
   ]
  },
  {
   "cell_type": "code",
   "execution_count": 170,
   "metadata": {
    "collapsed": false
   },
   "outputs": [
    {
     "name": "stdout",
     "output_type": "stream",
     "text": [
      "[[ 0.10625843  0.03016659  0.00360198 ...,  0.0009005   0.02161188\n",
      "   0.02341287]\n",
      " [ 0.09264897  0.0200087   0.00521966 ...,  0.00260983  0.0200087\n",
      "   0.01783384]\n",
      " [ 0.08254269  0.02609108  0.00759013 ...,  0.00426945  0.01612903\n",
      "   0.01850095]\n",
      " ..., \n",
      " [ 0.072324    0.02266152  0.00771456 ...,  0.00192864  0.01494696\n",
      "   0.01060752]\n",
      " [ 0.06748109  0.03432228  0.00290867 ...,  0.00407213  0.01628854\n",
      "   0.01919721]\n",
      " [ 0.06252695  0.01854247  0.00560586 ...,  0.00086244  0.01854247\n",
      "   0.01379905]]\n",
      "(1292, 128)\n"
     ]
    }
   ],
   "source": [
    "print hist_test\n",
    "print hist_test.shape"
   ]
  },
  {
   "cell_type": "code",
   "execution_count": 171,
   "metadata": {
    "collapsed": false
   },
   "outputs": [
    {
     "name": "stdout",
     "output_type": "stream",
     "text": [
      "             precision    recall  f1-score   support\n",
      "\n",
      "          1     0.1667    0.0526    0.0800        19\n",
      "          2     0.2500    0.0526    0.0870        19\n",
      "          3     0.2222    0.1053    0.1429        19\n",
      "          4     0.4706    0.4211    0.4444        19\n",
      "          5     0.8333    0.2632    0.4000        19\n",
      "          6     0.3636    0.2105    0.2667        19\n",
      "          7     0.3182    0.3684    0.3415        19\n",
      "          8     0.0000    0.0000    0.0000        19\n",
      "          9     0.2500    0.1053    0.1481        19\n",
      "         10     0.2857    0.4211    0.3404        19\n",
      "         11     0.3750    0.3158    0.3429        19\n",
      "         12     0.2222    0.1053    0.1429        19\n",
      "         13     1.0000    0.0526    0.1000        19\n",
      "         14     0.0000    0.0000    0.0000        19\n",
      "         15     0.2381    0.2632    0.2500        19\n",
      "         16     0.2500    0.0526    0.0870        19\n",
      "         17     0.3913    0.4737    0.4286        19\n",
      "         18     0.3750    0.3158    0.3429        19\n",
      "         19     0.1500    0.1579    0.1538        19\n",
      "         20     0.3056    0.5789    0.4000        19\n",
      "         21     0.3793    0.5789    0.4583        19\n",
      "         22     0.3200    0.8421    0.4638        19\n",
      "         23     0.4000    0.2105    0.2759        19\n",
      "         24     0.2917    0.3684    0.3256        19\n",
      "         25     0.3750    0.9474    0.5373        19\n",
      "         26     0.2778    0.5263    0.3636        19\n",
      "         27     0.4167    0.5263    0.4651        19\n",
      "         28     0.2105    0.2105    0.2105        19\n",
      "         29     0.3636    0.2105    0.2667        19\n",
      "         30     0.2973    0.5789    0.3929        19\n",
      "         31     0.2692    0.3684    0.3111        19\n",
      "         32     0.1765    0.1579    0.1667        19\n",
      "         33     0.3158    0.6316    0.4211        19\n",
      "         34     0.0000    0.0000    0.0000        19\n",
      "         35     0.5500    0.5789    0.5641        19\n",
      "         36     0.4333    0.6842    0.5306        19\n",
      "         37     0.1429    0.0526    0.0769        19\n",
      "         38     0.4091    0.4737    0.4390        19\n",
      "         39     0.6364    0.3684    0.4667        19\n",
      "         40     0.3333    0.7368    0.4590        19\n",
      "         41     0.3333    0.4737    0.3913        19\n",
      "         42     0.3043    0.3684    0.3333        19\n",
      "         43     0.3846    0.2632    0.3125        19\n",
      "         44     0.2500    0.2632    0.2564        19\n",
      "         45     0.0000    0.0000    0.0000        19\n",
      "         46     0.3611    0.6842    0.4727        19\n",
      "         47     0.2000    0.1053    0.1379        19\n",
      "         48     0.0000    0.0000    0.0000        19\n",
      "         49     0.1739    0.2105    0.1905        19\n",
      "         50     0.4167    0.2632    0.3226        19\n",
      "         51     0.5000    0.2105    0.2963        19\n",
      "         52     0.4103    0.8421    0.5517        19\n",
      "         53     0.2432    0.4737    0.3214        19\n",
      "         54     0.2143    0.1579    0.1818        19\n",
      "         55     0.5000    0.1053    0.1739        19\n",
      "         56     0.0000    0.0000    0.0000        19\n",
      "         57     0.3500    0.7368    0.4746        19\n",
      "         58     0.5333    0.4211    0.4706        19\n",
      "         59     0.3333    0.1053    0.1600        19\n",
      "         60     0.3529    0.3158    0.3333        19\n",
      "         61     0.2059    0.3684    0.2642        19\n",
      "         62     0.0000    0.0000    0.0000        19\n",
      "         63     0.2800    0.3684    0.3182        19\n",
      "         64     0.2222    0.1053    0.1429        19\n",
      "         65     0.2703    0.5263    0.3571        19\n",
      "         66     0.2258    0.3684    0.2800        19\n",
      "         67     0.2500    0.1579    0.1935        19\n",
      "         68     0.3333    0.1579    0.2143        19\n",
      "\n",
      "avg / total     0.3046    0.3150    0.2771      1292\n",
      "\n"
     ]
    }
   ],
   "source": [
    "from sklearn.svm import LinearSVC\n",
    "SVM = LinearSVC(C=115, random_state=42)\n",
    "\n",
    "SVM.fit(hist_train, y_train)\n",
    "predictions = SVM.predict(hist_test)\n",
    "print classification_report(y_test, predictions, digits = 4)"
   ]
  },
  {
   "cell_type": "code",
   "execution_count": 172,
   "metadata": {
    "collapsed": false
   },
   "outputs": [
    {
     "name": "stdout",
     "output_type": "stream",
     "text": [
      "[26 68 49 ..., 64 52 21]\n",
      "(1292,)\n",
      "[[ 0.10625843  0.03016659  0.00360198 ...,  0.0009005   0.02161188\n",
      "   0.02341287]\n",
      " [ 0.09264897  0.0200087   0.00521966 ...,  0.00260983  0.0200087\n",
      "   0.01783384]\n",
      " [ 0.08254269  0.02609108  0.00759013 ...,  0.00426945  0.01612903\n",
      "   0.01850095]\n",
      " ..., \n",
      " [ 0.072324    0.02266152  0.00771456 ...,  0.00192864  0.01494696\n",
      "   0.01060752]\n",
      " [ 0.06748109  0.03432228  0.00290867 ...,  0.00407213  0.01628854\n",
      "   0.01919721]\n",
      " [ 0.06252695  0.01854247  0.00560586 ...,  0.00086244  0.01854247\n",
      "   0.01379905]]\n",
      "(1292, 128)\n"
     ]
    }
   ],
   "source": [
    "print predictions\n",
    "print predictions.shape\n",
    "print hist_test\n",
    "print hist_test.shape"
   ]
  },
  {
   "cell_type": "code",
   "execution_count": 173,
   "metadata": {
    "collapsed": false
   },
   "outputs": [
    {
     "name": "stdout",
     "output_type": "stream",
     "text": [
      "[10 50 26 ..., 26 22 46]\n",
      "[68 68 68 ...,  1  1  1]\n",
      "             precision    recall  f1-score   support\n",
      "\n",
      "          1     0.0000    0.0000    0.0000        19\n",
      "          2     0.5000    0.0526    0.0952        19\n",
      "          3     0.0000    0.0000    0.0000        19\n",
      "          4     0.1071    0.1579    0.1277        19\n",
      "          5     0.0000    0.0000    0.0000        19\n",
      "          6     0.0000    0.0000    0.0000        19\n",
      "          7     0.0000    0.0000    0.0000        19\n",
      "          8     0.0000    0.0000    0.0000        19\n",
      "          9     0.0000    0.0000    0.0000        19\n",
      "         10     0.0769    0.2105    0.1127        19\n",
      "         11     0.0000    0.0000    0.0000        19\n",
      "         12     0.0000    0.0000    0.0000        19\n",
      "         13     0.0000    0.0000    0.0000        19\n",
      "         14     0.0000    0.0000    0.0000        19\n",
      "         15     0.0000    0.0000    0.0000        19\n",
      "         16     0.0000    0.0000    0.0000        19\n",
      "         17     0.2500    0.0526    0.0870        19\n",
      "         18     0.5000    0.0526    0.0952        19\n",
      "         19     0.0000    0.0000    0.0000        19\n",
      "         20     0.0000    0.0000    0.0000        19\n",
      "         21     0.0000    0.0000    0.0000        19\n",
      "         22     0.1400    0.7368    0.2353        19\n",
      "         23     0.0000    0.0000    0.0000        19\n",
      "         24     0.1000    0.0526    0.0690        19\n",
      "         25     0.1000    0.7368    0.1761        19\n",
      "         26     0.1489    0.3684    0.2121        19\n",
      "         27     1.0000    0.1053    0.1905        19\n",
      "         28     0.1667    0.0526    0.0800        19\n",
      "         29     0.0000    0.0000    0.0000        19\n",
      "         30     0.2500    0.0526    0.0870        19\n",
      "         31     0.0556    0.0526    0.0541        19\n",
      "         32     0.0000    0.0000    0.0000        19\n",
      "         33     0.0930    0.2105    0.1290        19\n",
      "         34     0.0000    0.0000    0.0000        19\n",
      "         35     0.0000    0.0000    0.0000        19\n",
      "         36     0.0769    0.1579    0.1034        19\n",
      "         37     0.0000    0.0000    0.0000        19\n",
      "         38     0.0000    0.0000    0.0000        19\n",
      "         39     0.0000    0.0000    0.0000        19\n",
      "         40     0.4000    0.1053    0.1667        19\n",
      "         41     0.0000    0.0000    0.0000        19\n",
      "         42     0.0870    0.2105    0.1231        19\n",
      "         43     0.0000    0.0000    0.0000        19\n",
      "         44     0.0000    0.0000    0.0000        19\n",
      "         45     0.0000    0.0000    0.0000        19\n",
      "         46     0.0493    0.7895    0.0929        19\n",
      "         47     0.0000    0.0000    0.0000        19\n",
      "         48     0.0000    0.0000    0.0000        19\n",
      "         49     0.0000    0.0000    0.0000        19\n",
      "         50     0.0000    0.0000    0.0000        19\n",
      "         51     0.1429    0.0526    0.0769        19\n",
      "         52     0.1194    0.4211    0.1860        19\n",
      "         53     0.0789    0.1579    0.1053        19\n",
      "         54     0.0000    0.0000    0.0000        19\n",
      "         55     0.0000    0.0000    0.0000        19\n",
      "         56     0.0000    0.0000    0.0000        19\n",
      "         57     0.0000    0.0000    0.0000        19\n",
      "         58     0.0000    0.0000    0.0000        19\n",
      "         59     0.0435    0.0526    0.0476        19\n",
      "         60     0.0631    0.3684    0.1077        19\n",
      "         61     0.0000    0.0000    0.0000        19\n",
      "         62     0.0000    0.0000    0.0000        19\n",
      "         63     0.1000    0.0526    0.0690        19\n",
      "         64     0.0400    0.1053    0.0580        19\n",
      "         65     0.0556    0.2632    0.0917        19\n",
      "         66     1.0000    0.1053    0.1905        19\n",
      "         67     0.0000    0.0000    0.0000        19\n",
      "         68     0.0000    0.0000    0.0000        19\n",
      "\n",
      "avg / total     0.0845    0.0844    0.0466      1292\n",
      "\n"
     ]
    }
   ],
   "source": [
    "model2 = LogisticRegression()\n",
    "\n",
    "#train\n",
    "model2.fit(hist_train, y_train)\n",
    "predictions = model2.predict(hist_test)\n",
    "print predictions\n",
    "print y_test\n",
    "print classification_report(y_test, predictions, digits = 4)"
   ]
  },
  {
   "cell_type": "code",
   "execution_count": 126,
   "metadata": {
    "collapsed": false
   },
   "outputs": [
    {
     "name": "stdout",
     "output_type": "stream",
     "text": [
      "[16 68 49 ..., 29 52 45]\n"
     ]
    }
   ],
   "source": [
    "print predictions\n"
   ]
  },
  {
   "cell_type": "code",
   "execution_count": null,
   "metadata": {
    "collapsed": true
   },
   "outputs": [],
   "source": []
  }
 ],
 "metadata": {
  "kernelspec": {
   "display_name": "Python [python2]",
   "language": "python",
   "name": "Python [python2]"
  },
  "language_info": {
   "codemirror_mode": {
    "name": "ipython",
    "version": 2
   },
   "file_extension": ".py",
   "mimetype": "text/x-python",
   "name": "python",
   "nbconvert_exporter": "python",
   "pygments_lexer": "ipython2",
   "version": "2.7.13"
  }
 },
 "nbformat": 4,
 "nbformat_minor": 0
}
