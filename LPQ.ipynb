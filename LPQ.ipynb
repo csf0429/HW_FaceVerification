{
 "cells": [
  {
   "cell_type": "code",
   "execution_count": 1,
   "metadata": {
    "collapsed": true
   },
   "outputs": [],
   "source": [
    "import numpy as np\n",
    "import matplotlib.pyplot as plt\n",
    "# display plots in this notebook\n",
    "%matplotlib inline\n",
    "\n",
    " #设置默认显示参数\n",
    "plt.rcParams['figure.figsize'] = (10, 10)        # 图像显示大小\n",
    "plt.rcParams['image.interpolation'] = 'nearest'  # 最近邻差值: 像素为正方形\n",
    "plt.rcParams['image.cmap'] = 'gray'  # 使用灰度输出而不是彩色输出"
   ]
  },
  {
   "cell_type": "code",
   "execution_count": 2,
   "metadata": {
    "collapsed": false
   },
   "outputs": [
    {
     "name": "stdout",
     "output_type": "stream",
     "text": [
      "(11554, 4096)\n",
      "[[ 46  52  48 ..., 226 234 238]\n",
      " [ 50  39  32 ..., 255 254 254]\n",
      " [ 47  47  39 ..., 254 254 254]\n",
      " ..., \n",
      " [ 11  10   8 ...,  36  40  42]\n",
      " [  9  11   9 ...,  29  31  36]\n",
      " [ 12   9   9 ...,  29  34  38]]\n",
      "(11554, 1)\n",
      "[[ 1]\n",
      " [ 1]\n",
      " [ 1]\n",
      " ..., \n",
      " [68]\n",
      " [68]\n",
      " [68]]\n",
      "(11554, 1)\n",
      "[[ 0.]\n",
      " [ 0.]\n",
      " [ 0.]\n",
      " ..., \n",
      " [ 1.]\n",
      " [ 0.]\n",
      " [ 0.]]\n"
     ]
    }
   ],
   "source": [
    "import scipy.io as sio\n",
    "import os\n",
    "import sys\n",
    "\n",
    "\n",
    "## Read PIE dataset\n",
    "def read_mat ( path ):\n",
    "    c = 0\n",
    "    X ,y ,isTest= [], [],[]\n",
    "\n",
    "    for filename in os.listdir ( path ):\n",
    "        if (filename != 'Thumbs.db'):\n",
    "            data = sio.loadmat( os.path.join ( path , filename ))\n",
    "#             np.concatenate((X, data['fea']),axis = 0)\n",
    "#             np.concatenate((y, data['gnd']),axis = 0)\n",
    "            if len(X) == 0 and len(y) == 0:\n",
    "                X = data['fea']\n",
    "                y = data['gnd']\n",
    "                isTest = data['isTest']\n",
    "            else:\n",
    "                X = np.concatenate((data['fea'], X), axis = 0)\n",
    "                y =np.concatenate((data['gnd'], y), axis = 0)\n",
    "                isTest = np.concatenate((data['isTest'],isTest), axis = 0)\n",
    "    return X, y, isTest\n",
    "\n",
    "ROOT = 'dataset/PIE dataset/'\n",
    "X,y,isTest = read_mat(ROOT)\n",
    "X = np.array(X)\n",
    "y = np.array(y)\n",
    "isTest = np.array(isTest)\n",
    "\n",
    "print X.shape\n",
    "print X\n",
    "print y.shape\n",
    "print y\n",
    "print isTest.shape\n",
    "print isTest"
   ]
  },
  {
   "cell_type": "code",
   "execution_count": 3,
   "metadata": {
    "collapsed": false
   },
   "outputs": [
    {
     "name": "stdout",
     "output_type": "stream",
     "text": [
      "[[ 12   9   9 ...,  29  34  38]\n",
      " [  9  11   9 ...,  29  31  36]\n",
      " [  8  10  12 ...,  25  25  22]\n",
      " ..., \n",
      " [ 47  47  39 ..., 254 254 254]\n",
      " [ 50  39  32 ..., 255 254 254]\n",
      " [ 46  52  48 ..., 226 234 238]]\n",
      "(10262, 4096)\n"
     ]
    }
   ],
   "source": [
    "X_train, X_test, y_train, y_test = [],[],[],[]\n",
    "for i in np.arange(len(isTest)):\n",
    "    if(isTest[i] == 0):\n",
    "        if len(X_train) == 0 and len(y_train) == 0:\n",
    "            X_train = X[i]\n",
    "            y_train = y[i]\n",
    "        else:\n",
    "            X_train = np.vstack((X[i], X_train))\n",
    "            y_train = np.vstack((y[i], y_train))\n",
    "    else:\n",
    "        if len(X_test) == 0 and len(y_test) == 0:\n",
    "            X_test = X[i]\n",
    "            y_test = y[i]\n",
    "        else:\n",
    "            X_test = np.vstack((X[i], X_test))\n",
    "            y_test = np.vstack((y[i], y_test))\n",
    "\n",
    "print X_train\n",
    "print X_train.shape"
   ]
  },
  {
   "cell_type": "code",
   "execution_count": null,
   "metadata": {
    "collapsed": true
   },
   "outputs": [],
   "source": []
  }
 ],
 "metadata": {
  "anaconda-cloud": {},
  "kernelspec": {
   "display_name": "Python [python2]",
   "language": "python",
   "name": "Python [python2]"
  },
  "language_info": {
   "codemirror_mode": {
    "name": "ipython",
    "version": 2
   },
   "file_extension": ".py",
   "mimetype": "text/x-python",
   "name": "python",
   "nbconvert_exporter": "python",
   "pygments_lexer": "ipython2",
   "version": "2.7.13"
  }
 },
 "nbformat": 4,
 "nbformat_minor": 0
}
