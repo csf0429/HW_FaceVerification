{
 "cells": [
  {
   "cell_type": "code",
   "execution_count": 116,
   "metadata": {
    "collapsed": false
   },
   "outputs": [],
   "source": [
    "import scipy.io as sio\n",
    "import numpy as np\n",
    "import os\n",
    "import sys\n",
    "from PIL import Image\n",
    "import errno\n",
    "from sklearn.decomposition import PCA\n"
   ]
  },
  {
   "cell_type": "code",
   "execution_count": 2,
   "metadata": {
    "collapsed": false
   },
   "outputs": [
    {
     "data": {
      "text/plain": [
       "{'__globals__': [],\n",
       " '__header__': 'MATLAB 5.0 MAT-file Platform: nt, Created on: Mon May 08 13:10:30 2017',\n",
       " '__version__': '1.0',\n",
       " 'fea': array([[ 8,  9,  9, ..., 35, 36, 42],\n",
       "        [ 6,  7,  7, ..., 38, 32, 31],\n",
       "        [ 8,  8,  6, ..., 26, 25, 23],\n",
       "        ..., \n",
       "        [11, 10,  8, ..., 36, 40, 42],\n",
       "        [ 9, 11,  9, ..., 29, 31, 36],\n",
       "        [12,  9,  9, ..., 29, 34, 38]], dtype=uint8),\n",
       " 'gnd': array([[ 1],\n",
       "        [ 1],\n",
       "        [ 1],\n",
       "        ..., \n",
       "        [68],\n",
       "        [68],\n",
       "        [68]], dtype=uint8),\n",
       " 'isTest': array([[ 0.],\n",
       "        [ 0.],\n",
       "        [ 0.],\n",
       "        ..., \n",
       "        [ 1.],\n",
       "        [ 0.],\n",
       "        [ 0.]])}"
      ]
     },
     "execution_count": 2,
     "metadata": {},
     "output_type": "execute_result"
    }
   ],
   "source": [
    "mat_file = \"dataset/PIE dataset/Pose05_64x64.mat\"\n",
    "\n",
    "data = sio.loadmat(mat_file)\n",
    "\n",
    "data"
   ]
  },
  {
   "cell_type": "code",
   "execution_count": 3,
   "metadata": {
    "collapsed": false
   },
   "outputs": [
    {
     "data": {
      "text/plain": [
       "(3332, 4096)"
      ]
     },
     "execution_count": 3,
     "metadata": {},
     "output_type": "execute_result"
    }
   ],
   "source": [
    "data['fea'].shape"
   ]
  },
  {
   "cell_type": "code",
   "execution_count": 4,
   "metadata": {
    "collapsed": false
   },
   "outputs": [
    {
     "data": {
      "text/plain": [
       "(3332, 1)"
      ]
     },
     "execution_count": 4,
     "metadata": {},
     "output_type": "execute_result"
    }
   ],
   "source": [
    "data['gnd'].shape"
   ]
  },
  {
   "cell_type": "code",
   "execution_count": 32,
   "metadata": {
    "collapsed": false
   },
   "outputs": [
    {
     "name": "stdout",
     "output_type": "stream",
     "text": [
      "1.11022302463e-16\n"
     ]
    }
   ],
   "source": [
    "def consine_distance(feature1, feature2):\n",
    "    '''\n",
    "    @brief: compute consine distance between two vectors\n",
    "    @param : feature1\n",
    "    @param : feature2 \n",
    "    '''\n",
    "    num = np.dot(feature1,feature2.T)\n",
    "    denom = np.linalg.norm(feature1) * np.linalg.norm(feature2)\n",
    "    cos = num / denom #compute cos\n",
    "    sim = 0.5 + 0.5 * float(cos)\n",
    "    return sim\n",
    "\n",
    "# ## test \n",
    "# a = np.array([1,1])\n",
    "# b = np.array([-1,-1])\n",
    "# print consine_distance(a,b)\n",
    "        "
   ]
  },
  {
   "cell_type": "code",
   "execution_count": 146,
   "metadata": {
    "collapsed": false
   },
   "outputs": [],
   "source": [
    "def read_images ( path , sz = None ):\n",
    "    c = 0\n",
    "    X_train ,y_train = [] , []\n",
    "    X_test ,y_test = [] , []\n",
    "    for dirname , dirnames , filenames in os.walk ( path ):\n",
    "        for subdirname in dirnames :\n",
    "            subject_path = os.path.join ( dirname , subdirname )\n",
    "            \n",
    "            for filename in os.listdir ( subject_path ):\n",
    "                if (filename != 'Thumbs.db'):\n",
    "                    im = Image.open ( os.path.join ( subject_path , filename ))\n",
    "                    im = im.convert (\"L\")\n",
    "                    # resize to given size (if given )\n",
    "                    if ( sz is not None ) :\n",
    "                        im = im.resize (sz , Image.ANTIALIAS )\n",
    "                        if (filename != '4.BMP' and filename != '8.BMP'):\n",
    "                            X_train.append ( np.asarray (im , dtype = np.uint8 ) )\n",
    "                            y_train.append (c)\n",
    "                        else:\n",
    "                            X_test.append ( np.asarray (im , dtype = np.uint8 ) )\n",
    "                            y_test.append (c)\n",
    "            c = c + 1\n",
    "    return X_train , y_train, X_test, y_test"
   ]
  },
  {
   "cell_type": "code",
   "execution_count": 147,
   "metadata": {
    "collapsed": false
   },
   "outputs": [],
   "source": [
    "ROOT = \"/Users/caishaofan/Desktop/IPython/dataset/ORL/ORL92112/bmp\"\n",
    "size = 23,28\n",
    "X_train, y_train, X_test, y_test= read_images(ROOT, size)"
   ]
  },
  {
   "cell_type": "code",
   "execution_count": 148,
   "metadata": {
    "collapsed": false
   },
   "outputs": [
    {
     "name": "stdout",
     "output_type": "stream",
     "text": [
      "(320, 644)\n",
      "(80, 644)\n",
      "(320,)\n",
      "(80,)\n"
     ]
    }
   ],
   "source": [
    "\n",
    "X_train =  np.array(X_train)\n",
    "y_train = np.array(y_train)\n",
    "X_train_num = X_train.shape[0]\n",
    "\n",
    "X_test = np.array(X_test)\n",
    "y_test = np.array(y_test)\n",
    "X_test_num = X_test.shape[0]\n",
    "## reshape X_train X_test y_train y_test\n",
    "X_train = X_train.reshape((X_train_num, -1))\n",
    "X_test = X_test.reshape((X_test_num, -1))\n",
    "\n",
    "print X_train.shape\n",
    "print X_test.shape\n",
    "print y_train.shape\n",
    "print y_test.shape"
   ]
  },
  {
   "cell_type": "code",
   "execution_count": 154,
   "metadata": {
    "collapsed": false
   },
   "outputs": [
    {
     "name": "stdout",
     "output_type": "stream",
     "text": [
      "(320, 150)\n",
      "(80, 150)\n"
     ]
    }
   ],
   "source": [
    "pca = PCA(n_components = 150)\n",
    "\n",
    "#transform the training data\n",
    "X_train_reduced = pca.fit_transform(X_train)\n",
    "#transform the test data\n",
    "X_test_reduced = pca.transform(X_test)\n",
    "\n",
    "print X_train_reduced.shape\n",
    "print X_test_reduced.shape"
   ]
  },
  {
   "cell_type": "code",
   "execution_count": 155,
   "metadata": {
    "collapsed": false
   },
   "outputs": [
    {
     "name": "stdout",
     "output_type": "stream",
     "text": [
      "[ 0.19720308  0.14382384  0.07760078  0.06237401  0.05595871  0.03795961\n",
      "  0.0280227   0.02611307  0.02166097  0.02014604  0.01609794  0.01565181\n",
      "  0.01209159  0.01158073  0.01081075  0.00994615  0.00969912  0.00923013\n",
      "  0.00825681  0.00755489  0.0071716   0.00703444  0.00644305  0.00587916\n",
      "  0.00573107  0.00530108  0.00511901  0.00500038  0.004667    0.00418169\n",
      "  0.00408531  0.00401289  0.00398561  0.0037448   0.00369534  0.00358233\n",
      "  0.00344409  0.00336669  0.00323119  0.00305507  0.00296181  0.00288854\n",
      "  0.00281789  0.00270893  0.00260537  0.00244632  0.00241921  0.00232452\n",
      "  0.00230425  0.00223224  0.00215729  0.00207728  0.00199007  0.00189431\n",
      "  0.00186434  0.00183232  0.00177024  0.00175006  0.00168607  0.00164604\n",
      "  0.00163159  0.00160122  0.00153297  0.00149273  0.00148765  0.00141579\n",
      "  0.00137787  0.00137434  0.00133318  0.00129154  0.00127032  0.00124361\n",
      "  0.00119575  0.00118235  0.00115543  0.00113389  0.00110539  0.00107603\n",
      "  0.00105944  0.00101659  0.0010115   0.0010018   0.00098359  0.00096628\n",
      "  0.00093014  0.00091772  0.0008878   0.0008653   0.00084739  0.00083009\n",
      "  0.00082097  0.00081207  0.00078349  0.00076248  0.00075811  0.00074978\n",
      "  0.00070555  0.00068929  0.00068483  0.00067124  0.00066659  0.00064334\n",
      "  0.00063684  0.00061553  0.00060847  0.00060105  0.00058992  0.00058127\n",
      "  0.0005701   0.00056786  0.00055668  0.00055471  0.00053782  0.00052507\n",
      "  0.00050899  0.00050431  0.00049971  0.00049348  0.00048365  0.00047908\n",
      "  0.00047279  0.00046507  0.00045379  0.00044141  0.00043595  0.00042875\n",
      "  0.00042166  0.00041649  0.00040691  0.00040181  0.00039139  0.00038344\n",
      "  0.00037789  0.00037591  0.00036522  0.0003575   0.00034886  0.00034398\n",
      "  0.0003366   0.00033484  0.00033023  0.00032368  0.00031747  0.00031433\n",
      "  0.00031207  0.00030236  0.00029394  0.00028964  0.00028211  0.00027829]\n"
     ]
    }
   ],
   "source": [
    "print pca.explained_variance_ratio_"
   ]
  },
  {
   "cell_type": "code",
   "execution_count": 156,
   "metadata": {
    "collapsed": false
   },
   "outputs": [
    {
     "name": "stdout",
     "output_type": "stream",
     "text": [
      "             precision    recall  f1-score   support\n",
      "\n",
      "          0       1.00      1.00      1.00         2\n",
      "          1       1.00      1.00      1.00         2\n",
      "          2       0.67      1.00      0.80         2\n",
      "          3       1.00      1.00      1.00         2\n",
      "          4       0.50      1.00      0.67         2\n",
      "          5       1.00      1.00      1.00         2\n",
      "          6       1.00      1.00      1.00         2\n",
      "          7       1.00      0.50      0.67         2\n",
      "          8       1.00      1.00      1.00         2\n",
      "          9       1.00      1.00      1.00         2\n",
      "         10       1.00      1.00      1.00         2\n",
      "         11       1.00      1.00      1.00         2\n",
      "         12       1.00      1.00      1.00         2\n",
      "         13       1.00      1.00      1.00         2\n",
      "         14       1.00      0.50      0.67         2\n",
      "         15       0.50      1.00      0.67         2\n",
      "         16       1.00      1.00      1.00         2\n",
      "         17       1.00      1.00      1.00         2\n",
      "         18       1.00      1.00      1.00         2\n",
      "         19       1.00      1.00      1.00         2\n",
      "         20       1.00      0.50      0.67         2\n",
      "         21       1.00      1.00      1.00         2\n",
      "         22       1.00      1.00      1.00         2\n",
      "         23       1.00      1.00      1.00         2\n",
      "         24       1.00      1.00      1.00         2\n",
      "         25       1.00      0.50      0.67         2\n",
      "         26       1.00      0.50      0.67         2\n",
      "         27       1.00      1.00      1.00         2\n",
      "         28       1.00      1.00      1.00         2\n",
      "         29       1.00      1.00      1.00         2\n",
      "         30       1.00      1.00      1.00         2\n",
      "         31       1.00      0.50      0.67         2\n",
      "         32       1.00      1.00      1.00         2\n",
      "         33       1.00      1.00      1.00         2\n",
      "         34       1.00      1.00      1.00         2\n",
      "         35       1.00      1.00      1.00         2\n",
      "         36       0.67      1.00      0.80         2\n",
      "         37       1.00      1.00      1.00         2\n",
      "         38       1.00      1.00      1.00         2\n",
      "         39       1.00      1.00      1.00         2\n",
      "\n",
      "avg / total       0.96      0.93      0.92        80\n",
      "\n"
     ]
    }
   ],
   "source": [
    "from sklearn.linear_model import LogisticRegression\n",
    "from sklearn.metrics import classification_report\n",
    "\n",
    "model = LogisticRegression()\n",
    "\n",
    "#train\n",
    "model.fit(X_train_reduced, y_train)\n",
    "predictions = model.predict(X_test_reduced)\n",
    "\n",
    "print classification_report(y_test, predictions)"
   ]
  },
  {
   "cell_type": "code",
   "execution_count": 151,
   "metadata": {
    "collapsed": false
   },
   "outputs": [
    {
     "name": "stdout",
     "output_type": "stream",
     "text": [
      "[ 0  0  0  0  0  0  0  0  1  1  1  1  1  1  1  1  2  2  2  2  2  2  2  2  3\n",
      "  3  3  3  3  3  3  3  4  4  4  4  4  4  4  4  5  5  5  5  5  5  5  5  6  6\n",
      "  6  6  6  6  6  6  7  7  7  7  7  7  7  7  8  8  8  8  8  8  8  8  9  9  9\n",
      "  9  9  9  9  9 10 10 10 10 10 10 10 10 11 11 11 11 11 11 11 11 12 12 12 12\n",
      " 12 12 12 12 13 13 13 13 13 13 13 13 14 14 14 14 14 14 14 14 15 15 15 15 15\n",
      " 15 15 15 16 16 16 16 16 16 16 16 17 17 17 17 17 17 17 17 18 18 18 18 18 18\n",
      " 18 18 19 19 19 19 19 19 19 19 20 20 20 20 20 20 20 20 21 21 21 21 21 21 21\n",
      " 21 22 22 22 22 22 22 22 22 23 23 23 23 23 23 23 23 24 24 24 24 24 24 24 24\n",
      " 25 25 25 25 25 25 25 25 26 26 26 26 26 26 26 26 27 27 27 27 27 27 27 27 28\n",
      " 28 28 28 28 28 28 28 29 29 29 29 29 29 29 29 30 30 30 30 30 30 30 30 31 31\n",
      " 31 31 31 31 31 31 32 32 32 32 32 32 32 32 33 33 33 33 33 33 33 33 34 34 34\n",
      " 34 34 34 34 34 35 35 35 35 35 35 35 35 36 36 36 36 36 36 36 36 37 37 37 37\n",
      " 37 37 37 37 38 38 38 38 38 38 38 38 39 39 39 39 39 39 39 39]\n"
     ]
    }
   ],
   "source": [
    "print y_train"
   ]
  },
  {
   "cell_type": "code",
   "execution_count": null,
   "metadata": {
    "collapsed": true
   },
   "outputs": [],
   "source": []
  }
 ],
 "metadata": {
  "anaconda-cloud": {},
  "kernelspec": {
   "display_name": "Python [python2]",
   "language": "python",
   "name": "Python [python2]"
  },
  "language_info": {
   "codemirror_mode": {
    "name": "ipython",
    "version": 2
   },
   "file_extension": ".py",
   "mimetype": "text/x-python",
   "name": "python",
   "nbconvert_exporter": "python",
   "pygments_lexer": "ipython2",
   "version": "2.7.13"
  }
 },
 "nbformat": 4,
 "nbformat_minor": 0
}
