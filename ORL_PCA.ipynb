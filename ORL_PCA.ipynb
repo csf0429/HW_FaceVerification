{
 "cells": [
  {
   "cell_type": "code",
   "execution_count": 11,
   "metadata": {
    "collapsed": false
   },
   "outputs": [],
   "source": [
    "import scipy.io as sio\n",
    "import numpy as np\n",
    "import os\n",
    "import sys\n",
    "from PIL import Image\n",
    "import errno\n",
    "from sklearn.decomposition import PCA\n"
   ]
  },
  {
   "cell_type": "code",
   "execution_count": 12,
   "metadata": {
    "collapsed": false
   },
   "outputs": [
    {
     "data": {
      "text/plain": [
       "{'__globals__': [],\n",
       " '__header__': 'MATLAB 5.0 MAT-file Platform: nt, Created on: Mon May 08 13:10:30 2017',\n",
       " '__version__': '1.0',\n",
       " 'fea': array([[ 8,  9,  9, ..., 35, 36, 42],\n",
       "        [ 6,  7,  7, ..., 38, 32, 31],\n",
       "        [ 8,  8,  6, ..., 26, 25, 23],\n",
       "        ..., \n",
       "        [11, 10,  8, ..., 36, 40, 42],\n",
       "        [ 9, 11,  9, ..., 29, 31, 36],\n",
       "        [12,  9,  9, ..., 29, 34, 38]], dtype=uint8),\n",
       " 'gnd': array([[ 1],\n",
       "        [ 1],\n",
       "        [ 1],\n",
       "        ..., \n",
       "        [68],\n",
       "        [68],\n",
       "        [68]], dtype=uint8),\n",
       " 'isTest': array([[ 0.],\n",
       "        [ 0.],\n",
       "        [ 0.],\n",
       "        ..., \n",
       "        [ 1.],\n",
       "        [ 0.],\n",
       "        [ 0.]])}"
      ]
     },
     "execution_count": 12,
     "metadata": {},
     "output_type": "execute_result"
    }
   ],
   "source": [
    "mat_file = \"dataset/PIE dataset/Pose05_64x64.mat\"\n",
    "\n",
    "data = sio.loadmat(mat_file)\n",
    "\n",
    "data"
   ]
  },
  {
   "cell_type": "code",
   "execution_count": 13,
   "metadata": {
    "collapsed": false
   },
   "outputs": [
    {
     "data": {
      "text/plain": [
       "(3332, 4096)"
      ]
     },
     "execution_count": 13,
     "metadata": {},
     "output_type": "execute_result"
    }
   ],
   "source": [
    "data['fea'].shape"
   ]
  },
  {
   "cell_type": "code",
   "execution_count": 14,
   "metadata": {
    "collapsed": false
   },
   "outputs": [
    {
     "data": {
      "text/plain": [
       "(3332, 1)"
      ]
     },
     "execution_count": 14,
     "metadata": {},
     "output_type": "execute_result"
    }
   ],
   "source": [
    "data['gnd'].shape"
   ]
  },
  {
   "cell_type": "code",
   "execution_count": 15,
   "metadata": {
    "collapsed": false
   },
   "outputs": [],
   "source": [
    "def consine_distance(feature1, feature2):\n",
    "    '''\n",
    "    @brief: compute consine distance between two vectors\n",
    "    @param : feature1\n",
    "    @param : feature2 \n",
    "    '''\n",
    "    num = np.dot(feature1,feature2.T)\n",
    "    denom = np.linalg.norm(feature1) * np.linalg.norm(feature2)\n",
    "    cos = num / denom #compute cos\n",
    "    sim = 0.5 + 0.5 * float(cos)\n",
    "    return sim\n",
    "\n",
    "# ## test \n",
    "# a = np.array([1,1])\n",
    "# b = np.array([-1,-1])\n",
    "# print consine_distance(a,b)\n",
    "        "
   ]
  },
  {
   "cell_type": "code",
   "execution_count": 19,
   "metadata": {
    "collapsed": false
   },
   "outputs": [],
   "source": [
    "def read_images ( path , sz = None ):\n",
    "    c = 0\n",
    "    X_train ,y_train = [] , []\n",
    "    X_test ,y_test = [] , []\n",
    "    for dirname , dirnames , filenames in os.walk ( path ):\n",
    "        for subdirname in dirnames :\n",
    "            subject_path = os.path.join ( dirname , subdirname )\n",
    "            \n",
    "            for filename in os.listdir ( subject_path ):\n",
    "                if (filename != 'Thumbs.db'):\n",
    "                    im = Image.open ( os.path.join ( subject_path , filename ))\n",
    "                    im = im.convert (\"L\")\n",
    "                    # resize to given size (if given )\n",
    "                    if ( sz is not None ) :\n",
    "                        im = im.resize (sz , Image.ANTIALIAS )\n",
    "                        if (filename != '4.BMP' and filename != '8.BMP'):\n",
    "                            X_train.append ( np.asarray (im , dtype = np.uint8 ) )\n",
    "                            y_train.append (c)\n",
    "                        else:\n",
    "                            X_test.append ( np.asarray (im , dtype = np.uint8 ) )\n",
    "                            y_test.append (c)\n",
    "            c = c + 1\n",
    "    return X_train , y_train, X_test, y_test"
   ]
  },
  {
   "cell_type": "code",
   "execution_count": 27,
   "metadata": {
    "collapsed": false
   },
   "outputs": [],
   "source": [
    "ROOT = \"/Users/caishaofan/Desktop/IPython/HW_FaceVerification/dataset/ORL/ORL92112/bmp\"\n",
    "size = 23,28\n",
    "X_train, y_train, X_test, y_test= read_images(ROOT, size)"
   ]
  },
  {
   "cell_type": "code",
   "execution_count": 28,
   "metadata": {
    "collapsed": false
   },
   "outputs": [
    {
     "name": "stdout",
     "output_type": "stream",
     "text": [
      "(320, 28, 23)\n",
      "(80, 28, 23)\n",
      "(320, 644)\n",
      "(80, 644)\n",
      "(320,)\n",
      "(80,)\n"
     ]
    }
   ],
   "source": [
    "\n",
    "X_train =  np.array(X_train)\n",
    "y_train = np.array(y_train)\n",
    "X_train_num = X_train.shape[0]\n",
    "\n",
    "X_test = np.array(X_test)\n",
    "y_test = np.array(y_test)\n",
    "X_test_num = X_test.shape[0]\n",
    "\n",
    "print X_train.shape\n",
    "print X_test.shape\n",
    "## reshape X_train X_test y_train y_test\n",
    "X_train = X_train.reshape((X_train_num, -1))\n",
    "X_test = X_test.reshape((X_test_num, -1))\n",
    "\n",
    "print X_train.shape\n",
    "print X_test.shape\n",
    "print y_train.shape\n",
    "print y_test.shape"
   ]
  },
  {
   "cell_type": "code",
   "execution_count": 41,
   "metadata": {
    "collapsed": false
   },
   "outputs": [
    {
     "name": "stdout",
     "output_type": "stream",
     "text": [
      "(320, 50)\n",
      "(80, 50)\n"
     ]
    }
   ],
   "source": [
    "pca = PCA(n_components = 50)\n",
    "\n",
    "#transform the training data\n",
    "X_train_reduced = pca.fit_transform(X_train)\n",
    "#transform the test data\n",
    "X_test_reduced = pca.transform(X_test)\n",
    "\n",
    "print X_train_reduced.shape\n",
    "print X_test_reduced.shape"
   ]
  },
  {
   "cell_type": "code",
   "execution_count": 42,
   "metadata": {
    "collapsed": false
   },
   "outputs": [
    {
     "name": "stdout",
     "output_type": "stream",
     "text": [
      "[ 0.19720308  0.14382384  0.07760078  0.06237401  0.05595871  0.03795961\n",
      "  0.0280227   0.02611307  0.02166097  0.02014604  0.01609794  0.01565181\n",
      "  0.01209159  0.01158073  0.01081075  0.00994615  0.00969912  0.00923012\n",
      "  0.00825681  0.00755487  0.00717158  0.00703444  0.00644297  0.00587914\n",
      "  0.00573102  0.00530072  0.00511894  0.00500027  0.00466684  0.00418095\n",
      "  0.00408466  0.00401169  0.00398359  0.00374435  0.00369318  0.00357751\n",
      "  0.00344304  0.00336379  0.00322935  0.00303899  0.00296013  0.0028838\n",
      "  0.00281563  0.00269427  0.00258332  0.00241806  0.00239974  0.00227587\n",
      "  0.0022049   0.00218611]\n"
     ]
    }
   ],
   "source": [
    "print pca.explained_variance_ratio_"
   ]
  },
  {
   "cell_type": "code",
   "execution_count": 50,
   "metadata": {
    "collapsed": false
   },
   "outputs": [
    {
     "name": "stdout",
     "output_type": "stream",
     "text": [
      "             precision    recall  f1-score   support\n",
      "\n",
      "          0       1.00      1.00      1.00         2\n",
      "          1       1.00      1.00      1.00         2\n",
      "          2       1.00      1.00      1.00         2\n",
      "          3       1.00      1.00      1.00         2\n",
      "          4       1.00      1.00      1.00         2\n",
      "          5       1.00      1.00      1.00         2\n",
      "          6       1.00      1.00      1.00         2\n",
      "          7       1.00      1.00      1.00         2\n",
      "          8       1.00      1.00      1.00         2\n",
      "          9       1.00      1.00      1.00         2\n",
      "         10       1.00      1.00      1.00         2\n",
      "         11       1.00      1.00      1.00         2\n",
      "         12       1.00      1.00      1.00         2\n",
      "         13       1.00      1.00      1.00         2\n",
      "         14       1.00      1.00      1.00         2\n",
      "         15       1.00      1.00      1.00         2\n",
      "         16       1.00      1.00      1.00         2\n",
      "         17       1.00      1.00      1.00         2\n",
      "         18       1.00      1.00      1.00         2\n",
      "         19       1.00      1.00      1.00         2\n",
      "         20       1.00      1.00      1.00         2\n",
      "         21       1.00      1.00      1.00         2\n",
      "         22       1.00      1.00      1.00         2\n",
      "         23       1.00      1.00      1.00         2\n",
      "         24       1.00      1.00      1.00         2\n",
      "         25       1.00      1.00      1.00         2\n",
      "         26       1.00      1.00      1.00         2\n",
      "         27       1.00      1.00      1.00         2\n",
      "         28       1.00      1.00      1.00         2\n",
      "         29       1.00      1.00      1.00         2\n",
      "         30       1.00      1.00      1.00         2\n",
      "         31       1.00      1.00      1.00         2\n",
      "         32       1.00      1.00      1.00         2\n",
      "         33       1.00      1.00      1.00         2\n",
      "         34       1.00      1.00      1.00         2\n",
      "         35       1.00      1.00      1.00         2\n",
      "         36       1.00      1.00      1.00         2\n",
      "         37       1.00      1.00      1.00         2\n",
      "         38       1.00      1.00      1.00         2\n",
      "         39       1.00      1.00      1.00         2\n",
      "\n",
      "avg / total       1.00      1.00      1.00        80\n",
      "\n"
     ]
    }
   ],
   "source": [
    "from sklearn.linear_model import LogisticRegression\n",
    "from sklearn.metrics import classification_report\n",
    "\n",
    "model = LogisticRegression()\n",
    "\n",
    "#train\n",
    "model.fit(X_train_reduced, y_train)\n",
    "predictions = model.predict(X_test_reduced)\n",
    "\n",
    "print classification_report(y_test, predictions)"
   ]
  },
  {
   "cell_type": "code",
   "execution_count": 151,
   "metadata": {
    "collapsed": false
   },
   "outputs": [
    {
     "name": "stdout",
     "output_type": "stream",
     "text": [
      "[ 0  0  0  0  0  0  0  0  1  1  1  1  1  1  1  1  2  2  2  2  2  2  2  2  3\n",
      "  3  3  3  3  3  3  3  4  4  4  4  4  4  4  4  5  5  5  5  5  5  5  5  6  6\n",
      "  6  6  6  6  6  6  7  7  7  7  7  7  7  7  8  8  8  8  8  8  8  8  9  9  9\n",
      "  9  9  9  9  9 10 10 10 10 10 10 10 10 11 11 11 11 11 11 11 11 12 12 12 12\n",
      " 12 12 12 12 13 13 13 13 13 13 13 13 14 14 14 14 14 14 14 14 15 15 15 15 15\n",
      " 15 15 15 16 16 16 16 16 16 16 16 17 17 17 17 17 17 17 17 18 18 18 18 18 18\n",
      " 18 18 19 19 19 19 19 19 19 19 20 20 20 20 20 20 20 20 21 21 21 21 21 21 21\n",
      " 21 22 22 22 22 22 22 22 22 23 23 23 23 23 23 23 23 24 24 24 24 24 24 24 24\n",
      " 25 25 25 25 25 25 25 25 26 26 26 26 26 26 26 26 27 27 27 27 27 27 27 27 28\n",
      " 28 28 28 28 28 28 28 29 29 29 29 29 29 29 29 30 30 30 30 30 30 30 30 31 31\n",
      " 31 31 31 31 31 31 32 32 32 32 32 32 32 32 33 33 33 33 33 33 33 33 34 34 34\n",
      " 34 34 34 34 34 35 35 35 35 35 35 35 35 36 36 36 36 36 36 36 36 37 37 37 37\n",
      " 37 37 37 37 38 38 38 38 38 38 38 38 39 39 39 39 39 39 39 39]\n"
     ]
    }
   ],
   "source": [
    "print y_train"
   ]
  },
  {
   "cell_type": "code",
   "execution_count": 44,
   "metadata": {
    "collapsed": false
   },
   "outputs": [
    {
     "name": "stdout",
     "output_type": "stream",
     "text": [
      "0 \t0 \tTrue\n",
      "0 \t0 \tTrue\n",
      "1 \t1 \tTrue\n",
      "1 \t1 \tTrue\n",
      "2 \t2 \tTrue\n",
      "2 \t2 \tTrue\n",
      "3 \t3 \tTrue\n",
      "3 \t3 \tTrue\n",
      "4 \t4 \tTrue\n",
      "4 \t4 \tTrue\n",
      "5 \t5 \tTrue\n",
      "5 \t5 \tTrue\n",
      "6 \t6 \tTrue\n",
      "6 \t6 \tTrue\n",
      "7 \t7 \tTrue\n",
      "7 \t7 \tTrue\n",
      "8 \t8 \tTrue\n",
      "8 \t8 \tTrue\n",
      "9 \t9 \tTrue\n",
      "9 \t9 \tTrue\n",
      "10 \t10 \tTrue\n",
      "10 \t10 \tTrue\n",
      "11 \t11 \tTrue\n",
      "11 \t11 \tTrue\n",
      "12 \t12 \tTrue\n",
      "12 \t12 \tTrue\n",
      "13 \t13 \tTrue\n",
      "13 \t13 \tTrue\n",
      "14 \t14 \tTrue\n",
      "14 \t14 \tTrue\n",
      "15 \t15 \tTrue\n",
      "15 \t15 \tTrue\n",
      "16 \t16 \tTrue\n",
      "16 \t16 \tTrue\n",
      "17 \t17 \tTrue\n",
      "17 \t17 \tTrue\n",
      "18 \t18 \tTrue\n",
      "18 \t18 \tTrue\n",
      "19 \t19 \tTrue\n",
      "19 \t19 \tTrue\n",
      "20 \t20 \tTrue\n",
      "20 \t20 \tTrue\n",
      "21 \t21 \tTrue\n",
      "21 \t21 \tTrue\n",
      "22 \t22 \tTrue\n",
      "22 \t22 \tTrue\n",
      "23 \t23 \tTrue\n",
      "23 \t23 \tTrue\n",
      "24 \t24 \tTrue\n",
      "24 \t24 \tTrue\n",
      "25 \t25 \tTrue\n",
      "25 \t25 \tTrue\n",
      "26 \t26 \tTrue\n",
      "26 \t26 \tTrue\n",
      "27 \t27 \tTrue\n",
      "27 \t27 \tTrue\n",
      "28 \t28 \tTrue\n",
      "28 \t28 \tTrue\n",
      "29 \t29 \tTrue\n",
      "29 \t29 \tTrue\n",
      "30 \t30 \tTrue\n",
      "30 \t30 \tTrue\n",
      "31 \t31 \tTrue\n",
      "31 \t31 \tTrue\n",
      "32 \t32 \tTrue\n",
      "32 \t32 \tTrue\n",
      "33 \t33 \tTrue\n",
      "33 \t33 \tTrue\n",
      "34 \t34 \tTrue\n",
      "34 \t34 \tTrue\n",
      "35 \t35 \tTrue\n",
      "35 \t35 \tTrue\n",
      "36 \t36 \tTrue\n",
      "36 \t36 \tTrue\n",
      "37 \t37 \tTrue\n",
      "37 \t37 \tTrue\n",
      "38 \t38 \tTrue\n",
      "38 \t38 \tTrue\n",
      "39 \t39 \tTrue\n",
      "39 \t39 \tTrue\n"
     ]
    }
   ],
   "source": [
    "for p,v in zip(y_test, predictions):\n",
    "    print p, '\\t', v, '\\t', p == v"
   ]
  },
  {
   "cell_type": "code",
   "execution_count": 104,
   "metadata": {
    "collapsed": false
   },
   "outputs": [
    {
     "name": "stdout",
     "output_type": "stream",
     "text": [
      "             precision    recall  f1-score   support\n",
      "\n",
      "          0     1.0000    1.0000    1.0000         2\n",
      "          1     1.0000    1.0000    1.0000         2\n",
      "          2     1.0000    1.0000    1.0000         2\n",
      "          3     1.0000    1.0000    1.0000         2\n",
      "          4     1.0000    1.0000    1.0000         2\n",
      "          5     1.0000    1.0000    1.0000         2\n",
      "          6     1.0000    1.0000    1.0000         2\n",
      "          7     1.0000    1.0000    1.0000         2\n",
      "          8     1.0000    1.0000    1.0000         2\n",
      "          9     1.0000    1.0000    1.0000         2\n",
      "         10     1.0000    1.0000    1.0000         2\n",
      "         11     1.0000    1.0000    1.0000         2\n",
      "         12     1.0000    1.0000    1.0000         2\n",
      "         13     1.0000    1.0000    1.0000         2\n",
      "         14     1.0000    1.0000    1.0000         2\n",
      "         15     1.0000    1.0000    1.0000         2\n",
      "         16     1.0000    1.0000    1.0000         2\n",
      "         17     1.0000    1.0000    1.0000         2\n",
      "         18     1.0000    1.0000    1.0000         2\n",
      "         19     1.0000    1.0000    1.0000         2\n",
      "         20     1.0000    0.5000    0.6667         2\n",
      "         21     1.0000    1.0000    1.0000         2\n",
      "         22     1.0000    1.0000    1.0000         2\n",
      "         23     1.0000    1.0000    1.0000         2\n",
      "         24     1.0000    1.0000    1.0000         2\n",
      "         25     1.0000    1.0000    1.0000         2\n",
      "         26     1.0000    1.0000    1.0000         2\n",
      "         27     1.0000    1.0000    1.0000         2\n",
      "         28     1.0000    1.0000    1.0000         2\n",
      "         29     1.0000    1.0000    1.0000         2\n",
      "         30     0.6667    1.0000    0.8000         2\n",
      "         31     1.0000    1.0000    1.0000         2\n",
      "         32     1.0000    1.0000    1.0000         2\n",
      "         33     1.0000    1.0000    1.0000         2\n",
      "         34     1.0000    0.5000    0.6667         2\n",
      "         35     0.5000    0.5000    0.5000         2\n",
      "         36     0.6667    1.0000    0.8000         2\n",
      "         37     1.0000    1.0000    1.0000         2\n",
      "         38     1.0000    1.0000    1.0000         2\n",
      "         39     1.0000    1.0000    1.0000         2\n",
      "\n",
      "avg / total     0.9708    0.9625    0.9608        80\n",
      "\n",
      "             precision    recall  f1-score   support\n",
      "\n",
      "          0     1.0000    1.0000    1.0000         2\n",
      "          1     1.0000    1.0000    1.0000         2\n",
      "          2     1.0000    1.0000    1.0000         2\n",
      "          3     1.0000    1.0000    1.0000         2\n",
      "          4     1.0000    1.0000    1.0000         2\n",
      "          5     1.0000    1.0000    1.0000         2\n",
      "          6     1.0000    1.0000    1.0000         2\n",
      "          7     1.0000    0.5000    0.6667         2\n",
      "          8     1.0000    1.0000    1.0000         2\n",
      "          9     1.0000    1.0000    1.0000         2\n",
      "         10     1.0000    1.0000    1.0000         2\n",
      "         11     1.0000    1.0000    1.0000         2\n",
      "         12     1.0000    1.0000    1.0000         2\n",
      "         13     1.0000    1.0000    1.0000         2\n",
      "         14     1.0000    1.0000    1.0000         2\n",
      "         15     1.0000    1.0000    1.0000         2\n",
      "         16     1.0000    1.0000    1.0000         2\n",
      "         17     1.0000    1.0000    1.0000         2\n",
      "         18     1.0000    1.0000    1.0000         2\n",
      "         19     0.6667    1.0000    0.8000         2\n",
      "         20     1.0000    0.5000    0.6667         2\n",
      "         21     1.0000    1.0000    1.0000         2\n",
      "         22     1.0000    1.0000    1.0000         2\n",
      "         23     1.0000    1.0000    1.0000         2\n",
      "         24     1.0000    1.0000    1.0000         2\n",
      "         25     1.0000    1.0000    1.0000         2\n",
      "         26     1.0000    1.0000    1.0000         2\n",
      "         27     1.0000    1.0000    1.0000         2\n",
      "         28     1.0000    1.0000    1.0000         2\n",
      "         29     1.0000    1.0000    1.0000         2\n",
      "         30     0.6667    1.0000    0.8000         2\n",
      "         31     1.0000    1.0000    1.0000         2\n",
      "         32     1.0000    1.0000    1.0000         2\n",
      "         33     1.0000    1.0000    1.0000         2\n",
      "         34     1.0000    0.5000    0.6667         2\n",
      "         35     0.5000    0.5000    0.5000         2\n",
      "         36     0.6667    1.0000    0.8000         2\n",
      "         37     1.0000    1.0000    1.0000         2\n",
      "         38     1.0000    1.0000    1.0000         2\n",
      "         39     1.0000    1.0000    1.0000         2\n",
      "\n",
      "avg / total     0.9625    0.9500    0.9475        80\n",
      "\n",
      "             precision    recall  f1-score   support\n",
      "\n",
      "          0     1.0000    1.0000    1.0000         2\n",
      "          1     1.0000    1.0000    1.0000         2\n",
      "          2     1.0000    1.0000    1.0000         2\n",
      "          3     1.0000    1.0000    1.0000         2\n",
      "          4     1.0000    1.0000    1.0000         2\n",
      "          5     1.0000    1.0000    1.0000         2\n",
      "          6     1.0000    1.0000    1.0000         2\n",
      "          7     1.0000    1.0000    1.0000         2\n",
      "          8     1.0000    1.0000    1.0000         2\n",
      "          9     1.0000    1.0000    1.0000         2\n",
      "         10     1.0000    1.0000    1.0000         2\n",
      "         11     1.0000    1.0000    1.0000         2\n",
      "         12     1.0000    1.0000    1.0000         2\n",
      "         13     1.0000    1.0000    1.0000         2\n",
      "         14     1.0000    1.0000    1.0000         2\n",
      "         15     1.0000    1.0000    1.0000         2\n",
      "         16     1.0000    1.0000    1.0000         2\n",
      "         17     1.0000    1.0000    1.0000         2\n",
      "         18     1.0000    1.0000    1.0000         2\n",
      "         19     1.0000    1.0000    1.0000         2\n",
      "         20     1.0000    0.5000    0.6667         2\n",
      "         21     1.0000    1.0000    1.0000         2\n",
      "         22     1.0000    1.0000    1.0000         2\n",
      "         23     1.0000    1.0000    1.0000         2\n",
      "         24     1.0000    1.0000    1.0000         2\n",
      "         25     1.0000    1.0000    1.0000         2\n",
      "         26     1.0000    1.0000    1.0000         2\n",
      "         27     1.0000    1.0000    1.0000         2\n",
      "         28     1.0000    1.0000    1.0000         2\n",
      "         29     1.0000    1.0000    1.0000         2\n",
      "         30     0.6667    1.0000    0.8000         2\n",
      "         31     1.0000    1.0000    1.0000         2\n",
      "         32     1.0000    1.0000    1.0000         2\n",
      "         33     1.0000    1.0000    1.0000         2\n",
      "         34     1.0000    0.5000    0.6667         2\n",
      "         35     0.5000    0.5000    0.5000         2\n",
      "         36     0.6667    1.0000    0.8000         2\n",
      "         37     1.0000    1.0000    1.0000         2\n",
      "         38     1.0000    1.0000    1.0000         2\n",
      "         39     1.0000    1.0000    1.0000         2\n",
      "\n",
      "avg / total     0.9708    0.9625    0.9608        80\n",
      "\n",
      "             precision    recall  f1-score   support\n",
      "\n",
      "          0     1.0000    1.0000    1.0000         2\n",
      "          1     1.0000    1.0000    1.0000         2\n",
      "          2     1.0000    1.0000    1.0000         2\n",
      "          3     1.0000    1.0000    1.0000         2\n",
      "          4     1.0000    1.0000    1.0000         2\n",
      "          5     0.5000    1.0000    0.6667         2\n",
      "          6     0.0000    0.0000    0.0000         2\n",
      "          7     1.0000    0.5000    0.6667         2\n",
      "          8     1.0000    1.0000    1.0000         2\n",
      "          9     1.0000    1.0000    1.0000         2\n",
      "         10     1.0000    1.0000    1.0000         2\n",
      "         11     1.0000    1.0000    1.0000         2\n",
      "         12     1.0000    1.0000    1.0000         2\n",
      "         13     1.0000    1.0000    1.0000         2\n",
      "         14     1.0000    1.0000    1.0000         2\n",
      "         15     1.0000    1.0000    1.0000         2\n",
      "         16     1.0000    1.0000    1.0000         2\n",
      "         17     1.0000    0.5000    0.6667         2\n",
      "         18     1.0000    1.0000    1.0000         2\n",
      "         19     0.6667    1.0000    0.8000         2\n",
      "         20     0.0000    0.0000    0.0000         2\n",
      "         21     1.0000    1.0000    1.0000         2\n",
      "         22     1.0000    1.0000    1.0000         2\n",
      "         23     1.0000    1.0000    1.0000         2\n",
      "         24     1.0000    0.5000    0.6667         2\n",
      "         25     1.0000    1.0000    1.0000         2\n",
      "         26     1.0000    1.0000    1.0000         2\n",
      "         27     0.4000    1.0000    0.5714         2\n",
      "         28     1.0000    1.0000    1.0000         2\n",
      "         29     1.0000    1.0000    1.0000         2\n",
      "         30     0.5000    0.5000    0.5000         2\n",
      "         31     1.0000    1.0000    1.0000         2\n",
      "         32     1.0000    1.0000    1.0000         2\n",
      "         33     1.0000    1.0000    1.0000         2\n",
      "         34     1.0000    0.5000    0.6667         2\n",
      "         35     0.3333    0.5000    0.4000         2\n",
      "         36     0.6667    1.0000    0.8000         2\n",
      "         37     1.0000    1.0000    1.0000         2\n",
      "         38     1.0000    1.0000    1.0000         2\n",
      "         39     1.0000    1.0000    1.0000         2\n",
      "\n",
      "avg / total     0.8767    0.8750    0.8601        80\n",
      "\n",
      "             precision    recall  f1-score   support\n",
      "\n",
      "          0     1.0000    1.0000    1.0000         2\n",
      "          1     1.0000    1.0000    1.0000         2\n",
      "          2     1.0000    1.0000    1.0000         2\n",
      "          3     1.0000    1.0000    1.0000         2\n",
      "          4     1.0000    1.0000    1.0000         2\n",
      "          5     1.0000    1.0000    1.0000         2\n",
      "          6     1.0000    1.0000    1.0000         2\n",
      "          7     1.0000    1.0000    1.0000         2\n",
      "          8     1.0000    1.0000    1.0000         2\n",
      "          9     1.0000    1.0000    1.0000         2\n",
      "         10     1.0000    1.0000    1.0000         2\n",
      "         11     1.0000    1.0000    1.0000         2\n",
      "         12     1.0000    1.0000    1.0000         2\n",
      "         13     1.0000    1.0000    1.0000         2\n",
      "         14     1.0000    1.0000    1.0000         2\n",
      "         15     1.0000    1.0000    1.0000         2\n",
      "         16     1.0000    1.0000    1.0000         2\n",
      "         17     1.0000    1.0000    1.0000         2\n",
      "         18     1.0000    1.0000    1.0000         2\n",
      "         19     1.0000    1.0000    1.0000         2\n",
      "         20     1.0000    0.5000    0.6667         2\n",
      "         21     1.0000    1.0000    1.0000         2\n",
      "         22     1.0000    1.0000    1.0000         2\n",
      "         23     1.0000    1.0000    1.0000         2\n",
      "         24     1.0000    1.0000    1.0000         2\n",
      "         25     1.0000    1.0000    1.0000         2\n",
      "         26     1.0000    1.0000    1.0000         2\n",
      "         27     1.0000    1.0000    1.0000         2\n",
      "         28     1.0000    1.0000    1.0000         2\n",
      "         29     1.0000    1.0000    1.0000         2\n",
      "         30     0.6667    1.0000    0.8000         2\n",
      "         31     1.0000    1.0000    1.0000         2\n",
      "         32     1.0000    1.0000    1.0000         2\n",
      "         33     1.0000    1.0000    1.0000         2\n",
      "         34     1.0000    0.5000    0.6667         2\n",
      "         35     0.5000    0.5000    0.5000         2\n",
      "         36     0.6667    1.0000    0.8000         2\n",
      "         37     1.0000    1.0000    1.0000         2\n",
      "         38     1.0000    1.0000    1.0000         2\n",
      "         39     1.0000    1.0000    1.0000         2\n",
      "\n",
      "avg / total     0.9708    0.9625    0.9608        80\n",
      "\n"
     ]
    }
   ],
   "source": [
    "### PCA + SVM \n",
    "from sklearn.svm import LinearSVC\n",
    "C_list = [0.000000115,0.00000015,0.0000001,0.00000001,0.000000089]\n",
    "for c in C_list:\n",
    "    model = LinearSVC(C= c, random_state= 42)\n",
    "\n",
    "    model.fit(X_train_reduced, y_train)\n",
    "    # model.decision_function_shape = \"ovr\"\n",
    "    predictions = model.predict(X_test_reduced)\n",
    "    print classification_report(y_test, predictions, digits = 4)"
   ]
  },
  {
   "cell_type": "code",
   "execution_count": null,
   "metadata": {
    "collapsed": true
   },
   "outputs": [],
   "source": []
  }
 ],
 "metadata": {
  "anaconda-cloud": {},
  "kernelspec": {
   "display_name": "Python [python2]",
   "language": "python",
   "name": "Python [python2]"
  },
  "language_info": {
   "codemirror_mode": {
    "name": "ipython",
    "version": 2
   },
   "file_extension": ".py",
   "mimetype": "text/x-python",
   "name": "python",
   "nbconvert_exporter": "python",
   "pygments_lexer": "ipython2",
   "version": "2.7.13"
  }
 },
 "nbformat": 4,
 "nbformat_minor": 0
}
