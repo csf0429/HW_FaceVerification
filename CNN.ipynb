{
 "cells": [
  {
   "cell_type": "code",
   "execution_count": 1,
   "metadata": {
    "collapsed": true
   },
   "outputs": [],
   "source": [
    "import numpy as np\n",
    "import matplotlib.pyplot as plt\n",
    "# display plots in this notebook\n",
    "%matplotlib inline\n",
    "\n",
    " #设置默认显示参数\n",
    "plt.rcParams['figure.figsize'] = (10, 10)        # 图像显示大小\n",
    "plt.rcParams['image.interpolation'] = 'nearest'  # 最近邻差值: 像素为正方形\n",
    "plt.rcParams['image.cmap'] = 'gray'  # 使用灰度输出而不是彩色输出"
   ]
  },
  {
   "cell_type": "code",
   "execution_count": 2,
   "metadata": {
    "collapsed": false
   },
   "outputs": [
    {
     "name": "stdout",
     "output_type": "stream",
     "text": [
      "/Users/caishaofan/Desktop/BUAA/Caffe/caffe/\n"
     ]
    }
   ],
   "source": [
    "import sys\n",
    "caffe_root = '/Users/caishaofan/Desktop/BUAA/Caffe/caffe/'\n",
    "print caffe_root\n",
    "sys.path.insert(0, caffe_root + 'python')\n",
    "\n",
    "import caffe\n",
    "\n",
    "from pylab import *\n",
    "%matplotlib inline\n",
    "import tempfile"
   ]
  },
  {
   "cell_type": "code",
   "execution_count": 4,
   "metadata": {
    "collapsed": false
   },
   "outputs": [
    {
     "name": "stdout",
     "output_type": "stream",
     "text": [
      "(11554, 4096)\n",
      "[[ 46  52  48 ..., 226 234 238]\n",
      " [ 50  39  32 ..., 255 254 254]\n",
      " [ 47  47  39 ..., 254 254 254]\n",
      " ..., \n",
      " [ 11  10   8 ...,  36  40  42]\n",
      " [  9  11   9 ...,  29  31  36]\n",
      " [ 12   9   9 ...,  29  34  38]]\n",
      "(11554, 1)\n",
      "[[ 1]\n",
      " [ 1]\n",
      " [ 1]\n",
      " ..., \n",
      " [68]\n",
      " [68]\n",
      " [68]]\n",
      "(11554, 1)\n",
      "[[ 0.]\n",
      " [ 0.]\n",
      " [ 0.]\n",
      " ..., \n",
      " [ 1.]\n",
      " [ 0.]\n",
      " [ 0.]]\n"
     ]
    }
   ],
   "source": [
    "import scipy.io as sio\n",
    "import os\n",
    "import sys\n",
    "\n",
    "\n",
    "## Read PIE dataset\n",
    "def read_mat ( path ):\n",
    "    c = 0\n",
    "    X ,y ,isTest= [], [],[]\n",
    "\n",
    "    for filename in os.listdir ( path ):\n",
    "        if (filename != 'Thumbs.db'):\n",
    "            data = sio.loadmat( os.path.join ( path , filename ))\n",
    "#             np.concatenate((X, data['fea']),axis = 0)\n",
    "#             np.concatenate((y, data['gnd']),axis = 0)\n",
    "            if len(X) == 0 and len(y) == 0:\n",
    "                X = data['fea']\n",
    "                y = data['gnd']\n",
    "                isTest = data['isTest']\n",
    "            else:\n",
    "                X = np.concatenate((data['fea'], X), axis = 0)\n",
    "                y =np.concatenate((data['gnd'], y), axis = 0)\n",
    "                isTest = np.concatenate((data['isTest'],isTest), axis = 0)\n",
    "    return X, y, isTest\n",
    "\n",
    "ROOT = 'dataset/PIE dataset/'\n",
    "X,y,isTest = read_mat(ROOT)\n",
    "X = np.array(X)\n",
    "y = np.array(y)\n",
    "isTest = np.array(isTest)\n",
    "\n",
    "print X.shape\n",
    "print X\n",
    "print y.shape\n",
    "print y\n",
    "print isTest.shape\n",
    "print isTest"
   ]
  },
  {
   "cell_type": "code",
   "execution_count": 5,
   "metadata": {
    "collapsed": false
   },
   "outputs": [
    {
     "name": "stdout",
     "output_type": "stream",
     "text": [
      "[]\n",
      "[]\n",
      "[[ 12   9   9 ...,  29  34  38]\n",
      " [  9  11   9 ...,  29  31  36]\n",
      " [  8  10  12 ...,  25  25  22]\n",
      " ..., \n",
      " [ 47  47  39 ..., 254 254 254]\n",
      " [ 50  39  32 ..., 255 254 254]\n",
      " [ 46  52  48 ..., 226 234 238]]\n",
      "(10262, 4096)\n"
     ]
    }
   ],
   "source": [
    "X_train, X_test, y_train, y_test = [],[],[],[]\n",
    "for i in np.arange(len(isTest)):\n",
    "    if(isTest[i] == 0):\n",
    "        if len(X_train) == 0 and len(y_train) == 0:\n",
    "            X_train = X[i]\n",
    "            y_train = y[i]\n",
    "        else:\n",
    "            X_train = np.vstack((X[i], X_train))\n",
    "            y_train = np.vstack((y[i], y_train))\n",
    "    else:\n",
    "        if len(X_test) == 0 and len(y_test) == 0:\n",
    "            X_test = X[i]\n",
    "            y_test = y[i]\n",
    "        else:\n",
    "            X_test = np.vstack((X[i], X_test))\n",
    "            y_test = np.vstack((y[i], y_test))\n",
    "\n",
    "print X_train\n",
    "print X_train.shape"
   ]
  },
  {
   "cell_type": "code",
   "execution_count": 6,
   "metadata": {
    "collapsed": false
   },
   "outputs": [
    {
     "name": "stdout",
     "output_type": "stream",
     "text": [
      "[[ 12   9   9 ...,  29  34  38]\n",
      " [  9  11   9 ...,  29  31  36]\n",
      " [  8  10  12 ...,  25  25  22]\n",
      " ..., \n",
      " [ 47  47  39 ..., 254 254 254]\n",
      " [ 50  39  32 ..., 255 254 254]\n",
      " [ 46  52  48 ..., 226 234 238]]\n",
      "(10262, 4096)\n",
      "[[ 11  10   8 ...,  36  40  42]\n",
      " [ 10  11  21 ...,  36  36  34]\n",
      " [  4   4   5 ...,  26  23  20]\n",
      " ..., \n",
      " [ 22  21  26 ...,  48  47  44]\n",
      " [ 16  16  17 ...,  25  25  24]\n",
      " [ 98 195 181 ...,  81  76  72]]\n",
      "(1292, 4096)\n",
      "(10262,)\n",
      "(1292,)\n"
     ]
    }
   ],
   "source": [
    "# show the shape of X_train X_test y_train y_test\n",
    "print X_train\n",
    "print X_train.shape\n",
    "print X_test\n",
    "print X_test.shape\n",
    "\n",
    "y_train = y_train.reshape(y_train.shape[0])\n",
    "y_test = y_test.reshape(y_test.shape[0])\n",
    "print y_train.shape\n",
    "print y_test.shape"
   ]
  },
  {
   "cell_type": "code",
   "execution_count": 8,
   "metadata": {
    "collapsed": true
   },
   "outputs": [],
   "source": [
    "weights = os.path.join(caffe_root, 'models/bvlc_reference_caffenet/bvlc_reference_caffenet.caffemodel')\n",
    "assert os.path.exists(weights)\n"
   ]
  },
  {
   "cell_type": "code",
   "execution_count": 17,
   "metadata": {
    "collapsed": true
   },
   "outputs": [],
   "source": [
    "from caffe import layers as L\n",
    "from caffe import params as P\n",
    "\n",
    "weight_params = dict(lr_mult = 1, decay_mult = 1)\n",
    "bias_params = dict(lr_mult = 2, decay_mult = 0)\n",
    "learned_param = [weight_params, bias_params]\n",
    "\n",
    "frozen_param = [dict(lr_mult=0)] * 2\n",
    "\n",
    "def conv_relu(bottom, ks, nout, stride=1, pad=0, group=1,\n",
    "              param=learned_param,\n",
    "              weight_filler=dict(type='gaussian', std=0.01),\n",
    "              bias_filler=dict(type='constant', value=0.1)):\n",
    "    conv = L.Convolution(bottom, kernel_size=ks, stride=stride,\n",
    "                         num_output=nout, pad=pad, group=group,\n",
    "                         param=param, weight_filler=weight_filler,\n",
    "                         bias_filler=bias_filler)\n",
    "    return conv, L.ReLU(conv, in_place=True)\n",
    "\n",
    "def fc_relu(bottom, nout, param=learned_param,\n",
    "            weight_filler=dict(type='gaussian', std=0.005),\n",
    "            bias_filler=dict(type='constant', value=0.1)):\n",
    "    fc = L.InnerProduct(bottom, num_output=nout, param=param,\n",
    "                        weight_filler=weight_filler,\n",
    "                        bias_filler=bias_filler)\n",
    "    return fc, L.ReLU(fc, in_place=True)\n",
    "\n",
    "def max_pool(bottom, ks, stride=1):\n",
    "    return L.Pooling(bottom, pool=P.Pooling.MAX, kernel_size=ks, stride=stride)\n",
    "\n",
    "def caffenet(data, label=None, train=True, num_classes=1000,\n",
    "             classifier_name='fc8', learn_all=False):\n",
    "    \"\"\"Returns a NetSpec specifying CaffeNet, following the original proto text\n",
    "       specification (./models/bvlc_reference_caffenet/train_val.prototxt).\"\"\"\n",
    "    n = caffe.NetSpec()\n",
    "    n.data = data\n",
    "    param = learned_param if learn_all else frozen_param\n",
    "    n.conv1, n.relu1 = conv_relu(n.data, 11, 96, stride=4, param=param)\n",
    "    n.pool1 = max_pool(n.relu1, 3, stride=2)\n",
    "    n.norm1 = L.LRN(n.pool1, local_size=5, alpha=1e-4, beta=0.75)\n",
    "    n.conv2, n.relu2 = conv_relu(n.norm1, 5, 256, pad=2, group=2, param=param)\n",
    "    n.pool2 = max_pool(n.relu2, 3, stride=2)\n",
    "    n.norm2 = L.LRN(n.pool2, local_size=5, alpha=1e-4, beta=0.75)\n",
    "    n.conv3, n.relu3 = conv_relu(n.norm2, 3, 384, pad=1, param=param)\n",
    "    n.conv4, n.relu4 = conv_relu(n.relu3, 3, 384, pad=1, group=2, param=param)\n",
    "    n.conv5, n.relu5 = conv_relu(n.relu4, 3, 256, pad=1, group=2, param=param)\n",
    "    n.pool5 = max_pool(n.relu5, 3, stride=2)\n",
    "    n.fc6, n.relu6 = fc_relu(n.pool5, 4096, param=param)\n",
    "    if train:\n",
    "        n.drop6 = fc7input = L.Dropout(n.relu6, in_place=True)\n",
    "    else:\n",
    "        fc7input = n.relu6\n",
    "    n.fc7, n.relu7 = fc_relu(fc7input, 4096, param=param)\n",
    "    if train:\n",
    "        n.drop7 = fc8input = L.Dropout(n.relu7, in_place=True)\n",
    "    else:\n",
    "        fc8input = n.relu7\n",
    "    # always learn fc8 (param=learned_param)\n",
    "    fc8 = L.InnerProduct(fc8input, num_output=num_classes, param=learned_param)\n",
    "    # give fc8 the name specified by argument `classifier_name`\n",
    "    n.__setattr__(classifier_name, fc8)\n",
    "    if not train:\n",
    "        n.probs = L.Softmax(fc8)\n",
    "    if label is not None:\n",
    "        n.label = label\n",
    "        n.loss = L.SoftmaxWithLoss(fc8, n.label)\n",
    "        n.acc = L.Accuracy(fc8, n.label)\n",
    "    # write the net to a temporary file and return its filename\n",
    "    with tempfile.NamedTemporaryFile(delete=False) as f:\n",
    "        f.write(str(n.to_proto()))\n",
    "        return f.name"
   ]
  },
  {
   "cell_type": "code",
   "execution_count": 18,
   "metadata": {
    "collapsed": false
   },
   "outputs": [],
   "source": [
    "from pylab import *\n",
    "import tempfile\n",
    "dummy_data = L.DummyData(shape=dict(dim=[1, 3, 227, 227]))\n",
    "imagenet_net_filename = caffenet(data=dummy_data, train=False)\n",
    "imagenet_net = caffe.Net(imagenet_net_filename, weights, caffe.TEST)\n"
   ]
  },
  {
   "cell_type": "code",
   "execution_count": null,
   "metadata": {
    "collapsed": true
   },
   "outputs": [],
   "source": [
    "def style_net(train=True, learn_all=False, subset=None):\n",
    "    if subset is None:\n",
    "        subset = 'train' if train else 'test'\n",
    "    source = caffe_root + 'data/flickr_style/%s.txt' % subset\n",
    "    transform_param = dict(mirror=train, crop_size=227,\n",
    "        mean_file=caffe_root + 'data/ilsvrc12/imagenet_mean.binaryproto')\n",
    "    style_data, style_label = L.ImageData(\n",
    "        transform_param=transform_param, source=source,\n",
    "        batch_size=50, new_height=256, new_width=256, ntop=2)\n",
    "    return caffenet(data=style_data, label=style_label, train=train,\n",
    "                    num_classes=NUM_STYLE_LABELS,\n",
    "                    classifier_name='fc8_flickr',\n",
    "                    learn_all=learn_all)"
   ]
  },
  {
   "cell_type": "code",
   "execution_count": 3,
   "metadata": {
    "collapsed": false
   },
   "outputs": [
    {
     "name": "stdout",
     "output_type": "stream",
     "text": [
      "Downloading 2000 images with 7 workers...\n",
      "Writing train/val for 0 successfully downloaded images.\n"
     ]
    }
   ],
   "source": [
    "# Download just a small subset of the data for this exercise.\n",
    "# (2000 of 80K images, 5 of 20 labels.)\n",
    "# To download the entire dataset, set `full_dataset = True`.\n",
    "full_dataset = False\n",
    "if full_dataset:\n",
    "    NUM_STYLE_IMAGES = NUM_STYLE_LABELS = -1\n",
    "else:\n",
    "    NUM_STYLE_IMAGES = 2000\n",
    "    NUM_STYLE_LABELS = 5\n",
    "\n",
    "# This downloads the ilsvrc auxiliary data (mean file, etc),\n",
    "# and a subset of 2000 images for the style recognition task.\n",
    "import os\n",
    "os.chdir(caffe_root)  # run scripts from caffe root\n",
    "!python examples/finetune_flickr_style/assemble_data.py \\\n",
    "    --workers=-1  --seed=1701 \\\n",
    "    --images=$NUM_STYLE_IMAGES  --label=$NUM_STYLE_LABELS\n",
    "# back to examples\n",
    "os.chdir('examples')"
   ]
  },
  {
   "cell_type": "code",
   "execution_count": null,
   "metadata": {
    "collapsed": true
   },
   "outputs": [],
   "source": []
  }
 ],
 "metadata": {
  "kernelspec": {
   "display_name": "Python [python2]",
   "language": "python",
   "name": "Python [python2]"
  },
  "language_info": {
   "codemirror_mode": {
    "name": "ipython",
    "version": 2
   },
   "file_extension": ".py",
   "mimetype": "text/x-python",
   "name": "python",
   "nbconvert_exporter": "python",
   "pygments_lexer": "ipython2",
   "version": "2.7.13"
  }
 },
 "nbformat": 4,
 "nbformat_minor": 0
}
