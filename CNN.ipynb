{
 "cells": [
  {
   "cell_type": "code",
   "execution_count": 1,
   "metadata": {
    "collapsed": true
   },
   "outputs": [],
   "source": [
    "import numpy as np\n",
    "import matplotlib.pyplot as plt\n",
    "# display plots in this notebook\n",
    "%matplotlib inline\n",
    "\n",
    " #设置默认显示参数\n",
    "plt.rcParams['figure.figsize'] = (10, 10)        # 图像显示大小\n",
    "plt.rcParams['image.interpolation'] = 'nearest'  # 最近邻差值: 像素为正方形\n",
    "plt.rcParams['image.cmap'] = 'gray'  # 使用灰度输出而不是彩色输出"
   ]
  },
  {
   "cell_type": "code",
   "execution_count": 2,
   "metadata": {
    "collapsed": false
   },
   "outputs": [
    {
     "name": "stdout",
     "output_type": "stream",
     "text": [
      "/Users/caishaofan/Desktop/BUAA/Caffe/caffe/\n"
     ]
    }
   ],
   "source": [
    "import sys\n",
    "caffe_root = '/Users/caishaofan/Desktop/BUAA/Caffe/caffe/'\n",
    "print (caffe_root)\n",
    "sys.path.insert(0, caffe_root + 'python')\n",
    "\n",
    "import caffe\n",
    "\n",
    "from pylab import *\n",
    "%matplotlib inline\n",
    "import tempfile\n",
    "\n",
    "import platform\n",
    "caffe.set_mode_cpu()\n",
    "import lmdb\n"
   ]
  },
  {
   "cell_type": "code",
   "execution_count": 339,
   "metadata": {
    "collapsed": false
   },
   "outputs": [
    {
     "name": "stdout",
     "output_type": "stream",
     "text": [
      "(11554, 4096)\n",
      "[[ 46  52  48 ..., 226 234 238]\n",
      " [ 50  39  32 ..., 255 254 254]\n",
      " [ 47  47  39 ..., 254 254 254]\n",
      " ..., \n",
      " [ 11  10   8 ...,  36  40  42]\n",
      " [  9  11   9 ...,  29  31  36]\n",
      " [ 12   9   9 ...,  29  34  38]]\n",
      "(11554, 1)\n",
      "[[ 1]\n",
      " [ 1]\n",
      " [ 1]\n",
      " ..., \n",
      " [68]\n",
      " [68]\n",
      " [68]]\n",
      "(11554, 1)\n",
      "[[ 0.]\n",
      " [ 0.]\n",
      " [ 0.]\n",
      " ..., \n",
      " [ 1.]\n",
      " [ 0.]\n",
      " [ 0.]]\n"
     ]
    }
   ],
   "source": [
    "import scipy.io as sio\n",
    "import os\n",
    "import sys\n",
    "\n",
    "\n",
    "## Read PIE dataset\n",
    "def read_mat ( path ):\n",
    "    c = 0\n",
    "    X ,y ,isTest= [], [],[]\n",
    "\n",
    "    for filename in os.listdir ( path ):\n",
    "        if (filename != 'Thumbs.db'):\n",
    "            data = sio.loadmat( os.path.join ( path , filename ))\n",
    "#             np.concatenate((X, data['fea']),axis = 0)\n",
    "#             np.concatenate((y, data['gnd']),axis = 0)\n",
    "            if len(X) == 0 and len(y) == 0:\n",
    "                X = data['fea']\n",
    "                y = data['gnd']\n",
    "                isTest = data['isTest']\n",
    "            else:\n",
    "                X = np.concatenate((data['fea'], X), axis = 0)\n",
    "                y =np.concatenate((data['gnd'], y), axis = 0)\n",
    "                isTest = np.concatenate((data['isTest'],isTest), axis = 0)\n",
    "    return X, y, isTest\n",
    "\n",
    "ROOT = 'dataset/PIE dataset/'\n",
    "X,y,isTest = read_mat(ROOT)\n",
    "X = np.array(X)\n",
    "y = np.array(y)\n",
    "isTest = np.array(isTest)\n",
    "\n",
    "print X.shape\n",
    "print X\n",
    "print y.shape\n",
    "print y\n",
    "print isTest.shape\n",
    "print isTest"
   ]
  },
  {
   "cell_type": "code",
   "execution_count": 340,
   "metadata": {
    "collapsed": false
   },
   "outputs": [
    {
     "name": "stdout",
     "output_type": "stream",
     "text": [
      "[[ 12   9   9 ...,  29  34  38]\n",
      " [  9  11   9 ...,  29  31  36]\n",
      " [  8  10  12 ...,  25  25  22]\n",
      " ..., \n",
      " [ 47  47  39 ..., 254 254 254]\n",
      " [ 50  39  32 ..., 255 254 254]\n",
      " [ 46  52  48 ..., 226 234 238]]\n",
      "(10262, 4096)\n"
     ]
    }
   ],
   "source": [
    "X_train, X_test, y_train, y_test = [],[],[],[]\n",
    "for i in np.arange(len(isTest)):\n",
    "    if(isTest[i] == 0):\n",
    "        if len(X_train) == 0 and len(y_train) == 0:\n",
    "            X_train = X[i]\n",
    "            y_train = y[i]\n",
    "        else:\n",
    "            X_train = np.vstack((X[i], X_train))\n",
    "            y_train = np.vstack((y[i], y_train))\n",
    "    else:\n",
    "        if len(X_test) == 0 and len(y_test) == 0:\n",
    "            X_test = X[i]\n",
    "            y_test = y[i]\n",
    "        else:\n",
    "            X_test = np.vstack((X[i], X_test))\n",
    "            y_test = np.vstack((y[i], y_test))\n",
    "\n",
    "print X_train\n",
    "print X_train.shape"
   ]
  },
  {
   "cell_type": "code",
   "execution_count": 342,
   "metadata": {
    "collapsed": false
   },
   "outputs": [
    {
     "name": "stdout",
     "output_type": "stream",
     "text": [
      "[[ 12   9   9 ...,  29  34  38]\n",
      " [  9  11   9 ...,  29  31  36]\n",
      " [  8  10  12 ...,  25  25  22]\n",
      " ..., \n",
      " [ 47  47  39 ..., 254 254 254]\n",
      " [ 50  39  32 ..., 255 254 254]\n",
      " [ 46  52  48 ..., 226 234 238]]\n",
      "(10262, 4096)\n",
      "[[ 11  10   8 ...,  36  40  42]\n",
      " [ 10  11  21 ...,  36  36  34]\n",
      " [  4   4   5 ...,  26  23  20]\n",
      " ..., \n",
      " [ 22  21  26 ...,  48  47  44]\n",
      " [ 16  16  17 ...,  25  25  24]\n",
      " [ 98 195 181 ...,  81  76  72]]\n",
      "(1292, 4096)\n",
      "(10262,)\n",
      "(1292,)\n",
      "uint8\n"
     ]
    }
   ],
   "source": [
    "# show the shape of X_train X_test y_train y_test\n",
    "print X_train\n",
    "print X_train.shape\n",
    "print X_test\n",
    "print X_test.shape\n",
    "\n",
    "y_train = y_train.reshape(y_train.shape[0])\n",
    "y_test = y_test.reshape(y_test.shape[0])\n",
    "print y_train.shape\n",
    "print y_test.shape\n",
    "\n",
    "print X_train.dtype\n"
   ]
  },
  {
   "cell_type": "code",
   "execution_count": 343,
   "metadata": {
    "collapsed": false
   },
   "outputs": [
    {
     "name": "stdout",
     "output_type": "stream",
     "text": [
      "[ 26.5610992   29.76983044  33.86893393 ...,  68.68846229  69.5862405\n",
      "  71.47690509]\n"
     ]
    },
    {
     "data": {
      "image/png": "[encoded data removed]",
      "text/plain": [
       "<matplotlib.figure.Figure at 0x12a666c10>"
      ]
     },
     "metadata": {},
     "output_type": "display_data"
    }
   ],
   "source": [
    "mean_image = np.mean(X_train, axis = 0)\n",
    "plt.imshow(mean_image.reshape((64,64)).astype('uint8'))\n",
    "print mean_image"
   ]
  },
  {
   "cell_type": "code",
   "execution_count": 345,
   "metadata": {
    "collapsed": false
   },
   "outputs": [],
   "source": [
    "X_train = X_train.astype('float64')\n",
    "X_test = X_test.astype('float64')\n",
    "X_train -= mean_image\n",
    "X_test -= mean_image"
   ]
  },
  {
   "cell_type": "code",
   "execution_count": 346,
   "metadata": {
    "collapsed": false
   },
   "outputs": [
    {
     "name": "stdout",
     "output_type": "stream",
     "text": [
      "[[ -14.5610992   -20.76983044  -24.86893393 ...,  -39.68846229  -35.5862405\n",
      "   -33.47690509]\n",
      " [ -17.5610992   -18.76983044  -24.86893393 ...,  -39.68846229  -38.5862405\n",
      "   -35.47690509]\n",
      " [ -18.5610992   -19.76983044  -21.86893393 ...,  -43.68846229  -44.5862405\n",
      "   -49.47690509]\n",
      " ..., \n",
      " [  20.4389008    17.23016956    5.13106607 ...,  185.31153771  184.4137595\n",
      "   182.52309491]\n",
      " [  23.4389008     9.23016956   -1.86893393 ...,  186.31153771  184.4137595\n",
      "   182.52309491]\n",
      " [  19.4389008    22.23016956   14.13106607 ...,  157.31153771  164.4137595\n",
      "   166.52309491]]\n",
      "[[ -15.5610992   -19.76983044  -25.86893393 ...,  -32.68846229  -29.5862405\n",
      "   -29.47690509]\n",
      " [ -16.5610992   -18.76983044  -12.86893393 ...,  -32.68846229  -33.5862405\n",
      "   -37.47690509]\n",
      " [ -22.5610992   -25.76983044  -28.86893393 ...,  -42.68846229  -46.5862405\n",
      "   -51.47690509]\n",
      " ..., \n",
      " [  -4.5610992    -8.76983044   -7.86893393 ...,  -20.68846229  -22.5862405\n",
      "   -27.47690509]\n",
      " [ -10.5610992   -13.76983044  -16.86893393 ...,  -43.68846229  -44.5862405\n",
      "   -47.47690509]\n",
      " [  71.4389008   165.23016956  147.13106607 ...,   12.31153771    6.4137595\n",
      "     0.52309491]]\n",
      "[ 26.5610992   29.76983044  33.86893393 ...,  68.68846229  69.5862405\n",
      "  71.47690509]\n"
     ]
    }
   ],
   "source": [
    "print X_train\n",
    "print X_test\n",
    "print mean_image"
   ]
  },
  {
   "cell_type": "code",
   "execution_count": 347,
   "metadata": {
    "collapsed": false
   },
   "outputs": [
    {
     "name": "stdout",
     "output_type": "stream",
     "text": [
      "(10262, 120)\n",
      "(1292, 120)\n"
     ]
    }
   ],
   "source": [
    "from sklearn.decomposition import PCA\n",
    "\n",
    "pca = PCA(n_components = 120)\n",
    "\n",
    "#transform the training data\n",
    "X_train_reduced = pca.fit_transform(X_train)\n",
    "#transform the test data\n",
    "X_test_reduced = pca.transform(X_test)\n",
    "\n",
    "print X_train_reduced.shape\n",
    "print X_test_reduced.shape"
   ]
  },
  {
   "cell_type": "code",
   "execution_count": 428,
   "metadata": {
    "collapsed": false
   },
   "outputs": [
    {
     "name": "stdout",
     "output_type": "stream",
     "text": [
      "Iteration 1, loss = 14.79788952\n",
      "Iteration 2, loss = 10.43282327\n",
      "Iteration 3, loss = 10.24745863\n",
      "Iteration 4, loss = 10.06937694\n",
      "Iteration 5, loss = 9.89856033\n",
      "Iteration 6, loss = 9.72694889\n",
      "Iteration 7, loss = 9.55193791\n",
      "Iteration 8, loss = 9.36518720\n",
      "Iteration 9, loss = 9.16234605\n",
      "Iteration 10, loss = 8.95665884\n",
      "Iteration 11, loss = 8.74193540\n",
      "Iteration 12, loss = 8.51902245\n",
      "Iteration 13, loss = 8.27481705\n",
      "Iteration 14, loss = 8.03034407\n",
      "Iteration 15, loss = 7.78150313\n",
      "Iteration 16, loss = 7.51841880\n",
      "Iteration 17, loss = 7.22861838\n",
      "Iteration 18, loss = 6.87808836\n",
      "Iteration 19, loss = 6.46267847\n",
      "Iteration 20, loss = 6.05129436\n",
      "Iteration 21, loss = 5.67319761\n",
      "Iteration 22, loss = 5.31849014\n",
      "Iteration 23, loss = 4.99176682\n",
      "Iteration 24, loss = 4.67442957\n",
      "Iteration 25, loss = 4.40137285\n",
      "Iteration 26, loss = 4.14211277\n",
      "Iteration 27, loss = 3.91319671\n",
      "Iteration 28, loss = 3.71455549\n",
      "Iteration 29, loss = 3.54035645\n",
      "Iteration 30, loss = 3.40273375\n",
      "Iteration 31, loss = 3.27340097\n",
      "Iteration 32, loss = 3.16323744\n",
      "Iteration 33, loss = 3.06370109\n",
      "Iteration 34, loss = 2.97217938\n",
      "Iteration 35, loss = 2.88469931\n",
      "Iteration 36, loss = 2.80335720\n",
      "Iteration 37, loss = 2.72691930\n",
      "Iteration 38, loss = 2.65532304\n",
      "Iteration 39, loss = 2.58600464\n",
      "Iteration 40, loss = 2.52184508\n",
      "Iteration 41, loss = 2.45728005\n",
      "Iteration 42, loss = 2.39367311\n",
      "Iteration 43, loss = 2.33384889\n",
      "Iteration 44, loss = 2.27721044\n",
      "Iteration 45, loss = 2.22219756\n",
      "Iteration 46, loss = 2.16954863\n",
      "Iteration 47, loss = 2.11702848\n",
      "Iteration 48, loss = 2.06671137\n",
      "Iteration 49, loss = 2.01908533\n",
      "Iteration 50, loss = 1.97081298\n",
      "Iteration 51, loss = 1.92603659\n",
      "Iteration 52, loss = 1.88162365\n",
      "Iteration 53, loss = 1.83812829\n",
      "Iteration 54, loss = 1.79695374\n",
      "Iteration 55, loss = 1.75592090\n",
      "Iteration 56, loss = 1.71621137\n",
      "Iteration 57, loss = 1.67946032\n",
      "Iteration 58, loss = 1.64181127\n",
      "Iteration 59, loss = 1.60483717\n",
      "Iteration 60, loss = 1.57039127\n",
      "Iteration 61, loss = 1.53548030\n",
      "Iteration 62, loss = 1.50255247\n",
      "Iteration 63, loss = 1.47128507\n",
      "Iteration 64, loss = 1.43988755\n",
      "Iteration 65, loss = 1.40889264\n",
      "Iteration 66, loss = 1.37979711\n",
      "Iteration 67, loss = 1.35060853\n",
      "Iteration 68, loss = 1.32286062\n",
      "Iteration 69, loss = 1.29651462\n",
      "Iteration 70, loss = 1.27042202\n",
      "Iteration 71, loss = 1.24428696\n",
      "Iteration 72, loss = 1.21945998\n",
      "Iteration 73, loss = 1.19496838\n",
      "Iteration 74, loss = 1.17129197\n",
      "Iteration 75, loss = 1.14946900\n",
      "Iteration 76, loss = 1.12709218\n",
      "Iteration 77, loss = 1.10571046\n",
      "Iteration 78, loss = 1.08498158\n",
      "Iteration 79, loss = 1.06404642\n",
      "Iteration 80, loss = 1.04500415\n",
      "Iteration 81, loss = 1.02470127\n",
      "Iteration 82, loss = 1.00693106\n",
      "Iteration 83, loss = 0.98831523\n",
      "Iteration 84, loss = 0.97045868\n",
      "Iteration 85, loss = 0.95362212\n",
      "Iteration 86, loss = 0.93696246\n",
      "Iteration 87, loss = 0.92047273\n",
      "Iteration 88, loss = 0.90467676\n",
      "Iteration 89, loss = 0.88933920\n",
      "Iteration 90, loss = 0.87403625\n",
      "Iteration 91, loss = 0.86001525\n",
      "Iteration 92, loss = 0.84570521\n",
      "Iteration 93, loss = 0.83189810\n",
      "Iteration 94, loss = 0.81841896\n",
      "Iteration 95, loss = 0.80602209\n",
      "Iteration 96, loss = 0.79265045\n",
      "Iteration 97, loss = 0.78029268\n",
      "Iteration 98, loss = 0.76870154\n",
      "Iteration 99, loss = 0.75667704\n",
      "Iteration 100, loss = 0.74513064\n",
      "Iteration 101, loss = 0.73401563\n",
      "Iteration 102, loss = 0.72319631\n",
      "Iteration 103, loss = 0.71323807\n",
      "Iteration 104, loss = 0.70249302\n",
      "Iteration 105, loss = 0.69275870\n",
      "Iteration 106, loss = 0.68285584\n",
      "Iteration 107, loss = 0.67349143\n",
      "Iteration 108, loss = 0.66501879\n",
      "Iteration 109, loss = 0.65548969\n",
      "Iteration 110, loss = 0.64710983\n",
      "Iteration 111, loss = 0.63919822\n",
      "Iteration 112, loss = 0.63064809\n",
      "Iteration 113, loss = 0.62193099\n",
      "Iteration 114, loss = 0.61459406\n",
      "Iteration 115, loss = 0.60720001\n",
      "Iteration 116, loss = 0.59944622\n",
      "Iteration 117, loss = 0.59263752\n",
      "Iteration 118, loss = 0.58544848\n",
      "Iteration 119, loss = 0.57865612\n",
      "Iteration 120, loss = 0.57213444\n",
      "Iteration 121, loss = 0.56570049\n",
      "Iteration 122, loss = 0.55953539\n",
      "Iteration 123, loss = 0.55391533\n",
      "Iteration 124, loss = 0.54748615\n",
      "Iteration 125, loss = 0.54171231\n",
      "Iteration 126, loss = 0.53599666\n",
      "Iteration 127, loss = 0.53069343\n",
      "Iteration 128, loss = 0.52547782\n",
      "Iteration 129, loss = 0.52024874\n",
      "Iteration 130, loss = 0.51514083\n",
      "Iteration 131, loss = 0.51059456\n",
      "Iteration 132, loss = 0.50522146\n",
      "Iteration 133, loss = 0.50051794\n",
      "Iteration 134, loss = 0.49586479\n",
      "Iteration 135, loss = 0.49129909\n",
      "Iteration 136, loss = 0.48739321\n",
      "Iteration 137, loss = 0.48317829\n",
      "Iteration 138, loss = 0.47874362\n",
      "Iteration 139, loss = 0.47483984\n",
      "Iteration 140, loss = 0.47085285\n",
      "Iteration 141, loss = 0.46689804\n",
      "Iteration 142, loss = 0.46326370\n",
      "Iteration 143, loss = 0.45961996\n",
      "Iteration 144, loss = 0.45634639\n",
      "Iteration 145, loss = 0.45260927\n",
      "Iteration 146, loss = 0.44951293\n",
      "Iteration 147, loss = 0.44599823\n",
      "Iteration 148, loss = 0.44239200\n",
      "Iteration 149, loss = 0.43967547\n",
      "Iteration 150, loss = 0.43670276\n",
      "Iteration 151, loss = 0.43343908\n",
      "Iteration 152, loss = 0.43060206\n",
      "Iteration 153, loss = 0.42761933\n",
      "Iteration 154, loss = 0.42504572\n",
      "Iteration 155, loss = 0.42199784\n",
      "Iteration 156, loss = 0.41930111\n",
      "Iteration 157, loss = 0.41682249\n",
      "Iteration 158, loss = 0.41461686\n",
      "Iteration 159, loss = 0.41200443\n",
      "Iteration 160, loss = 0.40993280\n",
      "Iteration 161, loss = 0.40757405\n",
      "Iteration 162, loss = 0.40495086\n",
      "Iteration 163, loss = 0.40271974\n",
      "Iteration 164, loss = 0.40076263\n",
      "Iteration 165, loss = 0.39886496\n",
      "Iteration 166, loss = 0.39632063\n",
      "Iteration 167, loss = 0.39482478\n",
      "Iteration 168, loss = 0.39240205\n",
      "Iteration 169, loss = 0.39050807\n",
      "Iteration 170, loss = 0.38853049\n",
      "Iteration 171, loss = 0.38683804\n",
      "Iteration 172, loss = 0.38499450\n",
      "Iteration 173, loss = 0.38338378\n",
      "Iteration 174, loss = 0.38140026\n",
      "Iteration 175, loss = 0.37978719\n",
      "Iteration 176, loss = 0.37843009\n",
      "Iteration 177, loss = 0.37660739\n",
      "Iteration 178, loss = 0.37541582\n",
      "Iteration 179, loss = 0.37345351\n",
      "Iteration 180, loss = 0.37225449\n",
      "Iteration 181, loss = 0.37065971\n",
      "Iteration 182, loss = 0.36932539\n",
      "Iteration 183, loss = 0.36789191\n",
      "Iteration 184, loss = 0.36653962\n",
      "Iteration 185, loss = 0.36523021\n",
      "Iteration 186, loss = 0.36379158\n",
      "Iteration 187, loss = 0.36274168\n",
      "Iteration 188, loss = 0.36137258\n",
      "Iteration 189, loss = 0.36038032\n",
      "Iteration 190, loss = 0.35882652\n",
      "Iteration 191, loss = 0.35783916\n",
      "Iteration 192, loss = 0.35690304\n",
      "Iteration 193, loss = 0.35548849\n",
      "Iteration 194, loss = 0.35497278\n",
      "Iteration 195, loss = 0.35360575\n",
      "Iteration 196, loss = 0.35242259\n",
      "Iteration 197, loss = 0.35125371\n",
      "Iteration 198, loss = 0.35042277\n",
      "Iteration 199, loss = 0.34941921\n",
      "Iteration 200, loss = 0.34830655\n",
      "Iteration 201, loss = 0.34776562\n",
      "Iteration 202, loss = 0.34664391\n",
      "Iteration 203, loss = 0.34559231\n",
      "Iteration 204, loss = 0.34483634\n",
      "Iteration 205, loss = 0.34388989\n",
      "Iteration 206, loss = 0.34323669\n",
      "Iteration 207, loss = 0.34184942\n",
      "Iteration 208, loss = 0.34166799\n",
      "Iteration 209, loss = 0.34055277\n",
      "Iteration 210, loss = 0.33987179\n",
      "Iteration 211, loss = 0.33914542\n",
      "Iteration 212, loss = 0.33838804\n",
      "Iteration 213, loss = 0.33751228\n",
      "Iteration 214, loss = 0.33679846\n",
      "Iteration 215, loss = 0.33659879\n",
      "Iteration 216, loss = 0.33549042\n",
      "Iteration 217, loss = 0.33479190\n",
      "Iteration 218, loss = 0.33430750\n",
      "Iteration 219, loss = 0.33365109\n",
      "Iteration 220, loss = 0.33299162\n",
      "Iteration 221, loss = 0.33237856\n",
      "Iteration 222, loss = 0.33198103\n",
      "Iteration 223, loss = 0.33113121\n",
      "Iteration 224, loss = 0.33057075\n",
      "Iteration 225, loss = 0.32982243\n",
      "Iteration 226, loss = 0.32931685\n",
      "Iteration 227, loss = 0.32908860\n",
      "Iteration 228, loss = 0.32829947\n",
      "Iteration 229, loss = 0.32768522\n",
      "Iteration 230, loss = 0.32750463\n",
      "Iteration 231, loss = 0.32701130\n",
      "Iteration 232, loss = 0.32609874\n",
      "Iteration 233, loss = 0.32605026\n",
      "Iteration 234, loss = 0.32504249\n",
      "Iteration 235, loss = 0.32461425\n",
      "Iteration 236, loss = 0.32408447\n",
      "Iteration 237, loss = 0.32374384\n",
      "Iteration 238, loss = 0.32340583\n",
      "Iteration 239, loss = 0.32332913\n",
      "Iteration 240, loss = 0.32248285\n",
      "Iteration 241, loss = 0.32234335\n",
      "Iteration 242, loss = 0.32181599\n",
      "Iteration 243, loss = 0.32110691\n",
      "Iteration 244, loss = 0.32093472\n",
      "Iteration 245, loss = 0.32028748\n",
      "Iteration 246, loss = 0.32036809\n",
      "Iteration 247, loss = 0.31984791\n",
      "Iteration 248, loss = 0.31914699\n",
      "Iteration 249, loss = 0.31908905\n",
      "Iteration 250, loss = 0.31859992\n",
      "Iteration 251, loss = 0.31833836\n",
      "Iteration 252, loss = 0.31768909\n",
      "Iteration 253, loss = 0.31746046\n",
      "Iteration 254, loss = 0.31719368\n",
      "Iteration 255, loss = 0.31679333\n",
      "Iteration 256, loss = 0.31643635\n",
      "Iteration 257, loss = 0.31618071\n",
      "Iteration 258, loss = 0.31605649\n",
      "Iteration 259, loss = 0.31548603\n",
      "Iteration 260, loss = 0.31537078\n",
      "Iteration 261, loss = 0.31533552\n",
      "Iteration 262, loss = 0.31437349\n",
      "Iteration 263, loss = 0.31423703\n",
      "Iteration 264, loss = 0.31402311\n",
      "Iteration 265, loss = 0.31350118\n",
      "Iteration 266, loss = 0.31341880\n",
      "Iteration 267, loss = 0.31319111\n",
      "Iteration 268, loss = 0.31296997\n",
      "Iteration 269, loss = 0.31235195\n",
      "Iteration 270, loss = 0.31219953\n",
      "Iteration 271, loss = 0.31223638\n",
      "Iteration 272, loss = 0.31184596\n",
      "Iteration 273, loss = 0.31140899\n",
      "Iteration 274, loss = 0.31112575\n",
      "Iteration 275, loss = 0.31095145\n",
      "Iteration 276, loss = 0.31045777\n",
      "Iteration 277, loss = 0.31056343\n",
      "Iteration 278, loss = 0.31027890\n",
      "Iteration 279, loss = 0.31013040\n",
      "Iteration 280, loss = 0.30944162\n",
      "Iteration 281, loss = 0.30957117\n",
      "Iteration 282, loss = 0.30912837\n",
      "Iteration 283, loss = 0.30893622\n",
      "Iteration 284, loss = 0.30857008\n",
      "Iteration 285, loss = 0.30843180\n",
      "Iteration 286, loss = 0.30814620\n",
      "Iteration 287, loss = 0.30834638\n",
      "Iteration 288, loss = 0.30777936\n",
      "Iteration 289, loss = 0.30768490\n",
      "Iteration 290, loss = 0.30755572\n",
      "Iteration 291, loss = 0.30731893\n",
      "Iteration 292, loss = 0.30688462\n",
      "Iteration 293, loss = 0.30694791\n",
      "Iteration 294, loss = 0.30657773\n",
      "Iteration 295, loss = 0.30641585\n",
      "Iteration 296, loss = 0.30648048\n",
      "Iteration 297, loss = 0.30601028\n",
      "Iteration 298, loss = 0.30577515\n",
      "Iteration 299, loss = 0.30594265\n",
      "Iteration 300, loss = 0.30557626\n",
      "Iteration 301, loss = 0.30539493\n",
      "Iteration 302, loss = 0.30511238\n",
      "Iteration 303, loss = 0.30492205\n",
      "Iteration 304, loss = 0.30483375\n",
      "Iteration 305, loss = 0.30485716\n",
      "Iteration 306, loss = 0.30444917\n",
      "Iteration 307, loss = 0.30406485\n",
      "Iteration 308, loss = 0.30431944\n",
      "Iteration 309, loss = 0.30374770\n",
      "Iteration 310, loss = 0.30435012\n",
      "Iteration 311, loss = 0.30379466\n",
      "Iteration 312, loss = 0.30337504\n",
      "Iteration 313, loss = 0.30329232\n",
      "Iteration 314, loss = 0.30280975\n",
      "Iteration 315, loss = 0.30268787\n",
      "Iteration 316, loss = 0.30298235\n",
      "Iteration 317, loss = 0.30247721\n",
      "Iteration 318, loss = 0.30259306\n",
      "Iteration 319, loss = 0.30235499\n",
      "Iteration 320, loss = 0.30252594\n",
      "Iteration 321, loss = 0.30209573\n",
      "Iteration 322, loss = 0.30166456\n",
      "Iteration 323, loss = 0.30178094\n",
      "Iteration 324, loss = 0.30173492\n",
      "Iteration 325, loss = 0.30146406\n",
      "Iteration 326, loss = 0.30169726\n",
      "Iteration 327, loss = 0.30110999\n",
      "Iteration 328, loss = 0.30104215\n",
      "Iteration 329, loss = 0.30102804\n",
      "Iteration 330, loss = 0.30068819\n",
      "Iteration 331, loss = 0.30053920\n",
      "Iteration 332, loss = 0.30048272\n",
      "Iteration 333, loss = 0.30016306\n",
      "Iteration 334, loss = 0.30040623\n",
      "Iteration 335, loss = 0.30024090\n",
      "Iteration 336, loss = 0.30014244\n",
      "Training loss did not improve more than tol=0.000100 for two consecutive epochs. Setting learning rate to 0.000100\n",
      "Iteration 337, loss = 0.29898450\n",
      "Iteration 338, loss = 0.29793206\n",
      "Iteration 339, loss = 0.29777884\n",
      "Iteration 340, loss = 0.29772586\n",
      "Iteration 341, loss = 0.29769340\n",
      "Iteration 342, loss = 0.29758752\n",
      "Iteration 343, loss = 0.29764168\n",
      "Iteration 344, loss = 0.29754054\n",
      "Iteration 345, loss = 0.29749762\n",
      "Training loss did not improve more than tol=0.000100 for two consecutive epochs. Setting learning rate to 0.000020\n",
      "Iteration 346, loss = 0.29722847\n",
      "Iteration 347, loss = 0.29709352\n",
      "Iteration 348, loss = 0.29705874\n",
      "Iteration 349, loss = 0.29704692\n",
      "Iteration 350, loss = 0.29703862\n",
      "Training loss did not improve more than tol=0.000100 for two consecutive epochs. Setting learning rate to 0.000004\n",
      "Iteration 351, loss = 0.29694133\n",
      "Iteration 352, loss = 0.29692796\n",
      "Iteration 353, loss = 0.29692408\n",
      "Training loss did not improve more than tol=0.000100 for two consecutive epochs. Setting learning rate to 0.000001\n",
      "Iteration 354, loss = 0.29690228\n",
      "Iteration 355, loss = 0.29690161\n",
      "Iteration 356, loss = 0.29690149\n",
      "Training loss did not improve more than tol=0.000100 for two consecutive epochs. Learning rate too small. Stopping.\n",
      "[68 68 68 ...,  1  1  1]\n",
      "(1292,)\n"
     ]
    }
   ],
   "source": [
    "\n",
    "from sklearn.neural_network import MLPClassifier\n",
    "from sklearn.metrics import classification_report\n",
    "\n",
    "clf = MLPClassifier(solver='sgd', alpha=10,hidden_layer_sizes=(64, 64), random_state=1, \n",
    "                    verbose = True, max_iter=1000, learning_rate = 'adaptive',\n",
    "                    learning_rate_init =5e-4, validation_fraction = 0.2)\n",
    "\n",
    "clf.fit(X_train, y_train)\n",
    "predictions = clf.predict(X_test)\n",
    "\n",
    "print predictions\n",
    "print predictions.shape"
   ]
  },
  {
   "cell_type": "code",
   "execution_count": 429,
   "metadata": {
    "collapsed": false
   },
   "outputs": [
    {
     "name": "stdout",
     "output_type": "stream",
     "text": [
      "             precision    recall  f1-score   support\n",
      "\n",
      "          1     1.0000    1.0000    1.0000        19\n",
      "          2     1.0000    1.0000    1.0000        19\n",
      "          3     1.0000    1.0000    1.0000        19\n",
      "          4     1.0000    1.0000    1.0000        19\n",
      "          5     1.0000    1.0000    1.0000        19\n",
      "          6     1.0000    1.0000    1.0000        19\n",
      "          7     1.0000    1.0000    1.0000        19\n",
      "          8     1.0000    1.0000    1.0000        19\n",
      "          9     0.9500    1.0000    0.9744        19\n",
      "         10     1.0000    1.0000    1.0000        19\n",
      "         11     1.0000    1.0000    1.0000        19\n",
      "         12     0.9500    1.0000    0.9744        19\n",
      "         13     1.0000    1.0000    1.0000        19\n",
      "         14     1.0000    1.0000    1.0000        19\n",
      "         15     1.0000    0.9474    0.9730        19\n",
      "         16     0.9500    1.0000    0.9744        19\n",
      "         17     1.0000    0.9474    0.9730        19\n",
      "         18     1.0000    1.0000    1.0000        19\n",
      "         19     0.9000    0.9474    0.9231        19\n",
      "         20     1.0000    1.0000    1.0000        19\n",
      "         21     1.0000    0.9474    0.9730        19\n",
      "         22     1.0000    1.0000    1.0000        19\n",
      "         23     0.9500    1.0000    0.9744        19\n",
      "         24     1.0000    1.0000    1.0000        19\n",
      "         25     0.9500    1.0000    0.9744        19\n",
      "         26     0.9048    1.0000    0.9500        19\n",
      "         27     1.0000    1.0000    1.0000        19\n",
      "         28     0.9474    0.9474    0.9474        19\n",
      "         29     1.0000    0.9474    0.9730        19\n",
      "         30     1.0000    0.9474    0.9730        19\n",
      "         31     1.0000    1.0000    1.0000        19\n",
      "         32     1.0000    0.9474    0.9730        19\n",
      "         33     1.0000    0.9474    0.9730        19\n",
      "         34     0.9048    1.0000    0.9500        19\n",
      "         35     1.0000    1.0000    1.0000        19\n",
      "         36     1.0000    0.9474    0.9730        19\n",
      "         37     1.0000    0.9474    0.9730        19\n",
      "         38     1.0000    1.0000    1.0000        19\n",
      "         39     1.0000    1.0000    1.0000        19\n",
      "         40     1.0000    1.0000    1.0000        19\n",
      "         41     1.0000    1.0000    1.0000        19\n",
      "         42     1.0000    1.0000    1.0000        19\n",
      "         43     0.9048    1.0000    0.9500        19\n",
      "         44     1.0000    1.0000    1.0000        19\n",
      "         45     1.0000    1.0000    1.0000        19\n",
      "         46     1.0000    0.9474    0.9730        19\n",
      "         47     0.9500    1.0000    0.9744        19\n",
      "         48     1.0000    1.0000    1.0000        19\n",
      "         49     1.0000    1.0000    1.0000        19\n",
      "         50     1.0000    1.0000    1.0000        19\n",
      "         51     1.0000    1.0000    1.0000        19\n",
      "         52     1.0000    1.0000    1.0000        19\n",
      "         53     0.9474    0.9474    0.9474        19\n",
      "         54     1.0000    1.0000    1.0000        19\n",
      "         55     0.9500    1.0000    0.9744        19\n",
      "         56     0.9048    1.0000    0.9500        19\n",
      "         57     1.0000    1.0000    1.0000        19\n",
      "         58     1.0000    0.8421    0.9143        19\n",
      "         59     1.0000    0.9474    0.9730        19\n",
      "         60     0.9048    1.0000    0.9500        19\n",
      "         61     1.0000    1.0000    1.0000        19\n",
      "         62     1.0000    1.0000    1.0000        19\n",
      "         63     1.0000    0.9474    0.9730        19\n",
      "         64     1.0000    1.0000    1.0000        19\n",
      "         65     1.0000    0.9474    0.9730        19\n",
      "         66     1.0000    1.0000    1.0000        19\n",
      "         67     1.0000    0.9474    0.9730        19\n",
      "         68     1.0000    0.9474    0.9730        19\n",
      "\n",
      "avg / total     0.9848    0.9837    0.9838      1292\n",
      "\n"
     ]
    }
   ],
   "source": [
    "\n",
    "print classification_report(y_test, predictions, digits = 4)"
   ]
  },
  {
   "cell_type": "code",
   "execution_count": 495,
   "metadata": {
    "collapsed": false
   },
   "outputs": [
    {
     "name": "stdout",
     "output_type": "stream",
     "text": [
      "Iteration 1, loss = 4.02821912\n",
      "Iteration 2, loss = 3.37128261\n",
      "Iteration 3, loss = 2.59132127\n",
      "Iteration 4, loss = 1.94977171\n",
      "Iteration 5, loss = 1.50433490\n",
      "Iteration 6, loss = 1.19360477\n",
      "Iteration 7, loss = 0.98760860\n",
      "Iteration 8, loss = 0.82407210\n",
      "Iteration 9, loss = 0.71106515\n",
      "Iteration 10, loss = 0.61566843\n",
      "Iteration 11, loss = 0.54200626\n",
      "Iteration 12, loss = 0.47741567\n",
      "Iteration 13, loss = 0.42638353\n",
      "Iteration 14, loss = 0.38494989\n",
      "Iteration 15, loss = 0.34803336\n",
      "Iteration 16, loss = 0.31943268\n",
      "Iteration 17, loss = 0.29203222\n",
      "Iteration 18, loss = 0.26856724\n",
      "Iteration 19, loss = 0.24637371\n",
      "Iteration 20, loss = 0.23008601\n",
      "Iteration 21, loss = 0.21490232\n",
      "Iteration 22, loss = 0.19517467\n",
      "Iteration 23, loss = 0.18298236\n",
      "Iteration 24, loss = 0.17166224\n",
      "Iteration 25, loss = 0.15686710\n",
      "Iteration 26, loss = 0.14820937\n",
      "Iteration 27, loss = 0.13901621\n",
      "Iteration 28, loss = 0.13071536\n",
      "Iteration 29, loss = 0.12197775\n",
      "Iteration 30, loss = 0.11474541\n",
      "Iteration 31, loss = 0.10665984\n",
      "Iteration 32, loss = 0.10058162\n",
      "Iteration 33, loss = 0.09394827\n",
      "Iteration 34, loss = 0.08900017\n",
      "Iteration 35, loss = 0.08463162\n",
      "Iteration 36, loss = 0.07873319\n",
      "Iteration 37, loss = 0.07552943\n",
      "Iteration 38, loss = 0.07018436\n",
      "Iteration 39, loss = 0.06611420\n",
      "Iteration 40, loss = 0.06181390\n",
      "Iteration 41, loss = 0.05841114\n",
      "Iteration 42, loss = 0.05571935\n",
      "Iteration 43, loss = 0.05351576\n",
      "Iteration 44, loss = 0.05107052\n",
      "Iteration 45, loss = 0.04809361\n",
      "Iteration 46, loss = 0.04360863\n",
      "Iteration 47, loss = 0.04260798\n",
      "Iteration 48, loss = 0.03982605\n",
      "Iteration 49, loss = 0.03785740\n",
      "Iteration 50, loss = 0.03450776\n",
      "Iteration 51, loss = 0.03376812\n",
      "Iteration 52, loss = 0.03312550\n",
      "Iteration 53, loss = 0.03080818\n",
      "Iteration 54, loss = 0.02839789\n",
      "Iteration 55, loss = 0.02770547\n",
      "Iteration 56, loss = 0.02503817\n",
      "Iteration 57, loss = 0.02459526\n",
      "Iteration 58, loss = 0.02334653\n",
      "Iteration 59, loss = 0.02168874\n",
      "Iteration 60, loss = 0.02058952\n",
      "Iteration 61, loss = 0.02014012\n",
      "Iteration 62, loss = 0.01934345\n",
      "Iteration 63, loss = 0.01822338\n",
      "Iteration 64, loss = 0.01682673\n",
      "Iteration 65, loss = 0.01643340\n",
      "Iteration 66, loss = 0.01562293\n",
      "Iteration 67, loss = 0.01573970\n",
      "Iteration 68, loss = 0.01572526\n",
      "Iteration 69, loss = 0.01374235\n",
      "Iteration 70, loss = 0.01300904\n",
      "Iteration 71, loss = 0.01207674\n",
      "Iteration 72, loss = 0.01157815\n",
      "Iteration 73, loss = 0.01135012\n",
      "Iteration 74, loss = 0.01040592\n",
      "Iteration 75, loss = 0.01059492\n",
      "Iteration 76, loss = 0.00955792\n",
      "Iteration 77, loss = 0.00933166\n",
      "Iteration 78, loss = 0.00908858\n",
      "Iteration 79, loss = 0.00887050\n",
      "Iteration 80, loss = 0.00824872\n",
      "Iteration 81, loss = 0.00815570\n",
      "Iteration 82, loss = 0.00738530\n",
      "Iteration 83, loss = 0.00743897\n",
      "Iteration 84, loss = 0.00735139\n",
      "Iteration 85, loss = 0.00691571\n",
      "Iteration 86, loss = 0.00655592\n",
      "Iteration 87, loss = 0.00642501\n",
      "Iteration 88, loss = 0.00594354\n",
      "Iteration 89, loss = 0.00587985\n",
      "Iteration 90, loss = 0.00581272\n",
      "Iteration 91, loss = 0.00534323\n",
      "Iteration 92, loss = 0.00512837\n",
      "Iteration 93, loss = 0.00493414\n",
      "Iteration 94, loss = 0.00485714\n",
      "Iteration 95, loss = 0.00456510\n",
      "Iteration 96, loss = 0.00467211\n",
      "Iteration 97, loss = 0.00435734\n",
      "Iteration 98, loss = 0.00405448\n",
      "Iteration 99, loss = 0.00394380\n",
      "Iteration 100, loss = 0.00380563\n",
      "Iteration 101, loss = 0.00372554\n",
      "Iteration 102, loss = 0.00363441\n",
      "Iteration 103, loss = 0.00359098\n",
      "Training loss did not improve more than tol=0.000100 for two consecutive epochs. Stopping.\n",
      "[68 68 68 ...,  1  1  1]\n",
      "(1292,)\n"
     ]
    }
   ],
   "source": [
    "from sklearn.neural_network import MLPClassifier\n",
    "from sklearn.metrics import classification_report\n",
    "\n",
    "clf = MLPClassifier(solver='adam', alpha=1e-4,hidden_layer_sizes=(256, 256), random_state=1, \n",
    "                    verbose = True, max_iter=1000,\n",
    "                    learning_rate_init =2e-4, validation_fraction = 0.2)\n",
    "\n",
    "clf.fit(X_train, y_train)\n",
    "predictions = clf.predict(X_test)\n",
    "\n",
    "print predictions\n",
    "print predictions.shape"
   ]
  },
  {
   "cell_type": "code",
   "execution_count": 496,
   "metadata": {
    "collapsed": false
   },
   "outputs": [
    {
     "name": "stdout",
     "output_type": "stream",
     "text": [
      "             precision    recall  f1-score   support\n",
      "\n",
      "          1     0.9500    1.0000    0.9744        19\n",
      "          2     1.0000    1.0000    1.0000        19\n",
      "          3     1.0000    1.0000    1.0000        19\n",
      "          4     1.0000    1.0000    1.0000        19\n",
      "          5     1.0000    1.0000    1.0000        19\n",
      "          6     1.0000    1.0000    1.0000        19\n",
      "          7     1.0000    1.0000    1.0000        19\n",
      "          8     1.0000    0.9474    0.9730        19\n",
      "          9     1.0000    1.0000    1.0000        19\n",
      "         10     1.0000    1.0000    1.0000        19\n",
      "         11     1.0000    1.0000    1.0000        19\n",
      "         12     1.0000    1.0000    1.0000        19\n",
      "         13     1.0000    1.0000    1.0000        19\n",
      "         14     1.0000    1.0000    1.0000        19\n",
      "         15     1.0000    0.9474    0.9730        19\n",
      "         16     1.0000    1.0000    1.0000        19\n",
      "         17     0.9474    0.9474    0.9474        19\n",
      "         18     1.0000    1.0000    1.0000        19\n",
      "         19     0.9500    1.0000    0.9744        19\n",
      "         20     1.0000    0.9474    0.9730        19\n",
      "         21     1.0000    0.9474    0.9730        19\n",
      "         22     1.0000    1.0000    1.0000        19\n",
      "         23     1.0000    1.0000    1.0000        19\n",
      "         24     1.0000    1.0000    1.0000        19\n",
      "         25     0.9048    1.0000    0.9500        19\n",
      "         26     1.0000    1.0000    1.0000        19\n",
      "         27     1.0000    1.0000    1.0000        19\n",
      "         28     0.9500    1.0000    0.9744        19\n",
      "         29     1.0000    0.9474    0.9730        19\n",
      "         30     1.0000    1.0000    1.0000        19\n",
      "         31     1.0000    1.0000    1.0000        19\n",
      "         32     1.0000    0.8947    0.9444        19\n",
      "         33     1.0000    0.8947    0.9444        19\n",
      "         34     0.8636    1.0000    0.9268        19\n",
      "         35     1.0000    1.0000    1.0000        19\n",
      "         36     1.0000    1.0000    1.0000        19\n",
      "         37     0.9474    0.9474    0.9474        19\n",
      "         38     1.0000    1.0000    1.0000        19\n",
      "         39     0.9500    1.0000    0.9744        19\n",
      "         40     1.0000    1.0000    1.0000        19\n",
      "         41     1.0000    1.0000    1.0000        19\n",
      "         42     1.0000    0.9474    0.9730        19\n",
      "         43     0.9048    1.0000    0.9500        19\n",
      "         44     1.0000    1.0000    1.0000        19\n",
      "         45     1.0000    1.0000    1.0000        19\n",
      "         46     0.9500    1.0000    0.9744        19\n",
      "         47     1.0000    0.9474    0.9730        19\n",
      "         48     0.9500    1.0000    0.9744        19\n",
      "         49     1.0000    0.9474    0.9730        19\n",
      "         50     0.9500    1.0000    0.9744        19\n",
      "         51     1.0000    1.0000    1.0000        19\n",
      "         52     0.9500    1.0000    0.9744        19\n",
      "         53     0.8636    1.0000    0.9268        19\n",
      "         54     1.0000    1.0000    1.0000        19\n",
      "         55     1.0000    1.0000    1.0000        19\n",
      "         56     0.9500    1.0000    0.9744        19\n",
      "         57     1.0000    1.0000    1.0000        19\n",
      "         58     1.0000    0.8421    0.9143        19\n",
      "         59     1.0000    0.9474    0.9730        19\n",
      "         60     1.0000    1.0000    1.0000        19\n",
      "         61     1.0000    1.0000    1.0000        19\n",
      "         62     1.0000    1.0000    1.0000        19\n",
      "         63     1.0000    0.9474    0.9730        19\n",
      "         64     1.0000    1.0000    1.0000        19\n",
      "         65     1.0000    0.9474    0.9730        19\n",
      "         66     1.0000    1.0000    1.0000        19\n",
      "         67     1.0000    0.9474    0.9730        19\n",
      "         68     1.0000    1.0000    1.0000        19\n",
      "\n",
      "avg / total     0.9850    0.9837    0.9838      1292\n",
      "\n"
     ]
    }
   ],
   "source": [
    "print classification_report(y_test, predictions, digits = 4)"
   ]
  },
  {
   "cell_type": "code",
   "execution_count": 437,
   "metadata": {
    "collapsed": false
   },
   "outputs": [
    {
     "data": {
      "text/plain": [
       "[<matplotlib.lines.Line2D at 0x130d3f950>]"
      ]
     },
     "execution_count": 437,
     "metadata": {},
     "output_type": "execute_result"
    },
    {
     "data": {
      "image/png": "[encoded data removed]",
      "text/plain": [
       "<matplotlib.figure.Figure at 0x130791190>"
      ]
     },
     "metadata": {},
     "output_type": "display_data"
    }
   ],
   "source": [
    "from sklearn.metrics import precision_recall_curve\n",
    "from sklearn.metrics import average_precision_score\n",
    "\n",
    "f, ax = plt.subplots(1,1)\n",
    "ax.plot(clf.loss_curve_)"
   ]
  },
  {
   "cell_type": "code",
   "execution_count": 497,
   "metadata": {
    "collapsed": false
   },
   "outputs": [
    {
     "name": "stdout",
     "output_type": "stream",
     "text": [
      "training: constant learning-rate\n",
      "Training set score: 0.858312\n",
      "Training set loss: 1.003379\n",
      "training: constant with momentum\n",
      "Training set score: 0.996297\n",
      "Training set loss: 0.046528\n",
      "training: adaptive learning-rate\n",
      "Training set score: 0.858312\n",
      "Training set loss: 1.003379\n",
      "training: adaptive with momentum\n",
      "Training set score: 0.996394\n",
      "Training set loss: 0.045860\n",
      "training: adam\n",
      "Training set score: 1.000000\n",
      "Training set loss: 0.010441\n"
     ]
    }
   ],
   "source": [
    "from sklearn.preprocessing import MinMaxScaler\n",
    "\n",
    "# different learning rate schedules and momentum parameters\n",
    "params = [{'solver': 'sgd', 'learning_rate': 'constant', 'momentum': 0,\n",
    "           'nesterovs_momentum': False, 'learning_rate_init': 4e-4, \n",
    "           'hidden_layer_sizes': (128, 128), 'validation_fraction':0.2},\n",
    "          {'solver': 'sgd', 'learning_rate': 'constant', 'momentum': .9,\n",
    "           'nesterovs_momentum': False, 'learning_rate_init': 4e-4, \n",
    "           'hidden_layer_sizes': (128, 128), 'validation_fraction':0.2},\n",
    "          {'solver': 'sgd', 'learning_rate': 'adaptive', 'momentum': 0,\n",
    "           'nesterovs_momentum': False, 'learning_rate_init': 4e-4, \n",
    "           'hidden_layer_sizes': (128, 128), 'validation_fraction':0.2},\n",
    "          {'solver': 'sgd', 'learning_rate': 'adaptive', 'momentum': .9,\n",
    "           'nesterovs_momentum': False, 'learning_rate_init': 4e-4, \n",
    "           'hidden_layer_sizes': (128, 128), 'validation_fraction':0.2},\n",
    "          {'solver': 'adam', 'learning_rate_init': 4e-4,\n",
    "           'hidden_layer_sizes': (128, 128), 'validation_fraction':0.2}]\n",
    "\n",
    "labels = [ \"constant learning-rate\",\n",
    "          \"constant with momentum\",\n",
    "           \"adaptive learning-rate\",\n",
    "          \"adaptive with momentum\", \"adam\"]\n",
    "\n",
    "plot_args = [{'c': 'red', 'linestyle': '-'},\n",
    "             {'c': 'blue', 'linestyle': '-'},\n",
    "             {'c': 'red', 'linestyle': '--'},\n",
    "             {'c': 'green', 'linestyle': '--'},\n",
    "             {'c': 'black', 'linestyle': '-'}]\n",
    "\n",
    "\n",
    "X_train = MinMaxScaler().fit_transform(X_train)\n",
    "\n",
    "mlps = []\n",
    "max_iter = 1000\n",
    "\n",
    "for label, param in zip(labels, params):\n",
    "    print(\"training: %s\" % label)\n",
    "    mlp = MLPClassifier(verbose=0, random_state=1,\n",
    "                        max_iter=max_iter, **param)\n",
    "    mlp.fit(X_train, y_train)\n",
    "    mlps.append(mlp)\n",
    "    print(\"Training set score: %f\" % mlp.score(X_train, y_train))\n",
    "    print(\"Training set loss: %f\" % mlp.loss_)\n"
   ]
  },
  {
   "cell_type": "code",
   "execution_count": 501,
   "metadata": {
    "collapsed": false
   },
   "outputs": [
    {
     "data": {
      "image/png": "[encoded data removed]",
      "text/plain": [
       "<matplotlib.figure.Figure at 0x122944310>"
      ]
     },
     "metadata": {},
     "output_type": "display_data"
    }
   ],
   "source": [
    "fig, ax = plt.subplots(1,1, figsize=(15, 10))\n",
    "\n",
    "ax.plot(clf.loss_curve_)\n",
    "for mlp, label, args in zip(mlps, labels, plot_args):\n",
    "        ax.plot(mlp.loss_curve_, label=label, **args)\n",
    "fig.legend(ax.get_lines(), labels=labels, ncol=3, loc=\"upper center\")\n",
    "plt.show()\n",
    "\n"
   ]
  },
  {
   "cell_type": "code",
   "execution_count": 499,
   "metadata": {
    "collapsed": false
   },
   "outputs": [
    {
     "name": "stdout",
     "output_type": "stream",
     "text": [
      "[[ 0.04330709  0.03149606  0.03529412 ...,  0.11372549  0.13333333\n",
      "   0.14901961]\n",
      " [ 0.03149606  0.03937008  0.03529412 ...,  0.11372549  0.12156863\n",
      "   0.14117647]\n",
      " [ 0.02755906  0.03543307  0.04705882 ...,  0.09803922  0.09803922\n",
      "   0.08627451]\n",
      " ..., \n",
      " [ 0.18110236  0.18110236  0.15294118 ...,  0.99607843  0.99607843\n",
      "   0.99607843]\n",
      " [ 0.19291339  0.1496063   0.1254902  ...,  1.          0.99607843\n",
      "   0.99607843]\n",
      " [ 0.17716535  0.2007874   0.18823529 ...,  0.88627451  0.91764706\n",
      "   0.93333333]]\n"
     ]
    }
   ],
   "source": [
    "print X_train"
   ]
  },
  {
   "cell_type": "code",
   "execution_count": 500,
   "metadata": {
    "collapsed": false
   },
   "outputs": [
    {
     "name": "stdout",
     "output_type": "stream",
     "text": [
      "[[ 0.04330709  0.03149606  0.03529412 ...,  0.11372549  0.13333333\n",
      "   0.14901961]\n",
      " [ 0.03149606  0.03937008  0.03529412 ...,  0.11372549  0.12156863\n",
      "   0.14117647]\n",
      " [ 0.02755906  0.03543307  0.04705882 ...,  0.09803922  0.09803922\n",
      "   0.08627451]\n",
      " ..., \n",
      " [ 0.18110236  0.18110236  0.15294118 ...,  0.99607843  0.99607843\n",
      "   0.99607843]\n",
      " [ 0.19291339  0.1496063   0.1254902  ...,  1.          0.99607843\n",
      "   0.99607843]\n",
      " [ 0.17716535  0.2007874   0.18823529 ...,  0.88627451  0.91764706\n",
      "   0.93333333]]\n",
      "[[ 0.03174603  0.03162055  0.02390438 ...,  0.14173228  0.15686275\n",
      "   0.16535433]\n",
      " [ 0.02777778  0.03557312  0.07569721 ...,  0.14173228  0.14117647\n",
      "   0.13385827]\n",
      " [ 0.00396825  0.00790514  0.01195219 ...,  0.1023622   0.09019608\n",
      "   0.07874016]\n",
      " ..., \n",
      " [ 0.07539683  0.07509881  0.09561753 ...,  0.18897638  0.18431373\n",
      "   0.17322835]\n",
      " [ 0.0515873   0.05533597  0.05976096 ...,  0.0984252   0.09803922\n",
      "   0.09448819]\n",
      " [ 0.37698413  0.76284585  0.71314741 ...,  0.31889764  0.29803922\n",
      "   0.28346457]]\n",
      "0.819659442724\n",
      "0.97213622291\n",
      "0.819659442724\n",
      "0.97213622291\n",
      "0.979102167183\n"
     ]
    }
   ],
   "source": [
    "scaler = MinMaxScaler()\n",
    "X_train = scaler.fit_transform(X_train)\n",
    "print X_train\n",
    "X_test = MinMaxScaler().fit_transform(X_test)\n",
    "print X_test\n",
    "\n",
    "print mlps[0].score(X_test, y_test)\n",
    "print mlps[1].score(X_test, y_test)\n",
    "print mlps[2].score(X_test, y_test)\n",
    "print mlps[3].score(X_test, y_test)\n",
    "print mlps[4].score(X_test, y_test)\n",
    "\n"
   ]
  },
  {
   "cell_type": "code",
   "execution_count": 542,
   "metadata": {
    "collapsed": false
   },
   "outputs": [
    {
     "name": "stdout",
     "output_type": "stream",
     "text": [
      "[[  1.07690928e-04   2.23549744e-07   5.82647599e-06 ...,   9.12414830e-04\n",
      "    1.95499182e-07   8.23952126e-01]\n",
      " [  1.87674450e-16   9.17897695e-20   5.38122057e-28 ...,   6.57337734e-21\n",
      "    6.45404694e-32   9.99999903e-01]\n",
      " [  3.14120189e-23   4.32402896e-22   1.55620991e-33 ...,   3.30964089e-20\n",
      "    1.44286333e-32   9.99999995e-01]\n",
      " ..., \n",
      " [  9.99999734e-01   5.08646554e-27   8.28162699e-24 ...,   8.59349765e-12\n",
      "    8.09778577e-26   1.35402529e-16]\n",
      " [  9.94242646e-01   2.67575232e-11   2.81022743e-06 ...,   8.40160387e-05\n",
      "    1.09913520e-10   6.07127744e-07]\n",
      " [  9.93023500e-01   1.06812650e-23   8.57888085e-14 ...,   3.11230485e-06\n",
      "    4.47625614e-24   3.62270286e-15]]\n",
      "(1292,)\n"
     ]
    }
   ],
   "source": [
    "from sklearn.metrics import roc_curve, auc  \n",
    "n_classes = 68\n",
    "y_score = np.zeros((5,1292,68))\n",
    "y_score[0] = mlps[0].predict_proba(X_test)\n",
    "y_score[1] = mlps[1].predict_proba(X_test)\n",
    "y_score[2] = mlps[2].predict_proba(X_test)\n",
    "y_score[3] = mlps[3].predict_proba(X_test)\n",
    "y_score[4] = mlps[4].predict_proba(X_test)\n",
    "\n",
    "print y_score[4]\n",
    "print y_test.shape\n",
    "\n",
    "# Compute ROC curve and ROC area for each class\n",
    "fpr = dict()\n",
    "tpr = dict()\n",
    "roc_auc = dict()\n",
    "for i in range(n_classes):\n",
    "    fpr[i], tpr[i], _ = roc_curve(y_test, y_score[3][:, i],pos_label = i+1)\n",
    "    roc_auc[i] = auc(fpr[i], tpr[i])\n",
    "    \n",
    "    "
   ]
  },
  {
   "cell_type": "code",
   "execution_count": 544,
   "metadata": {
    "collapsed": false
   },
   "outputs": [
    {
     "data": {
      "text/plain": [
       "[<matplotlib.lines.Line2D at 0x131281990>]"
      ]
     },
     "execution_count": 544,
     "metadata": {},
     "output_type": "execute_result"
    },
    {
     "data": {
      "image/png": "[encoded data removed]",
      "text/plain": [
       "<matplotlib.figure.Figure at 0x128e3b590>"
      ]
     },
     "metadata": {},
     "output_type": "display_data"
    }
   ],
   "source": [
    "plt.figure(1)\n",
    "plt.plot(fpr[0], tpr[0], label='RT + LR')"
   ]
  },
  {
   "cell_type": "code",
   "execution_count": 520,
   "metadata": {
    "collapsed": false
   },
   "outputs": [
    {
     "name": "stdout",
     "output_type": "stream",
     "text": [
      "[array([[-0.006284  ,  0.01157359, -0.05296488, ...,  0.00644019,\n",
      "         0.02605744,  0.0150437 ],\n",
      "       [-0.02836106, -0.0175688 , -0.00569622, ...,  0.04135069,\n",
      "         0.02536925,  0.01283662],\n",
      "       [ 0.00559049,  0.01372721, -0.02122524, ...,  0.01221343,\n",
      "         0.05182497, -0.03529575],\n",
      "       ..., \n",
      "       [ 0.01474486, -0.01089187,  0.00087339, ..., -0.04679772,\n",
      "         0.02229567, -0.01826875],\n",
      "       [ 0.03687052, -0.00244123, -0.0156651 , ..., -0.03135038,\n",
      "         0.01811498, -0.00354547],\n",
      "       [ 0.01699052, -0.01083693,  0.00937668, ..., -0.0078342 ,\n",
      "         0.04589525,  0.00724985]]), array([[ 0.02075026,  0.13806303, -0.10987755, ...,  0.09887267,\n",
      "         0.03676084, -0.02985451],\n",
      "       [-0.04414587, -0.13472099, -0.11307477, ..., -0.04036091,\n",
      "         0.08519202,  0.14011285],\n",
      "       [-0.02216114,  0.14126463, -0.0693511 , ...,  0.13687222,\n",
      "        -0.06988495,  0.10036402],\n",
      "       ..., \n",
      "       [-0.05397002,  0.05139513, -0.08394876, ...,  0.00392275,\n",
      "         0.10932219, -0.18430337],\n",
      "       [ 0.02476825, -0.11195622,  0.03259416, ...,  0.07986935,\n",
      "        -0.14662408,  0.20371226],\n",
      "       [-0.03161819,  0.11413578, -0.09979602, ..., -0.02983871,\n",
      "        -0.05257547, -0.16368702]]), array([[-0.12564859,  0.00090917, -0.08461128, ...,  0.03940188,\n",
      "        -0.12893573, -0.06854555],\n",
      "       [ 0.00815306, -0.07992609,  0.06779327, ..., -0.01650676,\n",
      "         0.13479241,  0.1096347 ],\n",
      "       [-0.17289268,  0.0051452 ,  0.16016996, ..., -0.16911413,\n",
      "         0.11392046,  0.06211919],\n",
      "       ..., \n",
      "       [-0.02046483,  0.10658446, -0.04350572, ..., -0.04520243,\n",
      "        -0.111232  ,  0.00280286],\n",
      "       [-0.01815225,  0.04540658, -0.12386931, ..., -0.04399886,\n",
      "         0.14220331,  0.04086879],\n",
      "       [ 0.08502857, -0.17814003, -0.08562806, ...,  0.36155055,\n",
      "        -0.16018076, -0.26365715]])]\n",
      "(128, 128)\n"
     ]
    },
    {
     "data": {
      "text/plain": [
       "<matplotlib.image.AxesImage at 0x17a5df9d0>"
      ]
     },
     "execution_count": 520,
     "metadata": {},
     "output_type": "execute_result"
    },
    {
     "data": {
      "image/png": "[encoded data removed]",
      "text/plain": [
       "<matplotlib.figure.Figure at 0x123d565d0>"
      ]
     },
     "metadata": {},
     "output_type": "display_data"
    }
   ],
   "source": [
    "print mlps[0].coefs_\n",
    "print np.array(mlps[4].coefs_)[1].shape\n",
    "plt.imshow(np.array(mlps[0].coefs_)[1], interpolation='nearest')"
   ]
  },
  {
   "cell_type": "code",
   "execution_count": 172,
   "metadata": {
    "collapsed": false
   },
   "outputs": [
    {
     "name": "stdout",
     "output_type": "stream",
     "text": [
      "10262 1292\n",
      "[[[[ 12   9   9 ...,  20  13  11]\n",
      "   [ 11  12   7 ...,  28  17  11]\n",
      "   [ 11   9   8 ...,  33  23  19]\n",
      "   ..., \n",
      "   [  7   7   7 ...,  29  30  32]\n",
      "   [  7   7   7 ...,  27  33  35]\n",
      "   [  6   6   5 ...,  29  34  38]]]\n",
      "\n",
      "\n",
      " [[[  9  11   9 ...,  21  14  10]\n",
      "   [ 10   9   6 ...,  28  20  17]\n",
      "   [ 10   9   5 ...,  33  23  18]\n",
      "   ..., \n",
      "   [  6   6   6 ...,  30  29  33]\n",
      "   [  6   7   7 ...,  28  31  35]\n",
      "   [  8   7   7 ...,  29  31  36]]]\n",
      "\n",
      "\n",
      " [[[  8  10  12 ...,  26  24  17]\n",
      "   [  8  11  12 ...,  32  27  21]\n",
      "   [  7  10   9 ...,  40  36  24]\n",
      "   ..., \n",
      "   [  7   6   6 ...,  32  32  30]\n",
      "   [  7   7   7 ...,  30  26  27]\n",
      "   [  7   7   7 ...,  25  25  22]]]\n",
      "\n",
      "\n",
      " ..., \n",
      " [[[ 47  47  39 ..., 101 113 132]\n",
      "   [ 49  47  33 ...,  90 117 126]\n",
      "   [ 50  46  35 ...,  84 119 123]\n",
      "   ..., \n",
      "   [ 35  38  40 ..., 254 254 254]\n",
      "   [ 32  35  37 ..., 254 254 254]\n",
      "   [ 33  35  35 ..., 254 254 254]]]\n",
      "\n",
      "\n",
      " [[[ 50  39  32 ...,  20  62 106]\n",
      "   [ 49  41  30 ...,  19  74 120]\n",
      "   [ 49  42  38 ...,  15  66 130]\n",
      "   ..., \n",
      "   [ 32  34  34 ..., 215 208 200]\n",
      "   [ 34  32  29 ..., 249 245 240]\n",
      "   [ 37  33  33 ..., 255 254 254]]]\n",
      "\n",
      "\n",
      " [[[ 46  52  48 ..., 117 107 125]\n",
      "   [ 49  47  50 ..., 111 104 118]\n",
      "   [ 51  49  49 ..., 114 111 112]\n",
      "   ..., \n",
      "   [ 38  35  36 ..., 254 254 255]\n",
      "   [ 43  39  34 ..., 251 253 253]\n",
      "   [ 45  41  37 ..., 226 234 238]]]]\n",
      "(1292, 1, 64, 64)\n",
      "(10262,)\n",
      "(1292,)\n",
      "uint8\n"
     ]
    }
   ],
   "source": [
    "N_train = X_train.shape[0]\n",
    "N_test = X_test.shape[0]\n",
    "print N_train, N_test\n",
    "X_train = X_train.astype(np.uint8)\n",
    "y_train = y_train.astype(np.uint8)\n",
    "X_test = X_test.astype(np.uint8)\n",
    "y_test = y_test.astype(np.uint8)\n",
    "\n",
    "X_train = X_train.reshape((N_train,1,64,64))\n",
    "X_test = X_test.reshape((N_test,1,64,64))\n",
    "\n",
    "print X_train\n",
    "print X_test.shape\n",
    "print y_train.shape\n",
    "print y_test.shape\n",
    "print X_train.dtype"
   ]
  },
  {
   "cell_type": "code",
   "execution_count": null,
   "metadata": {
    "collapsed": true
   },
   "outputs": [],
   "source": []
  },
  {
   "cell_type": "code",
   "execution_count": 66,
   "metadata": {
    "collapsed": true
   },
   "outputs": [],
   "source": [
    "# http://deepdish.io/2015/04/28/creating-lmdb-in-python/\n",
    "def load_data_into_lmdb(lmdb_name, features, labels=None):\n",
    "    env = lmdb.open(lmdb_name, map_size=features.nbytes*2)\n",
    "    \n",
    "    features = features[:,:,None,None]\n",
    "    for i in range(features.shape[0]):\n",
    "        datum = caffe.proto.caffe_pb2.Datum()\n",
    "        \n",
    "        datum.channels = features.shape[1]\n",
    "        datum.height = 64\n",
    "        datum.width = 64\n",
    "        \n",
    "        if features.dtype == np.uint8:\n",
    "            datum.data = features[i].tostring()\n",
    "        elif features.dtype == np.float: \n",
    "            datum.float_data.extend(features[i].flat)\n",
    "        else:\n",
    "            raise Exception(\"features.dtype unknown.\")\n",
    "        \n",
    "        if labels is not None:\n",
    "            datum.label = int(labels[i])\n",
    "        \n",
    "        str_id = '{:08}'.format(i)\n",
    "        with env.begin(write=True) as txn:\n",
    "            txn.put(str_id, datum.SerializeToString())"
   ]
  },
  {
   "cell_type": "code",
   "execution_count": 67,
   "metadata": {
    "collapsed": false
   },
   "outputs": [],
   "source": [
    "load_data_into_lmdb(\"dataset/train_data_lmdb\", X_train, y_train)\n",
    "load_data_into_lmdb(\"dataset/test_data_lmdb\", X_test, y_test)"
   ]
  },
  {
   "cell_type": "code",
   "execution_count": 68,
   "metadata": {
    "collapsed": true
   },
   "outputs": [],
   "source": [
    "def get_data_for_case_from_lmdb(lmdb_name, id):\n",
    "    lmdb_env = lmdb.open(lmdb_name, readonly=True)\n",
    "    lmdb_txn = lmdb_env.begin()\n",
    "\n",
    "    raw_datum = lmdb_txn.get(id)\n",
    "    datum = caffe.proto.caffe_pb2.Datum()\n",
    "    datum.ParseFromString(raw_datum)\n",
    "    \n",
    "    feature = caffe.io.datum_to_array(datum)\n",
    "    label = datum.label\n",
    "\n",
    "    return (label, feature)\n"
   ]
  },
  {
   "cell_type": "code",
   "execution_count": 69,
   "metadata": {
    "collapsed": false
   },
   "outputs": [
    {
     "data": {
      "text/plain": [
       "(68, array([[[ 9, 11,  9, ..., 21, 14, 10],\n",
       "         [10,  9,  6, ..., 28, 20, 17],\n",
       "         [10,  9,  5, ..., 33, 23, 18],\n",
       "         ..., \n",
       "         [ 6,  6,  6, ..., 30, 29, 33],\n",
       "         [ 6,  7,  7, ..., 28, 31, 35],\n",
       "         [ 8,  7,  7, ..., 29, 31, 36]]], dtype=uint8))"
      ]
     },
     "execution_count": 69,
     "metadata": {},
     "output_type": "execute_result"
    }
   ],
   "source": [
    "get_data_for_case_from_lmdb(\"dataset/train_data_lmdb\", \"00000001\")\n"
   ]
  },
  {
   "cell_type": "code",
   "execution_count": 18,
   "metadata": {
    "collapsed": false
   },
   "outputs": [],
   "source": [
    "from pylab import *\n",
    "import tempfile\n",
    "dummy_data = L.DummyData(shape=dict(dim=[1, 3, 227, 227]))\n",
    "imagenet_net_filename = caffenet(data=dummy_data, train=False)\n",
    "imagenet_net = caffe.Net(imagenet_net_filename, weights, caffe.TEST)\n"
   ]
  },
  {
   "cell_type": "code",
   "execution_count": null,
   "metadata": {
    "collapsed": true
   },
   "outputs": [],
   "source": [
    "def style_net(train=True, learn_all=False, subset=None):\n",
    "    if subset is None:\n",
    "        subset = 'train' if train else 'test'\n",
    "    source = caffe_root + 'data/flickr_style/%s.txt' % subset\n",
    "    transform_param = dict(mirror=train, crop_size=227,\n",
    "        mean_file=caffe_root + 'data/ilsvrc12/imagenet_mean.binaryproto')\n",
    "    style_data, style_label = L.ImageData(\n",
    "        transform_param=transform_param, source=source,\n",
    "        batch_size=50, new_height=256, new_width=256, ntop=2)\n",
    "    return caffenet(data=style_data, label=style_label, train=train,\n",
    "                    num_classes=NUM_STYLE_LABELS,\n",
    "                    classifier_name='fc8_flickr',\n",
    "                    learn_all=learn_all)"
   ]
  },
  {
   "cell_type": "code",
   "execution_count": 3,
   "metadata": {
    "collapsed": false
   },
   "outputs": [
    {
     "name": "stdout",
     "output_type": "stream",
     "text": [
      "Downloading 2000 images with 7 workers...\n",
      "Writing train/val for 0 successfully downloaded images.\n"
     ]
    }
   ],
   "source": [
    "# Download just a small subset of the data for this exercise.\n",
    "# (2000 of 80K images, 5 of 20 labels.)\n",
    "# To download the entire dataset, set `full_dataset = True`.\n",
    "full_dataset = False\n",
    "if full_dataset:\n",
    "    NUM_STYLE_IMAGES = NUM_STYLE_LABELS = -1\n",
    "else:\n",
    "    NUM_STYLE_IMAGES = 2000\n",
    "    NUM_STYLE_LABELS = 5\n",
    "\n",
    "# This downloads the ilsvrc auxiliary data (mean file, etc),\n",
    "# and a subset of 2000 images for the style recognition task.\n",
    "import os\n",
    "os.chdir(caffe_root)  # run scripts from caffe root\n",
    "!python examples/finetune_flickr_style/assemble_data.py \\\n",
    "    --workers=-1  --seed=1701 \\\n",
    "    --images=$NUM_STYLE_IMAGES  --label=$NUM_STYLE_LABELS\n",
    "# back to examples\n",
    "os.chdir('examples')"
   ]
  },
  {
   "cell_type": "code",
   "execution_count": null,
   "metadata": {
    "collapsed": true
   },
   "outputs": [],
   "source": []
  }
 ],
 "metadata": {
  "anaconda-cloud": {},
  "kernelspec": {
   "display_name": "Python [python2]",
   "language": "python",
   "name": "Python [python2]"
  },
  "language_info": {
   "codemirror_mode": {
    "name": "ipython",
    "version": 2
   },
   "file_extension": ".py",
   "mimetype": "text/x-python",
   "name": "python",
   "nbconvert_exporter": "python",
   "pygments_lexer": "ipython2",
   "version": "2.7.13"
  }
 },
 "nbformat": 4,
 "nbformat_minor": 0
}
